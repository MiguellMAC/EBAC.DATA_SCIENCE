{
 "cells": [
  {
   "cell_type": "markdown",
   "metadata": {
    "id": "cJdp3B_SGk7T"
   },
   "source": [
    "# **MÓDULO 15 - Exercício**\n",
    "# Análise  - A segunda etapa da Pré Modelagem"
   ]
  },
  {
   "cell_type": "markdown",
   "metadata": {
    "id": "1OirkvkeGuGg"
   },
   "source": [
    "# 1) O primeiro exercício é o de salvar a base que criaram na atividade do módulo anterior em csv e abrir ela neste arquivo.\n",
    "Igual fizemos no início do módulo atual no início da primeira aula."
   ]
  },
  {
   "cell_type": "code",
   "execution_count": 4,
   "metadata": {
    "id": "5ejO5WSgnhFs"
   },
   "outputs": [],
   "source": [
    "import seaborn as sns\n",
    "import matplotlib.pyplot as plt\n",
    "import pandas as pd\n",
    "import numpy as np\n",
    "import plotly.express as px\n",
    "import os\n",
    "from IPython.core.interactiveshell import InteractiveShell\n",
    "InteractiveShell.ast_node_interactivity = \"all\"  # Exibe todas as expressões da célula"
   ]
  },
  {
   "cell_type": "code",
   "execution_count": 5,
   "metadata": {
    "id": "UD3a_pq7py5G"
   },
   "outputs": [
    {
     "name": "stdout",
     "output_type": "stream",
     "text": [
      "Arquivo encontrado!\n"
     ]
    },
    {
     "data": {
      "text/html": [
       "<div>\n",
       "<style scoped>\n",
       "    .dataframe tbody tr th:only-of-type {\n",
       "        vertical-align: middle;\n",
       "    }\n",
       "\n",
       "    .dataframe tbody tr th {\n",
       "        vertical-align: top;\n",
       "    }\n",
       "\n",
       "    .dataframe thead th {\n",
       "        text-align: right;\n",
       "    }\n",
       "</style>\n",
       "<table border=\"1\" class=\"dataframe\">\n",
       "  <thead>\n",
       "    <tr style=\"text-align: right;\">\n",
       "      <th></th>\n",
       "      <th>Genero</th>\n",
       "      <th>Idoso</th>\n",
       "      <th>Casado</th>\n",
       "      <th>Dependentes</th>\n",
       "      <th>Tempo_como_Cliente</th>\n",
       "      <th>Servico_Telefone</th>\n",
       "      <th>Servico_Internet</th>\n",
       "      <th>Servico_Seguranca</th>\n",
       "      <th>Suporte_Tecnico</th>\n",
       "      <th>StreamingTV</th>\n",
       "      <th>Tipo_Contrato</th>\n",
       "      <th>Método_pagamento</th>\n",
       "      <th>Pagamento_Mensal</th>\n",
       "      <th>Total_Pago</th>\n",
       "      <th>Churn</th>\n",
       "    </tr>\n",
       "  </thead>\n",
       "  <tbody>\n",
       "    <tr>\n",
       "      <th>0</th>\n",
       "      <td>FEMALE</td>\n",
       "      <td>False</td>\n",
       "      <td>True</td>\n",
       "      <td>False</td>\n",
       "      <td>1</td>\n",
       "      <td>No</td>\n",
       "      <td>DSL</td>\n",
       "      <td>NO</td>\n",
       "      <td>NO</td>\n",
       "      <td>NO</td>\n",
       "      <td>MONTH-TO-MONTH</td>\n",
       "      <td>ELECTRONIC CHECK</td>\n",
       "      <td>29.850000</td>\n",
       "      <td>29.85</td>\n",
       "      <td>No</td>\n",
       "    </tr>\n",
       "    <tr>\n",
       "      <th>1</th>\n",
       "      <td>MALE</td>\n",
       "      <td>False</td>\n",
       "      <td>False</td>\n",
       "      <td>False</td>\n",
       "      <td>34</td>\n",
       "      <td>Yes</td>\n",
       "      <td>DSL</td>\n",
       "      <td>YES</td>\n",
       "      <td>NO</td>\n",
       "      <td>NO</td>\n",
       "      <td>ONE YEAR</td>\n",
       "      <td>MAILED CHECK</td>\n",
       "      <td>56.950000</td>\n",
       "      <td>1889.50</td>\n",
       "      <td>No</td>\n",
       "    </tr>\n",
       "    <tr>\n",
       "      <th>2</th>\n",
       "      <td>MALE</td>\n",
       "      <td>False</td>\n",
       "      <td>False</td>\n",
       "      <td>False</td>\n",
       "      <td>2</td>\n",
       "      <td>Yes</td>\n",
       "      <td>DSL</td>\n",
       "      <td>YES</td>\n",
       "      <td>NO</td>\n",
       "      <td>NO</td>\n",
       "      <td>MONTH-TO-MONTH</td>\n",
       "      <td>MAILED CHECK</td>\n",
       "      <td>53.850000</td>\n",
       "      <td>108.15</td>\n",
       "      <td>Yes</td>\n",
       "    </tr>\n",
       "    <tr>\n",
       "      <th>3</th>\n",
       "      <td>MALE</td>\n",
       "      <td>False</td>\n",
       "      <td>False</td>\n",
       "      <td>False</td>\n",
       "      <td>45</td>\n",
       "      <td>No</td>\n",
       "      <td>DSL</td>\n",
       "      <td>YES</td>\n",
       "      <td>YES</td>\n",
       "      <td>NO</td>\n",
       "      <td>ONE YEAR</td>\n",
       "      <td>BANK TRANSFER (AUTOMATIC)</td>\n",
       "      <td>40.269444</td>\n",
       "      <td>1840.75</td>\n",
       "      <td>No</td>\n",
       "    </tr>\n",
       "    <tr>\n",
       "      <th>4</th>\n",
       "      <td>FEMALE</td>\n",
       "      <td>False</td>\n",
       "      <td>False</td>\n",
       "      <td>False</td>\n",
       "      <td>52</td>\n",
       "      <td>Yes</td>\n",
       "      <td>NO</td>\n",
       "      <td>NO INTERNET SERVICE</td>\n",
       "      <td>NO INTERNET SERVICE</td>\n",
       "      <td>NO INTERNET SERVICE</td>\n",
       "      <td>ONE YEAR</td>\n",
       "      <td>MAILED CHECK</td>\n",
       "      <td>21.220856</td>\n",
       "      <td>1022.95</td>\n",
       "      <td>No</td>\n",
       "    </tr>\n",
       "    <tr>\n",
       "      <th>5</th>\n",
       "      <td>MALE</td>\n",
       "      <td>False</td>\n",
       "      <td>False</td>\n",
       "      <td>True</td>\n",
       "      <td>71</td>\n",
       "      <td>Yes</td>\n",
       "      <td>FIBER OPTIC</td>\n",
       "      <td>YES</td>\n",
       "      <td>NO</td>\n",
       "      <td>YES</td>\n",
       "      <td>TWO YEAR</td>\n",
       "      <td>BANK TRANSFER (AUTOMATIC)</td>\n",
       "      <td>91.772642</td>\n",
       "      <td>7382.25</td>\n",
       "      <td>No</td>\n",
       "    </tr>\n",
       "    <tr>\n",
       "      <th>6</th>\n",
       "      <td>FEMALE</td>\n",
       "      <td>False</td>\n",
       "      <td>True</td>\n",
       "      <td>True</td>\n",
       "      <td>10</td>\n",
       "      <td>Yes</td>\n",
       "      <td>DSL</td>\n",
       "      <td>NO</td>\n",
       "      <td>YES</td>\n",
       "      <td>NO</td>\n",
       "      <td>MONTH-TO-MONTH</td>\n",
       "      <td>CREDIT CARD (AUTOMATIC)</td>\n",
       "      <td>64.370870</td>\n",
       "      <td>528.35</td>\n",
       "      <td>Yes</td>\n",
       "    </tr>\n",
       "    <tr>\n",
       "      <th>7</th>\n",
       "      <td>FEMALE</td>\n",
       "      <td>False</td>\n",
       "      <td>False</td>\n",
       "      <td>False</td>\n",
       "      <td>21</td>\n",
       "      <td>Yes</td>\n",
       "      <td>FIBER OPTIC</td>\n",
       "      <td>NO</td>\n",
       "      <td>NO</td>\n",
       "      <td>NO</td>\n",
       "      <td>MONTH-TO-MONTH</td>\n",
       "      <td>ELECTRONIC CHECK</td>\n",
       "      <td>91.772642</td>\n",
       "      <td>1862.90</td>\n",
       "      <td>No</td>\n",
       "    </tr>\n",
       "    <tr>\n",
       "      <th>8</th>\n",
       "      <td>MALE</td>\n",
       "      <td>True</td>\n",
       "      <td>False</td>\n",
       "      <td>False</td>\n",
       "      <td>1</td>\n",
       "      <td>No</td>\n",
       "      <td>DSL</td>\n",
       "      <td>NO</td>\n",
       "      <td>NO</td>\n",
       "      <td>NO</td>\n",
       "      <td>MONTH-TO-MONTH</td>\n",
       "      <td>ELECTRONIC CHECK</td>\n",
       "      <td>40.269444</td>\n",
       "      <td>39.65</td>\n",
       "      <td>Yes</td>\n",
       "    </tr>\n",
       "    <tr>\n",
       "      <th>9</th>\n",
       "      <td>MALE</td>\n",
       "      <td>False</td>\n",
       "      <td>True</td>\n",
       "      <td>False</td>\n",
       "      <td>12</td>\n",
       "      <td>Yes</td>\n",
       "      <td>NO</td>\n",
       "      <td>NO INTERNET SERVICE</td>\n",
       "      <td>NO INTERNET SERVICE</td>\n",
       "      <td>NO INTERNET SERVICE</td>\n",
       "      <td>ONE YEAR</td>\n",
       "      <td>BANK TRANSFER (AUTOMATIC)</td>\n",
       "      <td>21.220856</td>\n",
       "      <td>202.25</td>\n",
       "      <td>No</td>\n",
       "    </tr>\n",
       "  </tbody>\n",
       "</table>\n",
       "</div>"
      ],
      "text/plain": [
       "   Genero  Idoso  Casado  Dependentes  Tempo_como_Cliente Servico_Telefone  \\\n",
       "0  FEMALE  False    True        False                   1               No   \n",
       "1    MALE  False   False        False                  34              Yes   \n",
       "2    MALE  False   False        False                   2              Yes   \n",
       "3    MALE  False   False        False                  45               No   \n",
       "4  FEMALE  False   False        False                  52              Yes   \n",
       "5    MALE  False   False         True                  71              Yes   \n",
       "6  FEMALE  False    True         True                  10              Yes   \n",
       "7  FEMALE  False   False        False                  21              Yes   \n",
       "8    MALE   True   False        False                   1               No   \n",
       "9    MALE  False    True        False                  12              Yes   \n",
       "\n",
       "  Servico_Internet    Servico_Seguranca      Suporte_Tecnico  \\\n",
       "0              DSL                   NO                   NO   \n",
       "1              DSL                  YES                   NO   \n",
       "2              DSL                  YES                   NO   \n",
       "3              DSL                  YES                  YES   \n",
       "4               NO  NO INTERNET SERVICE  NO INTERNET SERVICE   \n",
       "5      FIBER OPTIC                  YES                   NO   \n",
       "6              DSL                   NO                  YES   \n",
       "7      FIBER OPTIC                   NO                   NO   \n",
       "8              DSL                   NO                   NO   \n",
       "9               NO  NO INTERNET SERVICE  NO INTERNET SERVICE   \n",
       "\n",
       "           StreamingTV   Tipo_Contrato           Método_pagamento  \\\n",
       "0                   NO  MONTH-TO-MONTH           ELECTRONIC CHECK   \n",
       "1                   NO        ONE YEAR               MAILED CHECK   \n",
       "2                   NO  MONTH-TO-MONTH               MAILED CHECK   \n",
       "3                   NO        ONE YEAR  BANK TRANSFER (AUTOMATIC)   \n",
       "4  NO INTERNET SERVICE        ONE YEAR               MAILED CHECK   \n",
       "5                  YES        TWO YEAR  BANK TRANSFER (AUTOMATIC)   \n",
       "6                   NO  MONTH-TO-MONTH    CREDIT CARD (AUTOMATIC)   \n",
       "7                   NO  MONTH-TO-MONTH           ELECTRONIC CHECK   \n",
       "8                   NO  MONTH-TO-MONTH           ELECTRONIC CHECK   \n",
       "9  NO INTERNET SERVICE        ONE YEAR  BANK TRANSFER (AUTOMATIC)   \n",
       "\n",
       "   Pagamento_Mensal  Total_Pago Churn  \n",
       "0         29.850000       29.85    No  \n",
       "1         56.950000     1889.50    No  \n",
       "2         53.850000      108.15   Yes  \n",
       "3         40.269444     1840.75    No  \n",
       "4         21.220856     1022.95    No  \n",
       "5         91.772642     7382.25    No  \n",
       "6         64.370870      528.35   Yes  \n",
       "7         91.772642     1862.90    No  \n",
       "8         40.269444       39.65   Yes  \n",
       "9         21.220856      202.25    No  "
      ]
     },
     "execution_count": 5,
     "metadata": {},
     "output_type": "execute_result"
    }
   ],
   "source": [
    "caminho = r'C:\\Users\\MIGUEL\\OneDrive\\Programação\\EBAC\\AtividadesEBAC\\EBAC.DATA_SCIENCE\\Atividade_Cap15\\CHURN_TELECON_MOD15'\n",
    "\n",
    "if os.path.exists(caminho):\n",
    "    print('Arquivo encontrado!')\n",
    "else:\n",
    "    print('Arquivo não encontrado.')\n",
    "\n",
    "df = pd.read_csv(caminho)\n",
    "df.head(10)"
   ]
  },
  {
   "cell_type": "markdown",
   "metadata": {
    "id": "3O70nJb2HNP2"
   },
   "source": [
    "# 2) Comece pela análise univariada:\n",
    "\n",
    "A) Utilize a função describe no seu dataframe, veja os insights que consegue retirar.\n",
    "\n",
    "B) Já é possível identificar variáveis com possíveis outliers? Se sim, quais?\n",
    "\n",
    "C) Plot gráficos que considerar importante para completar sua análise univariada. (Lembrando que sua variável preditora é o churn). Não se esqueça de trazer insights de cada gráfico plotado. Utilize pelo menos 4 variáveis distintas.\n",
    "\n",
    "D) Verifique se os dados das variáveis Booleanas são balanceados ou não."
   ]
  },
  {
   "cell_type": "markdown",
   "metadata": {},
   "source": [
    "A) Resposta:"
   ]
  },
  {
   "cell_type": "code",
   "execution_count": 10,
   "metadata": {
    "id": "unW8WDrlGBFE"
   },
   "outputs": [
    {
     "data": {
      "text/html": [
       "<div>\n",
       "<style scoped>\n",
       "    .dataframe tbody tr th:only-of-type {\n",
       "        vertical-align: middle;\n",
       "    }\n",
       "\n",
       "    .dataframe tbody tr th {\n",
       "        vertical-align: top;\n",
       "    }\n",
       "\n",
       "    .dataframe thead th {\n",
       "        text-align: right;\n",
       "    }\n",
       "</style>\n",
       "<table border=\"1\" class=\"dataframe\">\n",
       "  <thead>\n",
       "    <tr style=\"text-align: right;\">\n",
       "      <th></th>\n",
       "      <th>Tempo_como_Cliente</th>\n",
       "      <th>Pagamento_Mensal</th>\n",
       "      <th>Total_Pago</th>\n",
       "    </tr>\n",
       "  </thead>\n",
       "  <tbody>\n",
       "    <tr>\n",
       "      <th>count</th>\n",
       "      <td>2488.000000</td>\n",
       "      <td>2488.000000</td>\n",
       "      <td>2488.000000</td>\n",
       "    </tr>\n",
       "    <tr>\n",
       "      <th>mean</th>\n",
       "      <td>32.352090</td>\n",
       "      <td>65.516430</td>\n",
       "      <td>2290.087178</td>\n",
       "    </tr>\n",
       "    <tr>\n",
       "      <th>std</th>\n",
       "      <td>24.636885</td>\n",
       "      <td>28.772373</td>\n",
       "      <td>2264.585643</td>\n",
       "    </tr>\n",
       "    <tr>\n",
       "      <th>min</th>\n",
       "      <td>0.000000</td>\n",
       "      <td>18.400000</td>\n",
       "      <td>18.800000</td>\n",
       "    </tr>\n",
       "    <tr>\n",
       "      <th>25%</th>\n",
       "      <td>8.000000</td>\n",
       "      <td>44.300000</td>\n",
       "      <td>402.337500</td>\n",
       "    </tr>\n",
       "    <tr>\n",
       "      <th>50%</th>\n",
       "      <td>29.000000</td>\n",
       "      <td>69.350000</td>\n",
       "      <td>1402.900000</td>\n",
       "    </tr>\n",
       "    <tr>\n",
       "      <th>75%</th>\n",
       "      <td>56.000000</td>\n",
       "      <td>89.850000</td>\n",
       "      <td>3867.162500</td>\n",
       "    </tr>\n",
       "    <tr>\n",
       "      <th>max</th>\n",
       "      <td>72.000000</td>\n",
       "      <td>118.650000</td>\n",
       "      <td>8564.750000</td>\n",
       "    </tr>\n",
       "  </tbody>\n",
       "</table>\n",
       "</div>"
      ],
      "text/plain": [
       "       Tempo_como_Cliente  Pagamento_Mensal   Total_Pago\n",
       "count         2488.000000       2488.000000  2488.000000\n",
       "mean            32.352090         65.516430  2290.087178\n",
       "std             24.636885         28.772373  2264.585643\n",
       "min              0.000000         18.400000    18.800000\n",
       "25%              8.000000         44.300000   402.337500\n",
       "50%             29.000000         69.350000  1402.900000\n",
       "75%             56.000000         89.850000  3867.162500\n",
       "max             72.000000        118.650000  8564.750000"
      ]
     },
     "execution_count": 10,
     "metadata": {},
     "output_type": "execute_result"
    },
    {
     "name": "stdout",
     "output_type": "stream",
     "text": [
      "<class 'pandas.core.frame.DataFrame'>\n",
      "RangeIndex: 2488 entries, 0 to 2487\n",
      "Data columns (total 15 columns):\n",
      " #   Column              Non-Null Count  Dtype  \n",
      "---  ------              --------------  -----  \n",
      " 0   Genero              2488 non-null   object \n",
      " 1   Idoso               2488 non-null   bool   \n",
      " 2   Casado              2488 non-null   bool   \n",
      " 3   Dependentes         2488 non-null   bool   \n",
      " 4   Tempo_como_Cliente  2488 non-null   int64  \n",
      " 5   Servico_Telefone    2488 non-null   object \n",
      " 6   Servico_Internet    2488 non-null   object \n",
      " 7   Servico_Seguranca   2488 non-null   object \n",
      " 8   Suporte_Tecnico     2488 non-null   object \n",
      " 9   StreamingTV         2488 non-null   object \n",
      " 10  Tipo_Contrato       2488 non-null   object \n",
      " 11  Método_pagamento    2488 non-null   object \n",
      " 12  Pagamento_Mensal    2488 non-null   float64\n",
      " 13  Total_Pago          2488 non-null   float64\n",
      " 14  Churn               2488 non-null   object \n",
      "dtypes: bool(3), float64(2), int64(1), object(9)\n",
      "memory usage: 240.7+ KB\n"
     ]
    }
   ],
   "source": [
    "# A)\n",
    "df.describe()\n",
    "# A príncipio não há fortes indícios de outliers, na culuna de pagamento mensal. Mas a coluna de tempo como cliente (Por ter seu mínimo como 0 e seu 25% um valor bem baixo comparado ao seu 50%) e a coluna total pago () por ter a média bem diferente do seu 50%) mostram que uma análise mais aprofudada é recomendada.\n",
    "df.info()"
   ]
  },
  {
   "cell_type": "markdown",
   "metadata": {},
   "source": [
    "B) Resposta:\n",
    "\n",
    "\n",
    "Com base no describe aparentemente pode ser possivel a existencia de outliers na coluna Total Pago, pela média ser bem diferente da mediana, ja que no caso, a mediana é metade da média, ou seja, é próvavel que tenham outliers com valores muito acima. E o tempo_como_cliente indica que é importante fazer análises para verificar, visto que o min é 0, e o 25% é bem baixo comparado a média, todavia deve ser tratada com cautela já que um valor baixo não significa necessariamente que é um outlier, pode ser um caso real, logo uma análise mais aprofundada se faz necessária. Vale ressaltar que, se faz necessário tratamento de qualquer clinte que tivesse, ao mesmo tempo, 0 na coluna tempo_como_cliente, e o valor Total pago ser maior que o valor de pagamento mensal,visto que, nesse caso, o cliente teria que ter ao menos 1 mês."
   ]
  },
  {
   "cell_type": "markdown",
   "metadata": {},
   "source": [
    "C) Resposta:"
   ]
  },
  {
   "cell_type": "code",
   "execution_count": null,
   "metadata": {},
   "outputs": [
    {
     "data": {
      "application/vnd.plotly.v1+json": {
       "config": {
        "plotlyServerURL": "https://plot.ly"
       },
       "data": [
        {
         "alignmentgroup": "True",
         "boxpoints": "all",
         "hovertemplate": "Tempo_como_Cliente=%{y}<extra></extra>",
         "legendgroup": "",
         "marker": {
          "color": "#3C6EDB"
         },
         "name": "",
         "notched": false,
         "offsetgroup": "",
         "orientation": "v",
         "showlegend": false,
         "type": "box",
         "x0": " ",
         "xaxis": "x",
         "y": [
          1,
          34,
          2,
          45,
          52,
          71,
          10,
          21,
          1,
          12,
          1,
          58,
          49,
          30,
          47,
          1,
          72,
          17,
          71,
          2,
          27,
          1,
          1,
          72,
          5,
          46,
          34,
          11,
          10,
          70,
          17,
          63,
          13,
          49,
          2,
          2,
          52,
          69,
          43,
          15,
          25,
          8,
          60,
          18,
          63,
          66,
          34,
          72,
          47,
          60,
          72,
          18,
          9,
          3,
          47,
          31,
          50,
          10,
          1,
          52,
          64,
          62,
          3,
          56,
          46,
          8,
          30,
          45,
          1,
          11,
          7,
          42,
          49,
          9,
          35,
          48,
          46,
          29,
          30,
          1,
          66,
          65,
          72,
          12,
          71,
          5,
          52,
          25,
          1,
          1,
          38,
          66,
          68,
          5,
          72,
          32,
          43,
          72,
          55,
          52,
          43,
          37,
          64,
          3,
          36,
          10,
          41,
          27,
          56,
          6,
          3,
          7,
          4,
          33,
          27,
          72,
          1,
          71,
          13,
          25,
          67,
          1,
          2,
          43,
          23,
          64,
          57,
          1,
          72,
          8,
          61,
          64,
          71,
          65,
          3,
          1,
          30,
          15,
          8,
          7,
          70,
          62,
          6,
          14,
          22,
          22,
          16,
          10,
          13,
          20,
          2,
          53,
          11,
          69,
          4,
          72,
          58,
          16,
          43,
          2,
          14,
          53,
          32,
          34,
          15,
          7,
          15,
          61,
          1,
          1,
          8,
          33,
          13,
          1,
          20,
          3,
          13,
          40,
          43,
          6,
          69,
          72,
          59,
          20,
          24,
          59,
          72,
          1,
          27,
          14,
          71,
          13,
          44,
          33,
          72,
          1,
          19,
          64,
          2,
          1,
          61,
          29,
          23,
          57,
          72,
          66,
          65,
          8,
          4,
          71,
          1,
          4,
          12,
          24,
          31,
          1,
          30,
          47,
          54,
          50,
          1,
          72,
          29,
          2,
          10,
          18,
          11,
          16,
          72,
          72,
          41,
          65,
          13,
          4,
          41,
          15,
          1,
          42,
          51,
          2,
          1,
          32,
          10,
          67,
          61,
          50,
          2,
          29,
          3,
          13,
          57,
          31,
          45,
          61,
          50,
          19,
          59,
          71,
          16,
          57,
          1,
          20,
          1,
          5,
          52,
          21,
          14,
          5,
          6,
          10,
          1,
          68,
          18,
          22,
          20,
          1,
          8,
          10,
          24,
          35,
          23,
          6,
          12,
          1,
          71,
          35,
          40,
          1,
          23,
          4,
          4,
          68,
          38,
          52,
          32,
          29,
          38,
          48,
          1,
          22,
          43,
          5,
          5,
          51,
          71,
          38,
          24,
          35,
          54,
          72,
          1,
          9,
          69,
          52,
          11,
          2,
          28,
          17,
          35,
          8,
          46,
          7,
          2,
          68,
          43,
          68,
          36,
          63,
          32,
          71,
          66,
          63,
          41,
          1,
          2,
          70,
          23,
          64,
          37,
          17,
          7,
          4,
          21,
          10,
          16,
          64,
          27,
          42,
          5,
          41,
          58,
          47,
          18,
          5,
          23,
          1,
          71,
          72,
          33,
          2,
          24,
          56,
          37,
          43,
          1,
          25,
          61,
          17,
          41,
          1,
          72,
          1,
          48,
          11,
          55,
          42,
          44,
          1,
          27,
          27,
          2,
          19,
          42,
          66,
          33,
          34,
          33,
          23,
          32,
          11,
          69,
          68,
          20,
          72,
          60,
          32,
          1,
          1,
          3,
          46,
          29,
          51,
          48,
          16,
          70,
          40,
          22,
          1,
          5,
          7,
          29,
          44,
          10,
          55,
          52,
          10,
          18,
          68,
          61,
          72,
          2,
          12,
          41,
          26,
          36,
          72,
          35,
          1,
          16,
          49,
          54,
          18,
          36,
          60,
          1,
          52,
          8,
          72,
          64,
          22,
          60,
          28,
          61,
          24,
          28,
          30,
          2,
          1,
          6,
          24,
          4,
          7,
          72,
          70,
          64,
          72,
          44,
          13,
          17,
          1,
          9,
          24,
          1,
          24,
          35,
          7,
          5,
          15,
          11,
          48,
          20,
          72,
          8,
          72,
          15,
          72,
          0,
          1,
          63,
          2,
          2,
          61,
          1,
          22,
          28,
          70,
          5,
          12,
          34,
          71,
          70,
          52,
          69,
          20,
          11,
          2,
          6,
          1,
          20,
          61,
          5,
          56,
          30,
          40,
          28,
          5,
          27,
          12,
          67,
          29,
          55,
          23,
          34,
          52,
          72,
          58,
          35,
          56,
          24,
          70,
          2,
          68,
          1,
          12,
          63,
          33,
          69,
          60,
          72,
          11,
          1,
          10,
          13,
          34,
          39,
          65,
          50,
          15,
          72,
          72,
          55,
          23,
          32,
          56,
          1,
          38,
          11,
          1,
          56,
          3,
          7,
          59,
          7,
          71,
          15,
          71,
          35,
          11,
          60,
          47,
          11,
          56,
          28,
          61,
          31,
          9,
          35,
          2,
          12,
          1,
          4,
          1,
          3,
          1,
          52,
          5,
          72,
          71,
          72,
          46,
          63,
          30,
          1,
          12,
          16,
          4,
          51,
          65,
          16,
          2,
          66,
          46,
          32,
          72,
          38,
          51,
          72,
          65,
          9,
          9,
          66,
          44,
          50,
          15,
          8,
          66,
          57,
          7,
          10,
          62,
          40,
          20,
          7,
          25,
          23,
          66,
          72,
          49,
          43,
          46,
          72,
          10,
          40,
          65,
          31,
          68,
          56,
          10,
          68,
          43,
          1,
          49,
          15,
          20,
          1,
          50,
          2,
          24,
          3,
          1,
          35,
          17,
          8,
          10,
          68,
          45,
          2,
          37,
          4,
          10,
          1,
          65,
          57,
          3,
          2,
          49,
          4,
          70,
          53,
          53,
          1,
          22,
          52,
          65,
          48,
          2,
          3,
          45,
          1,
          61,
          3,
          40,
          1,
          1,
          51,
          2,
          52,
          51,
          1,
          31,
          47,
          3,
          22,
          1,
          72,
          3,
          47,
          72,
          66,
          35,
          29,
          2,
          4,
          25,
          65,
          27,
          29,
          29,
          1,
          20,
          58,
          14,
          72,
          46,
          71,
          32,
          26,
          68,
          2,
          61,
          4,
          3,
          33,
          9,
          22,
          5,
          30,
          65,
          45,
          5,
          25,
          72,
          27,
          32,
          30,
          70,
          42,
          72,
          47,
          2,
          10,
          61,
          5,
          72,
          72,
          3,
          48,
          63,
          27,
          70,
          7,
          0,
          2,
          20,
          66,
          3,
          15,
          72,
          1,
          22,
          3,
          72,
          65,
          11,
          22,
          14,
          41,
          17,
          11,
          15,
          1,
          5,
          33,
          72,
          3,
          2,
          59,
          2,
          71,
          5,
          27,
          1,
          63,
          46,
          72,
          34,
          24,
          72,
          60,
          68,
          8,
          34,
          6,
          2,
          31,
          20,
          1,
          62,
          70,
          10,
          39,
          46,
          6,
          72,
          18,
          71,
          40,
          1,
          58,
          70,
          42,
          34,
          5,
          25,
          2,
          55,
          21,
          70,
          61,
          43,
          47,
          5,
          62,
          16,
          7,
          14,
          60,
          34,
          50,
          38,
          70,
          37,
          4,
          60,
          62,
          1,
          36,
          44,
          55,
          72,
          12,
          13,
          1,
          15,
          65,
          12,
          72,
          72,
          72,
          52,
          2,
          5,
          68,
          62,
          72,
          1,
          66,
          72,
          26,
          64,
          20,
          3,
          22,
          4,
          62,
          5,
          59,
          3,
          72,
          57,
          66,
          60,
          45,
          3,
          15,
          51,
          60,
          33,
          10,
          26,
          6,
          67,
          49,
          1,
          7,
          27,
          37,
          63,
          31,
          50,
          32,
          1,
          63,
          30,
          71,
          53,
          12,
          50,
          2,
          9,
          17,
          56,
          67,
          9,
          4,
          19,
          8,
          71,
          10,
          15,
          72,
          12,
          72,
          1,
          23,
          72,
          26,
          21,
          60,
          12,
          16,
          63,
          22,
          32,
          3,
          13,
          68,
          30,
          16,
          33,
          72,
          4,
          12,
          4,
          0,
          6,
          65,
          15,
          24,
          13,
          24,
          72,
          54,
          3,
          4,
          32,
          35,
          35,
          2,
          8,
          22,
          15,
          22,
          1,
          71,
          4,
          25,
          32,
          7,
          17,
          8,
          56,
          1,
          8,
          7,
          3,
          71,
          2,
          1,
          49,
          58,
          44,
          59,
          71,
          1,
          11,
          62,
          35,
          20,
          40,
          39,
          1,
          72,
          33,
          12,
          1,
          27,
          34,
          56,
          58,
          22,
          10,
          13,
          35,
          34,
          4,
          72,
          2,
          7,
          27,
          4,
          37,
          21,
          53,
          18,
          2,
          32,
          23,
          3,
          71,
          9,
          1,
          18,
          12,
          71,
          64,
          4,
          23,
          39,
          28,
          5,
          45,
          37,
          60,
          8,
          47,
          26,
          3,
          50,
          27,
          8,
          62,
          71,
          66,
          68,
          13,
          56,
          38,
          14,
          16,
          14,
          32,
          8,
          43,
          52,
          3,
          29,
          1,
          12,
          16,
          40,
          5,
          40,
          36,
          5,
          10,
          2,
          23,
          26,
          72,
          34,
          10,
          14,
          23,
          47,
          24,
          49,
          20,
          2,
          2,
          22,
          7,
          1,
          59,
          58,
          41,
          59,
          3,
          32,
          46,
          0,
          2,
          52,
          13,
          11,
          32,
          17,
          16,
          51,
          29,
          70,
          71,
          41,
          1,
          7,
          25,
          67,
          5,
          15,
          20,
          3,
          54,
          42,
          9,
          63,
          69,
          69,
          40,
          60,
          4,
          71,
          37,
          32,
          39,
          38,
          52,
          48,
          70,
          20,
          50,
          19,
          25,
          12,
          39,
          7,
          23,
          27,
          47,
          26,
          14,
          11,
          2,
          26,
          72,
          63,
          71,
          11,
          14,
          13,
          6,
          11,
          18,
          1,
          32,
          29,
          3,
          2,
          13,
          41,
          1,
          7,
          52,
          45,
          70,
          53,
          62,
          60,
          3,
          23,
          1,
          67,
          12,
          71,
          25,
          5,
          26,
          1,
          70,
          72,
          60,
          32,
          1,
          14,
          13,
          6,
          46,
          15,
          43,
          39,
          21,
          57,
          53,
          18,
          1,
          58,
          71,
          35,
          3,
          38,
          35,
          7,
          47,
          14,
          20,
          66,
          15,
          42,
          17,
          37,
          12,
          53,
          60,
          18,
          1,
          3,
          9,
          1,
          56,
          17,
          11,
          7,
          69,
          19,
          3,
          54,
          62,
          24,
          62,
          17,
          9,
          64,
          2,
          1,
          16,
          72,
          30,
          49,
          61,
          47,
          20,
          34,
          70,
          54,
          61,
          3,
          13,
          16,
          3,
          25,
          30,
          21,
          1,
          15,
          23,
          45,
          24,
          11,
          1,
          56,
          1,
          1,
          7,
          55,
          2,
          72,
          45,
          47,
          46,
          2,
          2,
          12,
          68,
          69,
          56,
          4,
          64,
          59,
          62,
          63,
          53,
          5,
          49,
          62,
          55,
          71,
          72,
          36,
          25,
          72,
          36,
          1,
          72,
          59,
          7,
          1,
          30,
          64,
          63,
          72,
          8,
          62,
          67,
          6,
          70,
          20,
          5,
          24,
          11,
          72,
          66,
          45,
          69,
          15,
          28,
          70,
          36,
          16,
          18,
          34,
          42,
          48,
          47,
          39,
          11,
          7,
          3,
          8,
          1,
          32,
          60,
          10,
          71,
          4,
          1,
          43,
          59,
          23,
          72,
          22,
          1,
          69,
          50,
          1,
          2,
          15,
          31,
          1,
          66,
          0,
          3,
          8,
          64,
          28,
          57,
          14,
          19,
          10,
          51,
          67,
          11,
          72,
          66,
          18,
          9,
          9,
          48,
          10,
          9,
          13,
          4,
          4,
          72,
          51,
          59,
          10,
          61,
          54,
          33,
          27,
          1,
          23,
          1,
          45,
          39,
          5,
          72,
          58,
          70,
          61,
          2,
          46,
          1,
          22,
          48,
          64,
          72,
          12,
          34,
          72,
          29,
          33,
          1,
          62,
          41,
          64,
          4,
          24,
          14,
          3,
          4,
          18,
          8,
          35,
          1,
          66,
          8,
          71,
          43,
          2,
          29,
          15,
          65,
          35,
          64,
          58,
          18,
          67,
          63,
          60,
          9,
          70,
          15,
          48,
          12,
          71,
          44,
          1,
          45,
          23,
          43,
          35,
          9,
          12,
          65,
          2,
          27,
          40,
          5,
          8,
          58,
          52,
          3,
          41,
          20,
          1,
          4,
          23,
          6,
          8,
          18,
          52,
          31,
          29,
          36,
          16,
          42,
          1,
          60,
          5,
          22,
          36,
          4,
          9,
          1,
          12,
          23,
          62,
          37,
          8,
          31,
          13,
          24,
          45,
          69,
          2,
          61,
          41,
          44,
          39,
          72,
          13,
          51,
          71,
          22,
          2,
          56,
          1,
          23,
          66,
          1,
          19,
          11,
          8,
          52,
          3,
          51,
          15,
          64,
          37,
          13,
          49,
          45,
          18,
          1,
          68,
          54,
          23,
          17,
          71,
          67,
          14,
          1,
          63,
          41,
          17,
          56,
          5,
          2,
          3,
          37,
          29,
          8,
          63,
          7,
          3,
          72,
          19,
          59,
          2,
          35,
          14,
          14,
          69,
          7,
          69,
          72,
          8,
          4,
          63,
          72,
          46,
          5,
          30,
          63,
          60,
          63,
          25,
          1,
          6,
          22,
          31,
          39,
          26,
          53,
          1,
          12,
          16,
          2,
          39,
          1,
          7,
          4,
          10,
          55,
          72,
          10,
          11,
          15,
          23,
          1,
          3,
          47,
          15,
          66,
          68,
          17,
          7,
          12,
          21,
          21,
          56,
          6,
          65,
          42,
          68,
          48,
          50,
          7,
          63,
          17,
          42,
          4,
          62,
          2,
          2,
          48,
          27,
          70,
          1,
          46,
          30,
          15,
          69,
          65,
          72,
          13,
          17,
          51,
          51,
          72,
          67,
          34,
          67,
          49,
          53,
          27,
          23,
          69,
          2,
          35,
          46,
          54,
          56,
          9,
          20,
          11,
          30,
          68,
          38,
          17,
          48,
          1,
          63,
          3,
          48,
          66,
          68,
          17,
          7,
          72,
          29,
          37,
          34,
          42,
          59,
          11,
          60,
          27,
          1,
          1,
          17,
          58,
          1,
          3,
          53,
          35,
          50,
          68,
          47,
          65,
          5,
          51,
          46,
          9,
          8,
          14,
          45,
          8,
          1,
          66,
          72,
          41,
          23,
          29,
          4,
          6,
          67,
          7,
          56,
          72,
          72,
          23,
          35,
          27,
          26,
          12,
          40,
          7,
          70,
          60,
          39,
          72,
          1,
          54,
          3,
          63,
          71,
          42,
          47,
          66,
          21,
          11,
          1,
          55,
          69,
          3,
          4,
          30,
          5,
          71,
          29,
          52,
          68,
          46,
          8,
          72,
          17,
          3,
          2,
          9,
          51,
          6,
          3,
          17,
          30,
          31,
          45,
          64,
          1,
          1,
          61,
          1,
          9,
          72,
          1,
          7,
          66,
          1,
          40,
          16,
          2,
          67,
          41,
          56,
          72,
          3,
          54,
          52,
          50,
          14,
          27,
          72,
          62,
          12,
          44,
          54,
          68,
          20,
          50,
          58,
          35,
          2,
          63,
          58,
          27,
          71,
          63,
          71,
          41,
          13,
          2,
          68,
          1,
          65,
          72,
          28,
          72,
          2,
          18,
          60,
          26,
          1,
          4,
          68,
          38,
          42,
          57,
          54,
          12,
          44,
          42,
          72,
          71,
          19,
          23,
          30,
          35,
          10,
          1,
          22,
          7,
          36,
          34,
          72,
          36,
          1,
          23,
          32,
          71,
          23,
          17,
          1,
          12,
          72,
          1,
          72,
          60,
          61,
          6,
          32,
          31,
          19,
          72,
          32,
          65,
          45,
          42,
          8,
          32,
          22,
          57,
          1,
          1,
          1,
          24,
          1,
          54,
          4,
          65,
          56,
          45,
          71,
          59,
          69,
          19,
          55,
          38,
          10,
          47,
          2,
          1,
          1,
          1,
          46,
          38,
          65,
          19,
          52,
          71,
          1,
          52,
          6,
          26,
          48,
          64,
          3,
          1,
          72,
          1,
          51,
          41,
          72,
          43,
          72,
          47,
          72,
          3,
          1,
          2,
          26,
          29,
          35,
          27,
          24,
          67,
          16,
          23,
          14,
          1,
          1,
          4,
          16,
          46,
          68,
          38,
          30,
          5,
          17,
          4,
          12,
          72,
          3,
          56,
          41,
          40,
          7,
          69,
          7,
          5,
          72,
          44,
          65,
          3,
          24,
          44,
          72,
          24,
          1,
          22,
          70,
          25,
          37,
          22,
          59,
          49,
          47,
          31,
          1,
          3,
          53,
          1,
          20,
          3,
          51,
          51,
          13,
          1,
          1,
          63,
          3,
          46,
          1,
          8,
          71,
          55,
          70,
          2,
          67,
          65,
          14,
          20,
          1,
          1,
          49,
          72,
          46,
          24,
          5,
          33,
          42,
          23,
          8,
          66,
          24,
          24,
          69,
          53,
          60,
          7,
          20,
          23,
          72,
          11,
          21,
          1,
          31,
          57,
          45,
          10,
          58,
          14,
          27,
          14,
          12,
          69,
          25,
          58,
          35,
          16,
          45,
          17,
          1,
          22,
          1,
          67,
          67,
          2,
          23,
          9,
          5,
          54,
          57,
          24,
          49,
          5,
          2,
          4,
          70,
          5,
          53,
          47,
          31,
          13,
          28,
          10,
          38,
          1,
          67,
          52,
          62,
          16,
          5,
          12,
          72,
          71,
          24,
          15,
          67,
          2,
          5,
          15,
          1,
          41,
          43,
          1,
          1,
          26,
          22,
          71,
          7,
          28,
          16,
          7,
          69,
          1,
          3,
          21,
          69,
          71,
          69,
          48,
          47,
          2,
          45,
          51,
          22,
          72,
          37,
          71,
          7,
          66,
          51,
          30,
          34,
          64,
          65,
          47,
          1,
          49,
          67,
          39,
          14,
          43,
          56,
          14,
          1,
          16,
          70,
          72,
          23,
          21,
          1,
          1,
          32,
          17,
          4,
          36,
          50,
          48,
          50,
          72,
          10,
          18,
          1,
          1,
          9,
          2,
          40,
          69,
          37,
          18,
          11,
          8,
          3,
          55,
          33,
          46,
          34,
          3,
          30,
          33,
          45,
          40,
          71,
          1,
          72,
          22,
          46,
          55,
          1,
          12,
          31,
          5,
          67,
          1,
          40,
          41,
          1,
          51,
          42,
          23,
          1,
          1,
          56,
          15,
          12,
          54,
          7,
          33,
          16,
          21,
          30,
          3,
          11,
          62,
          18,
          6,
          46,
          21,
          68,
          1,
          25,
          24,
          30,
          2,
          51,
          57,
          15,
          72,
          2,
          28,
          29,
          70,
          13,
          59,
          13,
          7,
          62,
          21,
          2,
          1,
          4,
          19,
          30,
          67,
          72,
          53,
          5,
          71,
          50,
          56,
          2,
          2,
          24,
          46,
          71,
          29,
          69,
          71,
          1,
          56,
          56,
          1,
          28,
          19,
          66,
          17,
          52,
          19,
          36,
          7,
          72,
          67,
          34,
          57,
          7,
          1,
          8,
          69,
          50,
          10,
          12,
          14,
          70,
          64,
          66,
          71,
          20,
          72,
          71,
          38,
          28,
          17,
          33,
          23,
          58,
          70,
          4,
          45,
          10,
          36,
          54,
          23,
          41,
          5,
          27,
          1,
          67,
          72,
          56,
          44,
          66,
          34,
          69,
          1,
          40,
          30,
          11,
          15,
          11,
          64,
          72,
          72,
          1,
          15,
          60,
          56,
          8,
          3,
          49,
          2,
          6,
          70,
          12,
          52,
          72,
          40,
          1,
          3,
          40,
          1,
          30,
          23,
          1,
          44,
          65,
          7,
          72,
          8,
          16,
          66,
          1,
          3,
          53,
          8,
          69,
          5,
          72,
          13,
          4,
          54,
          72,
          12,
          1,
          1,
          54,
          69,
          48,
          48,
          8,
          71,
          2,
          67,
          34,
          3,
          9,
          71,
          57,
          72,
          48,
          18,
          43,
          72,
          35,
          4,
          49,
          71,
          11,
          63,
          65,
          49,
          29,
          15,
          4,
          72,
          26,
          35,
          57,
          28,
          25,
          47,
          57,
          16,
          5,
          17,
          56,
          72,
          21,
          48,
          68,
          30,
          3,
          14,
          4,
          71,
          8,
          61,
          72,
          5,
          49,
          8,
          3,
          9,
          67,
          46,
          67,
          55,
          33,
          62,
          1,
          49,
          1,
          14,
          18,
          1,
          1,
          72,
          64,
          69,
          1,
          71,
          66,
          2,
          71,
          11,
          47,
          35,
          32,
          60,
          11,
          29,
          21,
          48,
          3,
          43,
          5,
          1,
          71,
          8,
          8,
          20,
          33,
          71,
          31,
          38,
          1,
          2,
          12,
          9,
          11,
          6,
          71,
          42,
          8,
          5,
          2,
          45,
          28,
          43,
          60,
          42,
          7,
          25,
          40,
          27,
          10,
          27,
          11,
          4,
          68,
          1,
          18,
          57,
          26,
          17,
          1,
          38,
          59,
          30,
          2,
          50,
          9,
          3,
          14,
          31,
          7,
          8,
          17,
          32,
          2,
          7,
          72,
          31,
          27,
          18,
          7,
          14,
          11,
          72,
          28,
          15,
          4,
          71,
          5,
          47,
          57,
          50,
          8,
          48,
          70,
          1,
          8,
          1,
          1,
          60,
          49,
          4,
          29,
          67,
          53,
          67,
          6,
          47,
          53,
          69,
          3,
          4,
          56,
          59,
          61,
          2,
          46,
          12,
          14,
          28,
          24,
          31,
          68,
          39,
          42,
          13,
          6,
          35,
          38,
          18,
          4,
          27,
          41
         ],
         "y0": " ",
         "yaxis": "y"
        }
       ],
       "layout": {
        "boxmode": "group",
        "legend": {
         "tracegroupgap": 0
        },
        "template": {
         "data": {
          "bar": [
           {
            "error_x": {
             "color": "#2a3f5f"
            },
            "error_y": {
             "color": "#2a3f5f"
            },
            "marker": {
             "line": {
              "color": "#E5ECF6",
              "width": 0.5
             },
             "pattern": {
              "fillmode": "overlay",
              "size": 10,
              "solidity": 0.2
             }
            },
            "type": "bar"
           }
          ],
          "barpolar": [
           {
            "marker": {
             "line": {
              "color": "#E5ECF6",
              "width": 0.5
             },
             "pattern": {
              "fillmode": "overlay",
              "size": 10,
              "solidity": 0.2
             }
            },
            "type": "barpolar"
           }
          ],
          "carpet": [
           {
            "aaxis": {
             "endlinecolor": "#2a3f5f",
             "gridcolor": "white",
             "linecolor": "white",
             "minorgridcolor": "white",
             "startlinecolor": "#2a3f5f"
            },
            "baxis": {
             "endlinecolor": "#2a3f5f",
             "gridcolor": "white",
             "linecolor": "white",
             "minorgridcolor": "white",
             "startlinecolor": "#2a3f5f"
            },
            "type": "carpet"
           }
          ],
          "choropleth": [
           {
            "colorbar": {
             "outlinewidth": 0,
             "ticks": ""
            },
            "type": "choropleth"
           }
          ],
          "contour": [
           {
            "colorbar": {
             "outlinewidth": 0,
             "ticks": ""
            },
            "colorscale": [
             [
              0,
              "#0d0887"
             ],
             [
              0.1111111111111111,
              "#46039f"
             ],
             [
              0.2222222222222222,
              "#7201a8"
             ],
             [
              0.3333333333333333,
              "#9c179e"
             ],
             [
              0.4444444444444444,
              "#bd3786"
             ],
             [
              0.5555555555555556,
              "#d8576b"
             ],
             [
              0.6666666666666666,
              "#ed7953"
             ],
             [
              0.7777777777777778,
              "#fb9f3a"
             ],
             [
              0.8888888888888888,
              "#fdca26"
             ],
             [
              1,
              "#f0f921"
             ]
            ],
            "type": "contour"
           }
          ],
          "contourcarpet": [
           {
            "colorbar": {
             "outlinewidth": 0,
             "ticks": ""
            },
            "type": "contourcarpet"
           }
          ],
          "heatmap": [
           {
            "colorbar": {
             "outlinewidth": 0,
             "ticks": ""
            },
            "colorscale": [
             [
              0,
              "#0d0887"
             ],
             [
              0.1111111111111111,
              "#46039f"
             ],
             [
              0.2222222222222222,
              "#7201a8"
             ],
             [
              0.3333333333333333,
              "#9c179e"
             ],
             [
              0.4444444444444444,
              "#bd3786"
             ],
             [
              0.5555555555555556,
              "#d8576b"
             ],
             [
              0.6666666666666666,
              "#ed7953"
             ],
             [
              0.7777777777777778,
              "#fb9f3a"
             ],
             [
              0.8888888888888888,
              "#fdca26"
             ],
             [
              1,
              "#f0f921"
             ]
            ],
            "type": "heatmap"
           }
          ],
          "heatmapgl": [
           {
            "colorbar": {
             "outlinewidth": 0,
             "ticks": ""
            },
            "colorscale": [
             [
              0,
              "#0d0887"
             ],
             [
              0.1111111111111111,
              "#46039f"
             ],
             [
              0.2222222222222222,
              "#7201a8"
             ],
             [
              0.3333333333333333,
              "#9c179e"
             ],
             [
              0.4444444444444444,
              "#bd3786"
             ],
             [
              0.5555555555555556,
              "#d8576b"
             ],
             [
              0.6666666666666666,
              "#ed7953"
             ],
             [
              0.7777777777777778,
              "#fb9f3a"
             ],
             [
              0.8888888888888888,
              "#fdca26"
             ],
             [
              1,
              "#f0f921"
             ]
            ],
            "type": "heatmapgl"
           }
          ],
          "histogram": [
           {
            "marker": {
             "pattern": {
              "fillmode": "overlay",
              "size": 10,
              "solidity": 0.2
             }
            },
            "type": "histogram"
           }
          ],
          "histogram2d": [
           {
            "colorbar": {
             "outlinewidth": 0,
             "ticks": ""
            },
            "colorscale": [
             [
              0,
              "#0d0887"
             ],
             [
              0.1111111111111111,
              "#46039f"
             ],
             [
              0.2222222222222222,
              "#7201a8"
             ],
             [
              0.3333333333333333,
              "#9c179e"
             ],
             [
              0.4444444444444444,
              "#bd3786"
             ],
             [
              0.5555555555555556,
              "#d8576b"
             ],
             [
              0.6666666666666666,
              "#ed7953"
             ],
             [
              0.7777777777777778,
              "#fb9f3a"
             ],
             [
              0.8888888888888888,
              "#fdca26"
             ],
             [
              1,
              "#f0f921"
             ]
            ],
            "type": "histogram2d"
           }
          ],
          "histogram2dcontour": [
           {
            "colorbar": {
             "outlinewidth": 0,
             "ticks": ""
            },
            "colorscale": [
             [
              0,
              "#0d0887"
             ],
             [
              0.1111111111111111,
              "#46039f"
             ],
             [
              0.2222222222222222,
              "#7201a8"
             ],
             [
              0.3333333333333333,
              "#9c179e"
             ],
             [
              0.4444444444444444,
              "#bd3786"
             ],
             [
              0.5555555555555556,
              "#d8576b"
             ],
             [
              0.6666666666666666,
              "#ed7953"
             ],
             [
              0.7777777777777778,
              "#fb9f3a"
             ],
             [
              0.8888888888888888,
              "#fdca26"
             ],
             [
              1,
              "#f0f921"
             ]
            ],
            "type": "histogram2dcontour"
           }
          ],
          "mesh3d": [
           {
            "colorbar": {
             "outlinewidth": 0,
             "ticks": ""
            },
            "type": "mesh3d"
           }
          ],
          "parcoords": [
           {
            "line": {
             "colorbar": {
              "outlinewidth": 0,
              "ticks": ""
             }
            },
            "type": "parcoords"
           }
          ],
          "pie": [
           {
            "automargin": true,
            "type": "pie"
           }
          ],
          "scatter": [
           {
            "fillpattern": {
             "fillmode": "overlay",
             "size": 10,
             "solidity": 0.2
            },
            "type": "scatter"
           }
          ],
          "scatter3d": [
           {
            "line": {
             "colorbar": {
              "outlinewidth": 0,
              "ticks": ""
             }
            },
            "marker": {
             "colorbar": {
              "outlinewidth": 0,
              "ticks": ""
             }
            },
            "type": "scatter3d"
           }
          ],
          "scattercarpet": [
           {
            "marker": {
             "colorbar": {
              "outlinewidth": 0,
              "ticks": ""
             }
            },
            "type": "scattercarpet"
           }
          ],
          "scattergeo": [
           {
            "marker": {
             "colorbar": {
              "outlinewidth": 0,
              "ticks": ""
             }
            },
            "type": "scattergeo"
           }
          ],
          "scattergl": [
           {
            "marker": {
             "colorbar": {
              "outlinewidth": 0,
              "ticks": ""
             }
            },
            "type": "scattergl"
           }
          ],
          "scattermapbox": [
           {
            "marker": {
             "colorbar": {
              "outlinewidth": 0,
              "ticks": ""
             }
            },
            "type": "scattermapbox"
           }
          ],
          "scatterpolar": [
           {
            "marker": {
             "colorbar": {
              "outlinewidth": 0,
              "ticks": ""
             }
            },
            "type": "scatterpolar"
           }
          ],
          "scatterpolargl": [
           {
            "marker": {
             "colorbar": {
              "outlinewidth": 0,
              "ticks": ""
             }
            },
            "type": "scatterpolargl"
           }
          ],
          "scatterternary": [
           {
            "marker": {
             "colorbar": {
              "outlinewidth": 0,
              "ticks": ""
             }
            },
            "type": "scatterternary"
           }
          ],
          "surface": [
           {
            "colorbar": {
             "outlinewidth": 0,
             "ticks": ""
            },
            "colorscale": [
             [
              0,
              "#0d0887"
             ],
             [
              0.1111111111111111,
              "#46039f"
             ],
             [
              0.2222222222222222,
              "#7201a8"
             ],
             [
              0.3333333333333333,
              "#9c179e"
             ],
             [
              0.4444444444444444,
              "#bd3786"
             ],
             [
              0.5555555555555556,
              "#d8576b"
             ],
             [
              0.6666666666666666,
              "#ed7953"
             ],
             [
              0.7777777777777778,
              "#fb9f3a"
             ],
             [
              0.8888888888888888,
              "#fdca26"
             ],
             [
              1,
              "#f0f921"
             ]
            ],
            "type": "surface"
           }
          ],
          "table": [
           {
            "cells": {
             "fill": {
              "color": "#EBF0F8"
             },
             "line": {
              "color": "white"
             }
            },
            "header": {
             "fill": {
              "color": "#C8D4E3"
             },
             "line": {
              "color": "white"
             }
            },
            "type": "table"
           }
          ]
         },
         "layout": {
          "annotationdefaults": {
           "arrowcolor": "#2a3f5f",
           "arrowhead": 0,
           "arrowwidth": 1
          },
          "autotypenumbers": "strict",
          "coloraxis": {
           "colorbar": {
            "outlinewidth": 0,
            "ticks": ""
           }
          },
          "colorscale": {
           "diverging": [
            [
             0,
             "#8e0152"
            ],
            [
             0.1,
             "#c51b7d"
            ],
            [
             0.2,
             "#de77ae"
            ],
            [
             0.3,
             "#f1b6da"
            ],
            [
             0.4,
             "#fde0ef"
            ],
            [
             0.5,
             "#f7f7f7"
            ],
            [
             0.6,
             "#e6f5d0"
            ],
            [
             0.7,
             "#b8e186"
            ],
            [
             0.8,
             "#7fbc41"
            ],
            [
             0.9,
             "#4d9221"
            ],
            [
             1,
             "#276419"
            ]
           ],
           "sequential": [
            [
             0,
             "#0d0887"
            ],
            [
             0.1111111111111111,
             "#46039f"
            ],
            [
             0.2222222222222222,
             "#7201a8"
            ],
            [
             0.3333333333333333,
             "#9c179e"
            ],
            [
             0.4444444444444444,
             "#bd3786"
            ],
            [
             0.5555555555555556,
             "#d8576b"
            ],
            [
             0.6666666666666666,
             "#ed7953"
            ],
            [
             0.7777777777777778,
             "#fb9f3a"
            ],
            [
             0.8888888888888888,
             "#fdca26"
            ],
            [
             1,
             "#f0f921"
            ]
           ],
           "sequentialminus": [
            [
             0,
             "#0d0887"
            ],
            [
             0.1111111111111111,
             "#46039f"
            ],
            [
             0.2222222222222222,
             "#7201a8"
            ],
            [
             0.3333333333333333,
             "#9c179e"
            ],
            [
             0.4444444444444444,
             "#bd3786"
            ],
            [
             0.5555555555555556,
             "#d8576b"
            ],
            [
             0.6666666666666666,
             "#ed7953"
            ],
            [
             0.7777777777777778,
             "#fb9f3a"
            ],
            [
             0.8888888888888888,
             "#fdca26"
            ],
            [
             1,
             "#f0f921"
            ]
           ]
          },
          "colorway": [
           "#636efa",
           "#EF553B",
           "#00cc96",
           "#ab63fa",
           "#FFA15A",
           "#19d3f3",
           "#FF6692",
           "#B6E880",
           "#FF97FF",
           "#FECB52"
          ],
          "font": {
           "color": "#2a3f5f"
          },
          "geo": {
           "bgcolor": "white",
           "lakecolor": "white",
           "landcolor": "#E5ECF6",
           "showlakes": true,
           "showland": true,
           "subunitcolor": "white"
          },
          "hoverlabel": {
           "align": "left"
          },
          "hovermode": "closest",
          "mapbox": {
           "style": "light"
          },
          "paper_bgcolor": "white",
          "plot_bgcolor": "#E5ECF6",
          "polar": {
           "angularaxis": {
            "gridcolor": "white",
            "linecolor": "white",
            "ticks": ""
           },
           "bgcolor": "#E5ECF6",
           "radialaxis": {
            "gridcolor": "white",
            "linecolor": "white",
            "ticks": ""
           }
          },
          "scene": {
           "xaxis": {
            "backgroundcolor": "#E5ECF6",
            "gridcolor": "white",
            "gridwidth": 2,
            "linecolor": "white",
            "showbackground": true,
            "ticks": "",
            "zerolinecolor": "white"
           },
           "yaxis": {
            "backgroundcolor": "#E5ECF6",
            "gridcolor": "white",
            "gridwidth": 2,
            "linecolor": "white",
            "showbackground": true,
            "ticks": "",
            "zerolinecolor": "white"
           },
           "zaxis": {
            "backgroundcolor": "#E5ECF6",
            "gridcolor": "white",
            "gridwidth": 2,
            "linecolor": "white",
            "showbackground": true,
            "ticks": "",
            "zerolinecolor": "white"
           }
          },
          "shapedefaults": {
           "line": {
            "color": "#2a3f5f"
           }
          },
          "ternary": {
           "aaxis": {
            "gridcolor": "white",
            "linecolor": "white",
            "ticks": ""
           },
           "baxis": {
            "gridcolor": "white",
            "linecolor": "white",
            "ticks": ""
           },
           "bgcolor": "#E5ECF6",
           "caxis": {
            "gridcolor": "white",
            "linecolor": "white",
            "ticks": ""
           }
          },
          "title": {
           "x": 0.05
          },
          "xaxis": {
           "automargin": true,
           "gridcolor": "white",
           "linecolor": "white",
           "ticks": "",
           "title": {
            "standoff": 15
           },
           "zerolinecolor": "white",
           "zerolinewidth": 2
          },
          "yaxis": {
           "automargin": true,
           "gridcolor": "white",
           "linecolor": "white",
           "ticks": "",
           "title": {
            "standoff": 15
           },
           "zerolinecolor": "white",
           "zerolinewidth": 2
          }
         }
        },
        "title": {
         "text": "Boxplot do Tempo como Cliente"
        },
        "xaxis": {
         "anchor": "y",
         "domain": [
          0,
          1
         ]
        },
        "yaxis": {
         "anchor": "x",
         "domain": [
          0,
          1
         ],
         "title": {
          "text": "Tempo_como_Cliente"
         }
        }
       }
      }
     },
     "metadata": {},
     "output_type": "display_data"
    },
    {
     "data": {
      "text/html": [
       "<div>\n",
       "<style scoped>\n",
       "    .dataframe tbody tr th:only-of-type {\n",
       "        vertical-align: middle;\n",
       "    }\n",
       "\n",
       "    .dataframe tbody tr th {\n",
       "        vertical-align: top;\n",
       "    }\n",
       "\n",
       "    .dataframe thead th {\n",
       "        text-align: right;\n",
       "    }\n",
       "</style>\n",
       "<table border=\"1\" class=\"dataframe\">\n",
       "  <thead>\n",
       "    <tr style=\"text-align: right;\">\n",
       "      <th></th>\n",
       "      <th>Genero</th>\n",
       "      <th>Idoso</th>\n",
       "      <th>Casado</th>\n",
       "      <th>Dependentes</th>\n",
       "      <th>Tempo_como_Cliente</th>\n",
       "      <th>Servico_Telefone</th>\n",
       "      <th>Servico_Internet</th>\n",
       "      <th>Servico_Seguranca</th>\n",
       "      <th>Suporte_Tecnico</th>\n",
       "      <th>StreamingTV</th>\n",
       "      <th>Tipo_Contrato</th>\n",
       "      <th>Método_pagamento</th>\n",
       "      <th>Pagamento_Mensal</th>\n",
       "      <th>Total_Pago</th>\n",
       "      <th>Churn</th>\n",
       "    </tr>\n",
       "  </thead>\n",
       "  <tbody>\n",
       "    <tr>\n",
       "      <th>476</th>\n",
       "      <td>FEMALE</td>\n",
       "      <td>False</td>\n",
       "      <td>True</td>\n",
       "      <td>True</td>\n",
       "      <td>0</td>\n",
       "      <td>No</td>\n",
       "      <td>DSL</td>\n",
       "      <td>YES</td>\n",
       "      <td>YES</td>\n",
       "      <td>YES</td>\n",
       "      <td>TWO YEAR</td>\n",
       "      <td>BANK TRANSFER (AUTOMATIC)</td>\n",
       "      <td>52.55</td>\n",
       "      <td>52.55</td>\n",
       "      <td>No</td>\n",
       "    </tr>\n",
       "    <tr>\n",
       "      <th>741</th>\n",
       "      <td>MALE</td>\n",
       "      <td>False</td>\n",
       "      <td>False</td>\n",
       "      <td>True</td>\n",
       "      <td>0</td>\n",
       "      <td>Yes</td>\n",
       "      <td>NO</td>\n",
       "      <td>NO INTERNET SERVICE</td>\n",
       "      <td>NO INTERNET SERVICE</td>\n",
       "      <td>NO INTERNET SERVICE</td>\n",
       "      <td>TWO YEAR</td>\n",
       "      <td>MAILED CHECK</td>\n",
       "      <td>20.25</td>\n",
       "      <td>40.50</td>\n",
       "      <td>No</td>\n",
       "    </tr>\n",
       "    <tr>\n",
       "      <th>924</th>\n",
       "      <td>FEMALE</td>\n",
       "      <td>False</td>\n",
       "      <td>True</td>\n",
       "      <td>True</td>\n",
       "      <td>0</td>\n",
       "      <td>Yes</td>\n",
       "      <td>DSL</td>\n",
       "      <td>YES</td>\n",
       "      <td>NO</td>\n",
       "      <td>YES</td>\n",
       "      <td>TWO YEAR</td>\n",
       "      <td>MAILED CHECK</td>\n",
       "      <td>80.85</td>\n",
       "      <td>80.85</td>\n",
       "      <td>No</td>\n",
       "    </tr>\n",
       "    <tr>\n",
       "      <th>1070</th>\n",
       "      <td>MALE</td>\n",
       "      <td>False</td>\n",
       "      <td>True</td>\n",
       "      <td>True</td>\n",
       "      <td>0</td>\n",
       "      <td>Yes</td>\n",
       "      <td>NO</td>\n",
       "      <td>NO INTERNET SERVICE</td>\n",
       "      <td>NO INTERNET SERVICE</td>\n",
       "      <td>NO INTERNET SERVICE</td>\n",
       "      <td>TWO YEAR</td>\n",
       "      <td>MAILED CHECK</td>\n",
       "      <td>25.75</td>\n",
       "      <td>25.75</td>\n",
       "      <td>No</td>\n",
       "    </tr>\n",
       "    <tr>\n",
       "      <th>1328</th>\n",
       "      <td>FEMALE</td>\n",
       "      <td>False</td>\n",
       "      <td>True</td>\n",
       "      <td>True</td>\n",
       "      <td>0</td>\n",
       "      <td>No</td>\n",
       "      <td>DSL</td>\n",
       "      <td>YES</td>\n",
       "      <td>YES</td>\n",
       "      <td>YES</td>\n",
       "      <td>TWO YEAR</td>\n",
       "      <td>CREDIT CARD (AUTOMATIC)</td>\n",
       "      <td>56.05</td>\n",
       "      <td>56.05</td>\n",
       "      <td>No</td>\n",
       "    </tr>\n",
       "  </tbody>\n",
       "</table>\n",
       "</div>"
      ],
      "text/plain": [
       "      Genero  Idoso  Casado  Dependentes  Tempo_como_Cliente Servico_Telefone  \\\n",
       "476   FEMALE  False    True         True                   0               No   \n",
       "741     MALE  False   False         True                   0              Yes   \n",
       "924   FEMALE  False    True         True                   0              Yes   \n",
       "1070    MALE  False    True         True                   0              Yes   \n",
       "1328  FEMALE  False    True         True                   0               No   \n",
       "\n",
       "     Servico_Internet    Servico_Seguranca      Suporte_Tecnico  \\\n",
       "476               DSL                  YES                  YES   \n",
       "741                NO  NO INTERNET SERVICE  NO INTERNET SERVICE   \n",
       "924               DSL                  YES                   NO   \n",
       "1070               NO  NO INTERNET SERVICE  NO INTERNET SERVICE   \n",
       "1328              DSL                  YES                  YES   \n",
       "\n",
       "              StreamingTV Tipo_Contrato           Método_pagamento  \\\n",
       "476                   YES      TWO YEAR  BANK TRANSFER (AUTOMATIC)   \n",
       "741   NO INTERNET SERVICE      TWO YEAR               MAILED CHECK   \n",
       "924                   YES      TWO YEAR               MAILED CHECK   \n",
       "1070  NO INTERNET SERVICE      TWO YEAR               MAILED CHECK   \n",
       "1328                  YES      TWO YEAR    CREDIT CARD (AUTOMATIC)   \n",
       "\n",
       "      Pagamento_Mensal  Total_Pago Churn  \n",
       "476              52.55       52.55    No  \n",
       "741              20.25       40.50    No  \n",
       "924              80.85       80.85    No  \n",
       "1070             25.75       25.75    No  \n",
       "1328             56.05       56.05    No  "
      ]
     },
     "execution_count": 57,
     "metadata": {},
     "output_type": "execute_result"
    },
    {
     "data": {
      "application/vnd.plotly.v1+json": {
       "config": {
        "plotlyServerURL": "https://plot.ly"
       },
       "data": [
        {
         "alignmentgroup": "True",
         "boxpoints": "all",
         "hovertemplate": "Total_Pago=%{y}<extra></extra>",
         "legendgroup": "",
         "marker": {
          "color": "skyblue"
         },
         "name": "",
         "notched": false,
         "offsetgroup": "",
         "orientation": "v",
         "showlegend": false,
         "type": "box",
         "x0": " ",
         "xaxis": "x",
         "y": [
          29.85,
          1889.5,
          108.15,
          1840.75,
          1022.95,
          7382.25,
          528.35,
          1862.9,
          39.65,
          202.25,
          20.15,
          3505.1,
          2970.3,
          1530.6,
          4749.15,
          30.2,
          6369.45,
          1093.1,
          6766.95,
          181.65,
          1874.45,
          20.2,
          45.25,
          7251.7,
          316.9,
          3548.3,
          3549.25,
          1105.4,
          475.7,
          4872.35,
          418.25,
          4861.45,
          981.45,
          3906.7,
          97,
          144.15,
          4217.8,
          4254.1,
          3838.75,
          1426.4,
          1752.65,
          633.3,
          4456.35,
          1752.55,
          6311.2,
          7076.35,
          894.3,
          7853.7,
          4707.1,
          5450.7,
          2962,
          957.1,
          857.25,
          244.1,
          3650.35,
          2497.2,
          930.9,
          887.35,
          49.05,
          1090.65,
          7099,
          1424.6,
          177.4,
          6139.5,
          2688.85,
          482.25,
          2111.3,
          1216.6,
          79.35,
          565.35,
          496.9,
          4327.5,
          973.35,
          918.75,
          2215.45,
          1057,
          927.1,
          1009.25,
          2570.2,
          74.7,
          5714.25,
          7107,
          7459.05,
          927.35,
          4748.7,
          113.85,
          1107.2,
          2514.5,
          20.2,
          19.45,
          3605.6,
          3027.25,
          7611.85,
          100.2,
          7303.05,
          927.65,
          3921.3,
          1363.25,
          5238.9,
          3042.25,
          3954.1,
          2868.15,
          3423.5,
          248.4,
          1126.35,
          1064.65,
          835.15,
          2151.6,
          5515.45,
          112.75,
          229.55,
          350.35,
          62.9,
          3027.65,
          2135.5,
          1723.95,
          19.75,
          3985.35,
          1215.65,
          1502.65,
          3260.1,
          35.45,
          81.25,
          1188.2,
          1778.5,
          1277.75,
          1170.55,
          70.45,
          6425.65,
          563.65,
          5971.25,
          5289.05,
          1756.2,
          6416.7,
          61.35,
          45.65,
          1929.95,
          1071.4,
          564.35,
          655.5,
          7930.55,
          5215.25,
          113.5,
          1152.8,
          1821.95,
          419.9,
          1024,
          251.6,
          764.55,
          1592.35,
          135.2,
          3958.25,
          233.9,
          1363.45,
          273,
          6254.45,
          2651.2,
          321.4,
          3539.25,
          242.8,
          1181.75,
          5000.2,
          654.55,
          780.2,
          1145.7,
          503.6,
          1559.25,
          1252,
          29.95,
          45.3,
          662.65,
          2453.3,
          1111.65,
          24.8,
          1023.85,
          82.15,
          244.8,
          2379.1,
          3173.35,
          531,
          1375.4,
          8129.3,
          1192.7,
          1901.65,
          587.4,
          6519.75,
          8041.65,
          20.75,
          2681.15,
          1112.3,
          7405.5,
          1033.95,
          2958.95,
          2684.85,
          4179.2,
          79.9,
          1934.45,
          6654.1,
          84.5,
          25.25,
          1124.2,
          540.05,
          1975.85,
          3437.45,
          3139.8,
          3789.2,
          5324.5,
          624.6,
          268.35,
          1836.9,
          20.2,
          179.35,
          219.35,
          1288.75,
          2545.75,
          55.2,
          2723.15,
          4107.25,
          5760.65,
          4747.5,
          84.6,
          1566.9,
          702,
          114.1,
          299.05,
          1305.95,
          1120.3,
          284.35,
          6350.5,
          7878.3,
          3187.65,
          6126.15,
          731.3,
          273.4,
          2531.8,
          1074.3,
          48.55,
          4298.45,
          4619.55,
          147.15,
          40.2,
          2633.3,
          193.05,
          4103.9,
          7008.15,
          5791.1,
          80.55,
          1228.65,
          132.2,
          1364.3,
          4925.35,
          1520.1,
          5032.25,
          5526.75,
          1195.25,
          2007.25,
          1099.6,
          1732.95,
          1511.2,
          3450.15,
          24.8,
          2172.05,
          70.6,
          401.1,
          5624.85,
          1339.8,
          771.95,
          244.75,
          322.9,
          498.25,
          25.4,
          3687.75,
          1779.95,
          1783.6,
          927.15,
          70,
          606.55,
          435.4,
          1712.7,
          2021.2,
          1940.8,
          567.8,
          220.35,
          20.25,
          5436.45,
          3437.5,
          3015.75,
          73.6,
          1509.8,
          396.1,
          356.65,
          4109,
          3141.7,
          1229.1,
          2303.35,
          2054.4,
          3741.85,
          3682.45,
          19.25,
          1886.25,
          4895.1,
          341.6,
          415.55,
          5686.4,
          1355.1,
          3058.65,
          2231.05,
          3236.35,
          4350.1,
          4264,
          44.8,
          422.3,
          4176.7,
          5138.1,
          880.05,
          139.05,
          973.65,
          1470.05,
          739.35,
          161.95,
          4422.95,
          511.25,
          155.8,
          5293.95,
          4759.85,
          6148.45,
          3565.65,
          6603,
          1830.1,
          6223.8,
          4508.65,
          1328.15,
          865,
          72.1,
          168.2,
          1303.5,
          996.85,
          6430.9,
          2278.75,
          681.4,
          574.35,
          371.9,
          840.1,
          846,
          889,
          6823.4,
          805.1,
          4016.75,
          83.75,
          3959.15,
          2878.55,
          945.7,
          1373.05,
          492.55,
          1406,
          19.15,
          6962.85,
          8126.65,
          690.25,
          181.5,
          830.8,
          5608.4,
          3646.8,
          3662.25,
          25.35,
          2566.5,
          5308.7,
          1410.25,
          3339.05,
          50.65,
          4732.35,
          90.85,
          5067.45,
          214.75,
          4874.7,
          2348.45,
          4063,
          44,
          2595.25,
          2309.55,
          89.3,
          367.55,
          3944.5,
          5965.95,
          3694.7,
          2524.45,
          1803.7,
          415.1,
          624.15,
          237.7,
          7007.6,
          3848.8,
          419.4,
          1468.75,
          5812,
          2861.45,
          19.9,
          19.6,
          233.7,
          1066.15,
          2149.05,
          4473,
          3545.05,
          1195.75,
          6858.9,
          1024.7,
          1845.9,
          75.3,
          132.25,
          515.45,
          2830.45,
          1110.5,
          449.3,
          2838.55,
          5376.4,
          858.6,
          1395.05,
          3975.7,
          1182.55,
          4784.45,
          119.5,
          518.9,
          899.45,
          1183.8,
          720.05,
          8468.2,
          3161.2,
          55.05,
          1882.55,
          5070.4,
          6049.5,
          1166.7,
          2937.65,
          6396.45,
          69.55,
          1270.25,
          759.55,
          7611.55,
          1642.75,
          1545.4,
          3582.4,
          2227.1,
          1417.9,
          2494.65,
          2768.35,
          2369.3,
          38,
          75.1,
          100.9,
          1614.05,
          385.9,
          673.25,
          8404.9,
          2799.75,
          6538.45,
          6588.95,
          868.1,
          734.35,
          330.6,
          55,
          564.4,
          1315.35,
          74.7,
          1861.5,
          2747.2,
          554.05,
          453.4,
          994.8,
          225.75,
          2145,
          1671.6,
          8003.8,
          680.05,
          6130.85,
          1415,
          6201.95,
          52.55,
          20.25,
          80.85,
          25.75,
          56.05,
          3902.6,
          20.4,
          903.6,
          1785.65,
          1397.65,
          131.05,
          1238.45,
          3899.05,
          5676,
          4543.15,
          4326.8,
          5502.55,
          1782.4,
          851.8,
          167.5,
          502.85,
          19.85,
          1818.3,
          6300.15,
          334.8,
          5916.95,
          2852.4,
          4131.95,
          1546.3,
          302.6,
          1929.35,
          265.45,
          6989.45,
          1442,
          4713.4,
          1758.6,
          3480,
          4738.3,
          8399.15,
          5430.35,
          686.95,
          5706.3,
          490.65,
          1360.25,
          174.45,
          7379.8,
          85,
          1021.75,
          5029.05,
          1955.4,
          6744.2,
          4946.7,
          8248.5,
          601.6,
          19.55,
          834.1,
          597,
          2647.2,
          3266,
          6744.25,
          5265.5,
          311.6,
          7966.9,
          8220.4,
          1153.25,
          514.75,
          2596.15,
          3808,
          19.9,
          2708.2,
          760.05,
          49.3,
          6033.3,
          89.05,
          516.15,
          5861.75,
          445.95,
          4973.4,
          1667.25,
          5357.75,
          3527.6,
          422.6,
          1103.25,
          2754,
          697.25,
          5614.45,
          3204.4,
          4747.65,
          3082.1,
          597.9,
          3365.4,
          38.8,
          233.55,
          75.3,
          346.2,
          19,
          61.7,
          85.7,
          3342.45,
          85.1,
          7422.1,
          6668.05,
          8071.05,
          1174.8,
          5435,
          2438.6,
          45.6,
          713.75,
          916.15,
          237.2,
          4614.55,
          1414.45,
          1170.5,
          47.7,
          4859.25,
          4903.2,
          3608,
          6094.25,
          3084.9,
          2356.75,
          8306.05,
          6786.4,
          248.95,
          663.05,
          1357.1,
          4860.35,
          3418.2,
          631.4,
          186.3,
          6976.75,
          4884.85,
          522.95,
          362.6,
          5755.8,
          3355.65,
          406.95,
          137.6,
          2395.7,
          1968.1,
          6819.45,
          7943.45,
          4547.25,
          4687.9,
          2473.95,
          6562.9,
          176.3,
          2236.2,
          6985.65,
          3109.9,
          4911.35,
          5794.65,
          855.3,
          1620.2,
          2499.3,
          89.55,
          4287.2,
          394.85,
          1899.65,
          45.7,
          3442.15,
          161.5,
          1732.6,
          222.3,
          74.6,
          655.3,
          475.25,
          164.3,
          865.1,
          6132.7,
          3597.5,
          35.9,
          697.65,
          96.05,
          428.7,
          20.05,
          4459.15,
          1167.6,
          238.1,
          145.15,
          1453.1,
          191.05,
          4039.3,
          1039.45,
          1336.1,
          75.05,
          493.4,
          2550.9,
          7246.15,
          1203.95,
          62.25,
          313.6,
          3775.85,
          80,
          4616.05,
          195.65,
          4188.4,
          71.1,
          49.9,
          1266.4,
          91.1,
          1623.4,
          4149.45,
          20.45,
          2344.5,
          1013.05,
          270.7,
          417,
          20.65,
          6316.2,
          168.15,
          4018.05,
          4811.6,
          4189.7,
          2848.45,
          2516.2,
          33.6,
          208.45,
          2015.35,
          3739.8,
          2964,
          2263.4,
          2211.8,
          19.55,
          1683.7,
          1519,
          1164.05,
          1710.9,
          4245.55,
          4145.9,
          2664.3,
          1277.5,
          5589.3,
          34.75,
          1305.95,
          381.3,
          141.5,
          3105.55,
          204.55,
          605.9,
          356.1,
          2758.15,
          4805.65,
          3941.7,
          92.75,
          1901.05,
          5730.7,
          2423.4,
          1653.45,
          3327.05,
          7085.5,
          3344.1,
          6697.35,
          2879.9,
          137.1,
          1008.55,
          1551.6,
          202.15,
          7882.25,
          8196.4,
          202.9,
          855.1,
          5817,
          1652.95,
          5600.15,
          515.75,
          40.5,
          190.5,
          1842.8,
          1253.8,
          57.2,
          1269.55,
          6563.4,
          20.8,
          1907.85,
          208.85,
          4758.8,
          1292.6,
          363.15,
          1600.25,
          275.7,
          3089.1,
          1175.6,
          237.3,
          1444.65,
          19.9,
          454.15,
          3036.75,
          8065.65,
          92.5,
          184.65,
          6152.3,
          89.5,
          5154.5,
          220.45,
          1510.3,
          52.2,
          2588.95,
          4874.8,
          3983.6,
          2003.6,
          1832.4,
          4908.25,
          3590.2,
          5023,
          146.6,
          2339.3,
          298.7,
          143.65,
          2548.65,
          507.4,
          20,
          6125.4,
          5411.4,
          1058.25,
          903.8,
          3009.5,
          489.45,
          5468.45,
          1058.1,
          7616,
          4113.1,
          69.55,
          6017.65,
          7250.15,
          1108.2,
          938.65,
          94.15,
          2088.05,
          178.7,
          5656.75,
          2317.1,
          5986.45,
          6751.35,
          3566.6,
          4889.3,
          318.1,
          1563.95,
          1430.25,
          644.35,
          372.45,
          5453.4,
          1442.6,
          5610.7,
          963.95,
          5222.3,
          3340.55,
          292.8,
          5774.55,
          4487.3,
          44.4,
          2854.95,
          905.55,
          5509.3,
          7589.8,
          229.6,
          394.1,
          89.9,
          295.95,
          5459.2,
          444.75,
          6782.15,
          6510.45,
          8476.5,
          4461.85,
          62,
          352.65,
          1424.9,
          6413.65,
          6309.65,
          50.8,
          5898.6,
          4719.75,
          457.3,
          5822.3,
          1463.5,
          307.4,
          2104.55,
          319.15,
          2337.45,
          104.3,
          5084.65,
          121.25,
          7015.9,
          5598,
          1269.1,
          3027.4,
          4634.35,
          113.95,
          1582.75,
          3077,
          4039.5,
          1665.2,
          1043.3,
          504.2,
          497.55,
          7511.65,
          1782,
          20.05,
          609.65,
          2857.6,
          3247.55,
          6215.35,
          2823,
          5017.9,
          2619.25,
          24.6,
          4965.1,
          2679.7,
          8310.55,
          5682.25,
          1120.95,
          4914.9,
          27.55,
          923.5,
          1625.65,
          6068.65,
          5398.6,
          918.6,
          234.85,
          1231.85,
          170.9,
          7984.15,
          688.65,
          1288.3,
          7848.5,
          267,
          1798.9,
          73.55,
          1643.55,
          4807.45,
          2193,
          2239.4,
          1505.9,
          255.35,
          1189.4,
          4786.15,
          1820.9,
          2404.15,
          205.05,
          952.3,
          7039.45,
          2538.05,
          1212.85,
          2651.1,
          1304.8,
          360.1,
          435.45,
          308.05,
          80.85,
          434.5,
          7118.9,
          320.45,
          531.55,
          382.2,
          2001,
          4919.7,
          5645.8,
          215.8,
          77.6,
          2896.55,
          3395.8,
          759.35,
          85.15,
          535.55,
          1253.15,
          955.15,
          2162.6,
          44.7,
          1813.35,
          245.15,
          2028.8,
          2723.75,
          220.45,
          365.8,
          551.95,
          4054.2,
          45.7,
          832.35,
          112.3,
          60.65,
          5550.1,
          174.8,
          90.55,
          4733.1,
          4048.95,
          1359.7,
          4542.35,
          7532.15,
          69.9,
          888.65,
          6383.35,
          1916,
          413,
          808.95,
          1886.4,
          86.6,
          1679.25,
          2656.5,
          540.95,
          19.75,
          537.35,
          678.8,
          4513.65,
          1423.85,
          555.4,
          225.55,
          268.45,
          2917.5,
          2416.1,
          424.45,
          1492.1,
          132.4,
          660.9,
          1893.95,
          284.9,
          784.25,
          417.7,
          5016.25,
          1612.75,
          119.75,
          3204.65,
          485.2,
          160.85,
          4145.25,
          827.45,
          49.5,
          990.85,
          696.35,
          5585.4,
          1601.2,
          162.45,
          470.2,
          2066,
          1426.45,
          392.5,
          3861.45,
          2552.9,
          6668.35,
          819.4,
          4615.25,
          2070.6,
          273.75,
          3557.7,
          1957.1,
          729.95,
          1416.75,
          5924.4,
          1697.7,
          7849.85,
          649.4,
          4557.5,
          3013.05,
          1266.1,
          360.35,
          1046.5,
          2347.9,
          447.75,
          4209.95,
          3877.65,
          152.3,
          572.2,
          19.65,
          526.95,
          552.7,
          3208.65,
          210.75,
          3706.95,
          620.75,
          412.5,
          832.05,
          185.55,
          1943.2,
          505.9,
          8046.85,
          1815.3,
          612.95,
          795.15,
          2169.8,
          973.1,
          2210.2,
          4853.75,
          1055.9,
          144.55,
          91.1,
          1304.85,
          713,
          21.1,
          5580.8,
          1497.9,
          4527.45,
          4590.35,
          200.2,
          614.45,
          4564.9,
          25.75,
          171.15,
          1012.4,
          940.35,
          1047.7,
          2766.4,
          1622.45,
          1129.35,
          5680.9,
          2243.9,
          4523.25,
          7159.7,
          2839.95,
          80.55,
          580.1,
          2178.6,
          6038.55,
          259.4,
          324.15,
          417.65,
          168.15,
          5637.85,
          839.4,
          769.1,
          6253,
          1641.8,
          1678.05,
          2058.5,
          2424.5,
          387.2,
          6293.45,
          2839.65,
          3145.9,
          2200.7,
          914.4,
          4577.75,
          4997.5,
          4144.8,
          1493.55,
          4179.1,
          893.55,
          1611,
          593.05,
          4284.8,
          544.55,
          1533.8,
          529.8,
          3865.6,
          515.75,
          941,
          1133.65,
          48.35,
          2070.05,
          8333.95,
          1209.25,
          1396.25,
          723.35,
          228.65,
          1161.75,
          98.35,
          775.3,
          1074.65,
          35.55,
          2324.7,
          1072.6,
          170.5,
          196.9,
          1162.85,
          1677.85,
          18.85,
          370.4,
          3410.6,
          1138.8,
          5264.25,
          1005.7,
          5936.55,
          5475.9,
          224.05,
          2326.05,
          31.35,
          4991.5,
          1052.4,
          5831.2,
          510.8,
          283.95,
          1295.4,
          19.65,
          3011.65,
          8093.15,
          5610.25,
          3217.65,
          19.85,
          773.2,
          1029.35,
          669.45,
          3593.8,
          1553.95,
          3953.15,
          1971.15,
          1236.15,
          3196,
          4872.2,
          1500.5,
          60.15,
          3478.75,
          7413.55,
          3532,
          256.75,
          3887.25,
          2490.15,
          593.45,
          3510.3,
          765.45,
          1259.35,
          5538.35,
          340.85,
          844.45,
          1348.95,
          3778,
          611.65,
          4867.95,
          1505.05,
          467.85,
          74.9,
          194.2,
          571.45,
          80.25,
          5253.95,
          1149.65,
          740.8,
          521.35,
          1412.65,
          1532.45,
          250.05,
          1090.6,
          1446.8,
          2282.55,
          4300.45,
          1111.2,
          190.1,
          4447.75,
          143.35,
          45.85,
          810.2,
          1830.05,
          2820.65,
          4847.35,
          4729.3,
          4017.45,
          1398.6,
          2564.3,
          1685.9,
          5826.65,
          6066.55,
          228.4,
          270.2,
          1529.2,
          168.6,
          536.35,
          1888.45,
          629.35,
          45.3,
          289.3,
          2117.25,
          4730.9,
          2033.05,
          987.95,
          45.05,
          5744.35,
          75.8,
          19.45,
          523.15,
          4805.3,
          59.05,
          6110.75,
          1596.6,
          1046.2,
          4424.2,
          92.75,
          194.55,
          612.1,
          6127.6,
          6671.7,
          5264.3,
          303.7,
          4818.8,
          6448.05,
          7159.05,
          1574.5,
          2879.2,
          86.05,
          4159.45,
          6638.35,
          3112.05,
          7168.25,
          1326.25,
          2234.55,
          495.15,
          8317.95,
          679.8,
          62.8,
          7544,
          1188.25,
          676.7,
          74.1,
          3242.5,
          1240.15,
          4111.35,
          5899.85,
          632.95,
          5193.2,
          7530.8,
          270.95,
          5460.2,
          1614.2,
          402.5,
          1367.75,
          483.7,
          7962.2,
          3810.8,
          3533.6,
          1396.9,
          1345.55,
          1646.45,
          8127.6,
          2680.15,
          1281,
          1553.9,
          3207.55,
          2049.05,
          3629.2,
          5124.55,
          3474.45,
          202.3,
          147.5,
          86.35,
          579,
          19.45,
          3131.55,
          3928.3,
          187.75,
          1710.15,
          76.35,
          69.25,
          2151.6,
          5961.1,
          1221.55,
          1496.45,
          1292.2,
          25.15,
          1713.1,
          1748.9,
          25.2,
          96.45,
          1114.55,
          609.1,
          20.15,
          7133.25,
          56.05,
          169.45,
          141.6,
          4688.65,
          563.05,
          5985,
          1258.6,
          373.5,
          857.2,
          2553.35,
          4322.85,
          250.8,
          4549.05,
          1359.5,
          1639.3,
          178.85,
          633.85,
          5315.1,
          735.5,
          889.9,
          1290,
          330.05,
          237.95,
          6474.4,
          4421.95,
          2452.7,
          813.85,
          4904.85,
          4484.05,
          2033.85,
          538.2,
          79.2,
          2192.9,
          19.85,
          3858.05,
          854.8,
          347.4,
          5815.15,
          3970.4,
          3058.15,
          6145.2,
          129.2,
          1165.9,
          49.95,
          1554,
          4904.25,
          5632.55,
          1643.25,
          740.55,
          3217.55,
          4888.2,
          2440.25,
          620.55,
          20.35,
          6840.95,
          3001.2,
          6254.2,
          319.6,
          1938.05,
          294.5,
          58.3,
          442.85,
          553,
          546.45,
          797.1,
          76,
          1673.8,
          343.45,
          7412.25,
          4039,
          170.85,
          2948.6,
          1308.4,
          6078.75,
          3418.2,
          6603.8,
          3166.9,
          865.75,
          6373.1,
          1177.05,
          5985.75,
          732.5,
          7869.05,
          1504.05,
          936.7,
          741.4,
          6585.2,
          3122.4,
          50.45,
          1088.25,
          615.35,
          2908.2,
          739.9,
          593.85,
          1132.75,
          7227.45,
          193.6,
          1291.35,
          2023.55,
          349.65,
          153.95,
          5458.8,
          5244.45,
          154.55,
          4507.15,
          2031.95,
          50.05,
          332.45,
          473.9,
          106.8,
          152.6,
          1199.4,
          2555.05,
          2979.2,
          654.85,
          3834.4,
          1534.75,
          4586.15,
          20.55,
          5941.05,
          424.15,
          2234.95,
          666.75,
          281,
          547.8,
          74.6,
          571.15,
          1756.6,
          5731.45,
          3475.55,
          156.85,
          2683.2,
          896.75,
          2407.3,
          4456.65,
          6998.95,
          36.8,
          6547.7,
          4346.4,
          2265,
          1309.15,
          4754.3,
          1235.55,
          3562.5,
          7213.75,
          2082.95,
          102.75,
          5914.4,
          51.25,
          1282.85,
          4738.85,
          19.55,
          1775.8,
          795.65,
          145,
          4993.4,
          61.45,
          4018.55,
          1146.65,
          6081.4,
          1478.85,
          243.65,
          2633.95,
          4735.35,
          1247.75,
          74.7,
          3794.5,
          1008.7,
          2130.55,
          1313.55,
          5727.15,
          1372.9,
          1203.9,
          25.8,
          1215.1,
          2877.05,
          1579.7,
          5514.95,
          96.1,
          72.4,
          55.25,
          2443.3,
          1970.5,
          335.4,
          7002.95,
          158.95,
          293.15,
          1493.75,
          1093.4,
          1057.85,
          190.05,
          882.55,
          300.4,
          1025.95,
          1436.95,
          475,
          5388.15,
          5730.15,
          819.55,
          217.1,
          4896.35,
          1434.1,
          937.1,
          330.15,
          1474.9,
          6536.5,
          1128.1,
          6873.75,
          2199.05,
          45.85,
          457.1,
          566.5,
          2471.6,
          3107.3,
          518.3,
          5769.75,
          91.7,
          832.3,
          1555.65,
          45.3,
          1790.6,
          74.95,
          246.6,
          261.65,
          898.35,
          4509.5,
          5480.25,
          653.15,
          1183.05,
          639.45,
          478.75,
          20.05,
          127.1,
          4391.45,
          270.6,
          6710.5,
          3975.9,
          1704.95,
          415.95,
          950.2,
          1497.05,
          780.15,
          3512.15,
          273.25,
          3517.9,
          3375.9,
          7508.55,
          1245.05,
          5347.95,
          493.65,
          1263.85,
          385.55,
          3384,
          84.2,
          1638.7,
          165.4,
          120.25,
          4473.45,
          520.55,
          5717.85,
          88.8,
          4312.5,
          2755.35,
          994.55,
          6511.25,
          1218.65,
          7447.7,
          1169.35,
          279.5,
          5720.35,
          3121.45,
          6468.6,
          5918.8,
          675.6,
          3521.7,
          923.1,
          1110.35,
          1611.65,
          2293.6,
          5553.25,
          44.75,
          3029.1,
          3231.05,
          5129.45,
          5508.35,
          655.9,
          1191.2,
          866.4,
          2627.2,
          4741.45,
          4009.2,
          1463.45,
          5082.8,
          43.8,
          3707.6,
          220.45,
          1133.7,
          1983.15,
          5746.75,
          770.6,
          134.05,
          6230.1,
          573.05,
          3419.3,
          3587.25,
          3541.35,
          3801.3,
          868.5,
          4859.1,
          1439.35,
          85.8,
          79.1,
          592.75,
          1185.95,
          18.8,
          134.5,
          4921.2,
          901.25,
          5341.8,
          4859.95,
          1139.2,
          7082.45,
          324.6,
          4812.75,
          4399.5,
          663.55,
          174.65,
          321.7,
          5125.5,
          548.9,
          50.15,
          7031.3,
          5016.65,
          4594.95,
          611.45,
          2384.15,
          319.85,
          153.3,
          7035.6,
          344.2,
          1431.65,
          1849.2,
          6083.1,
          426.65,
          1655.35,
          1943.9,
          1616.15,
          314.95,
          804.85,
          465.7,
          6669.05,
          1161.75,
          947.75,
          8375.05,
          34.7,
          3770,
          264.8,
          4707.85,
          6152.4,
          958.1,
          943,
          6615.15,
          2200.25,
          425.1,
          99.75,
          5044.8,
          6743.55,
          196.4,
          299.7,
          2093.9,
          417.75,
          1725.4,
          1620.2,
          3169.55,
          5233.25,
          967.85,
          438.05,
          1421.9,
          323.15,
          318.6,
          163.7,
          639.65,
          2928.5,
          100.35,
          273.2,
          1608.15,
          1441.95,
          2168.15,
          3618.7,
          5692.65,
          59.85,
          69.6,
          5969.3,
          19.05,
          418.8,
          8100.55,
          19.5,
          313.45,
          6130.95,
          69.9,
          745.3,
          1212.1,
          183.75,
          1583.5,
          4162.05,
          1119.9,
          8013.55,
          264.85,
          1102.4,
          5832,
          4304.5,
          1178.4,
          1421.75,
          6827.5,
          4698.05,
          654.5,
          3268.05,
          4362.05,
          1386.9,
          415.4,
          2614.1,
          1513.6,
          3161.6,
          80.95,
          4676.7,
          6526.65,
          583.3,
          8078.1,
          3503.5,
          6669.45,
          4689.5,
          1201.15,
          143.65,
          1292.65,
          48.75,
          7108.2,
          1802.55,
          1505.15,
          1859.1,
          168.5,
          390.85,
          6339.45,
          1652.4,
          71.65,
          77.5,
          6392.85,
          3264.5,
          4599.15,
          1134.25,
          1621.35,
          947.3,
          2722.2,
          3058.3,
          1769.6,
          6293.75,
          1761.05,
          1642.75,
          578.5,
          954.9,
          973.25,
          43.85,
          1490.4,
          280,
          1901.25,
          716.4,
          4720,
          930.95,
          76.35,
          1676.95,
          2642.05,
          6770.85,
          1835.3,
          1588.25,
          75.5,
          258.35,
          1502.25,
          19.2,
          6929.4,
          4453.3,
          3244.4,
          323.45,
          2661.1,
          2697.4,
          1424.5,
          1401.15,
          1739.6,
          5931,
          2333.85,
          949.85,
          572.45,
          696.8,
          1381.8,
          2572.95,
          47.95,
          45.1,
          45,
          2122.45,
          20.05,
          4931.8,
          116.95,
          6937.95,
          1261.7,
          3273.8,
          1415.85,
          3958.2,
          2492.25,
          279.2,
          1083,
          755.5,
          402.6,
          3252,
          68.75,
          46.2,
          45.15,
          43.3,
          936.85,
          2250.65,
          3857.1,
          1441.1,
          4338.6,
          1378.45,
          45.95,
          2566.3,
          171,
          1597.4,
          4744.35,
          6721.6,
          247.25,
          44.05,
          1734.65,
          45.55,
          4539.35,
          804.25,
          5011.15,
          3574.5,
          8086.4,
          4563,
          6362.35,
          67.1,
          70.05,
          165.45,
          1156.55,
          1834.15,
          3653.35,
          1477.65,
          1706.45,
          3953.7,
          1194.3,
          1327.85,
          419.7,
          21,
          45.1,
          207.35,
          1083.7,
          2007.85,
          5882.75,
          2657.55,
          1527.5,
          378.4,
          1612.2,
          76.65,
          260.7,
          6441.85,
          266.8,
          5124.6,
          962.25,
          1382.9,
          571.05,
          1399.35,
          150,
          167.2,
          7657.4,
          865.05,
          6153.85,
          174.2,
          1269.6,
          3862.55,
          6352.4,
          1348.5,
          50.9,
          471.55,
          5931.75,
          1404.65,
          726.1,
          1961.6,
          4194.85,
          4872.45,
          5118.95,
          658.95,
          81.05,
          76.95,
          5809.75,
          20.2,
          415.9,
          246.5,
          996.95,
          3145.15,
          265.3,
          20.9,
          21.05,
          4576.3,
          189.1,
          908.15,
          49.8,
          215.2,
          1500.95,
          5099.15,
          6385.95,
          159.45,
          6885.75,
          5940.85,
          668.85,
          1916.2,
          75.35,
          75.45,
          4613.95,
          7261.25,
          2459.8,
          2048.8,
          163.55,
          2888.7,
          2421.6,
          2292.75,
          553.4,
          3465.7,
          1210.4,
          1291.3,
          5356.45,
          5200.8,
          3237.05,
          576.65,
          433.75,
          1868.4,
          5728.55,
          825.7,
          390.4,
          93.55,
          2845.15,
          3894.4,
          886.4,
          1021.55,
          5885.4,
          268.4,
          2204.35,
          1259,
          309.1,
          6398.05,
          2257.75,
          6287.25,
          1662.05,
          1350.15,
          3600.65,
          1329.15,
          45.7,
          422.5,
          69.95,
          4627.65,
          6717.9,
          97.1,
          1710.45,
          637.4,
          117.95,
          2460.55,
          5464.65,
          2165.05,
          4941.8,
          223.15,
          181.1,
          341.45,
          5731.85,
          357.75,
          4616.1,
          4533.7,
          589.25,
          750.1,
          1410.25,
          830.85,
          743.5,
          45.3,
          7040.85,
          3865.45,
          6825.65,
          1340.1,
          371.65,
          1184,
          8477.7,
          7382.85,
          456.85,
          331.6,
          6056.15,
          134.6,
          125.5,
          1390.6,
          20.2,
          2511.3,
          2737.05,
          74.3,
          70.6,
          2361.8,
          1730.35,
          6404,
          165.35,
          1867.6,
          1043.3,
          128.6,
          7455.45,
          24.7,
          206.15,
          2030.3,
          5869.4,
          3377.8,
          1346.2,
          4946.05,
          4065,
          106.55,
          4964.7,
          4085.75,
          1742.75,
          6224.8,
          3415.25,
          6325.25,
          340.25,
          1683.6,
          3966.3,
          608.5,
          2896.6,
          1514.85,
          6792.45,
          4669.2,
          95.6,
          2934.3,
          6302.8,
          779.2,
          283.75,
          4600.7,
          5594,
          772.85,
          71.35,
          857.8,
          7554.05,
          5981.65,
          1702.9,
          467.15,
          20.15,
          69.75,
          2931,
          1400.85,
          137.85,
          1941.5,
          1932.75,
          1423.05,
          970.85,
          5810.9,
          223.9,
          391.7,
          79.95,
          19.3,
          811.65,
          174.75,
          3126.85,
          6841.45,
          3754.6,
          1406.65,
          834.7,
          627.4,
          242,
          3157,
          3092,
          2168.9,
          980.35,
          65.95,
          711.9,
          1952.8,
          4368.85,
          2647.1,
          8477.6,
          54.35,
          4528,
          1790.65,
          845.6,
          1210.3,
          20.45,
          854.45,
          2429.1,
          100.4,
          5229.45,
          44.45,
          1716.45,
          3023.55,
          75.3,
          4837.6,
          2032.3,
          436.9,
          70.55,
          20.15,
          5893.95,
          1430.05,
          313,
          3871.85,
          458.1,
          2745.7,
          341.35,
          1336.8,
          2181.75,
          147.75,
          818.45,
          7133.45,
          348.8,
          128.6,
          4674.4,
          1737.45,
          1498.85,
          50.1,
          1797.75,
          498.1,
          2624.25,
          184.1,
          5498.8,
          4845.4,
          369.1,
          6096.9,
          160.75,
          2684.35,
          3004.15,
          6994.8,
          273.25,
          5483.9,
          1233.65,
          527.9,
          4985.9,
          1258.35,
          111.4,
          43.95,
          308.1,
          383.65,
          2555.9,
          1284.2,
          7550.3,
          1110.05,
          99.6,
          6707.15,
          4164.4,
          5873.75,
          109.25,
          179.25,
          1338.15,
          862.4,
          8564.75,
          926.2,
          1718.2,
          5956.85,
          91.3,
          4824.45,
          1238.65,
          79.5,
          672.2,
          382.2,
          4264.6,
          1070.7,
          1345.85,
          1045.25,
          3003.55,
          467.55,
          7537.5,
          7482.1,
          3343.15,
          5427.05,
          587.1,
          100.8,
          161.15,
          7028.5,
          5232.9,
          225.85,
          274.7,
          1180.95,
          3370.2,
          7111.3,
          5958.85,
          5999.85,
          1648.45,
          5753.25,
          4492.9,
          3956.7,
          2625.55,
          1233.4,
          1309,
          813.45,
          1108.8,
          7349.35,
          294.2,
          929.2,
          740,
          754.5,
          3883.3,
          1414.2,
          3211.2,
          371.6,
          1246.4,
          95.85,
          2545.7,
          6448.85,
          1468.9,
          1013.6,
          6690.75,
          2088.75,
          7240.65,
          102.45,
          830.25,
          1588.7,
          829.3,
          302.45,
          712.25,
          1336.65,
          5360.75,
          6735.05,
          51.2,
          1010,
          4847.05,
          3019.7,
          161.65,
          217.55,
          2583.75,
          146.05,
          567.45,
          7711.25,
          1384.75,
          5481.25,
          8124.2,
          827.3,
          70.9,
          220.95,
          3673.6,
          49.85,
          576.65,
          2331.3,
          74.5,
          4495.65,
          6941.2,
          340.35,
          1789.9,
          908.55,
          1043.35,
          6822.15,
          71.55,
          157.55,
          5029.2,
          581.7,
          7318.2,
          420.45,
          7576.7,
          633.4,
          321.65,
          4965,
          6151.9,
          1253.9,
          25.15,
          45.2,
          5893.15,
          5420.65,
          2627.35,
          5037.55,
          743.75,
          6589.6,
          92.45,
          6733.15,
          3410,
          199.85,
          593.3,
          7288.4,
          5229.8,
          4464.8,
          5068.05,
          401.85,
          4451.85,
          6688.95,
          2661.1,
          73.05,
          1211.65,
          7030.65,
          1020.2,
          5597.65,
          6223.3,
          1024.65,
          2933.2,
          1258.3,
          82.9,
          7789.6,
          2067,
          3452.55,
          5468.95,
          1802.15,
          733.55,
          3021.45,
          3687.85,
          1391.15,
          274.35,
          1214.05,
          5510.65,
          1322.85,
          1973.75,
          2196.3,
          7843.55,
          3211.9,
          130.15,
          692.35,
          85.5,
          6849.4,
          203.95,
          2117.2,
          6565.85,
          424.75,
          3306.85,
          168.9,
          253.8,
          197.4,
          3838.2,
          2065.15,
          5064.45,
          1140.05,
          2447.45,
          1263.9,
          45.95,
          1838.15,
          44.75,
          1185,
          1743.9,
          70.15,
          85.55,
          8529.5,
          6549.45,
          7806.5,
          25.7,
          6287.3,
          3251.85,
          50.6,
          7904.25,
          729.95,
          2654.05,
          2416.55,
          3520.75,
          5969.95,
          226.8,
          1082.75,
          565.75,
          4370.75,
          90.05,
          2169.4,
          550.6,
          55.45,
          6300.85,
          160.05,
          436.6,
          1781.35,
          3467,
          5552.5,
          2835.5,
          3591.25,
          88.35,
          63.75,
          617.15,
          870.25,
          601.25,
          111.65,
          6046.1,
          3923.8,
          777.3,
          512.45,
          141.45,
          892.15,
          1682.05,
          3398.9,
          4984.85,
          1445.3,
          305.55,
          507.9,
          3640.45,
          2673.45,
          389.8,
          2401.05,
          651.55,
          156.1,
          2796.35,
          70.05,
          407.05,
          6465,
          511.25,
          646.05,
          35.9,
          3777.15,
          4903.15,
          1653.85,
          47.5,
          1306.3,
          463.6,
          60.65,
          824.85,
          2094.65,
          438.9,
          847.3,
          329.75,
          674.55,
          162.55,
          546.95,
          7887.25,
          3186.65,
          1972.35,
          1527.35,
          490.55,
          1531.4,
          683.25,
          8058.85,
          2847.4,
          1133.9,
          294.45,
          1719.15,
          461.7,
          1160.45,
          5199.8,
          5163.3,
          162.3,
          883.35,
          1341.5,
          70.45,
          659.45,
          77.15,
          35.25,
          1205.05,
          4917.9,
          201,
          599.3,
          1733.15,
          5149.5,
          4677.1,
          119.3,
          4849.1,
          5424.25,
          5878.9,
          244.85,
          220.75,
          4261.2,
          5574.75,
          1501.75,
          89.75,
          4541.2,
          255.5,
          1072,
          2509.25,
          1440.75,
          1715.65,
          5333.35,
          3895.35,
          869.9,
          706.85,
          512.25,
          2636.05,
          814.75,
          388.6,
          93.45,
          1389.85,
          2894.55
         ],
         "y0": " ",
         "yaxis": "y"
        }
       ],
       "layout": {
        "boxmode": "group",
        "legend": {
         "tracegroupgap": 0
        },
        "template": {
         "data": {
          "bar": [
           {
            "error_x": {
             "color": "#2a3f5f"
            },
            "error_y": {
             "color": "#2a3f5f"
            },
            "marker": {
             "line": {
              "color": "#E5ECF6",
              "width": 0.5
             },
             "pattern": {
              "fillmode": "overlay",
              "size": 10,
              "solidity": 0.2
             }
            },
            "type": "bar"
           }
          ],
          "barpolar": [
           {
            "marker": {
             "line": {
              "color": "#E5ECF6",
              "width": 0.5
             },
             "pattern": {
              "fillmode": "overlay",
              "size": 10,
              "solidity": 0.2
             }
            },
            "type": "barpolar"
           }
          ],
          "carpet": [
           {
            "aaxis": {
             "endlinecolor": "#2a3f5f",
             "gridcolor": "white",
             "linecolor": "white",
             "minorgridcolor": "white",
             "startlinecolor": "#2a3f5f"
            },
            "baxis": {
             "endlinecolor": "#2a3f5f",
             "gridcolor": "white",
             "linecolor": "white",
             "minorgridcolor": "white",
             "startlinecolor": "#2a3f5f"
            },
            "type": "carpet"
           }
          ],
          "choropleth": [
           {
            "colorbar": {
             "outlinewidth": 0,
             "ticks": ""
            },
            "type": "choropleth"
           }
          ],
          "contour": [
           {
            "colorbar": {
             "outlinewidth": 0,
             "ticks": ""
            },
            "colorscale": [
             [
              0,
              "#0d0887"
             ],
             [
              0.1111111111111111,
              "#46039f"
             ],
             [
              0.2222222222222222,
              "#7201a8"
             ],
             [
              0.3333333333333333,
              "#9c179e"
             ],
             [
              0.4444444444444444,
              "#bd3786"
             ],
             [
              0.5555555555555556,
              "#d8576b"
             ],
             [
              0.6666666666666666,
              "#ed7953"
             ],
             [
              0.7777777777777778,
              "#fb9f3a"
             ],
             [
              0.8888888888888888,
              "#fdca26"
             ],
             [
              1,
              "#f0f921"
             ]
            ],
            "type": "contour"
           }
          ],
          "contourcarpet": [
           {
            "colorbar": {
             "outlinewidth": 0,
             "ticks": ""
            },
            "type": "contourcarpet"
           }
          ],
          "heatmap": [
           {
            "colorbar": {
             "outlinewidth": 0,
             "ticks": ""
            },
            "colorscale": [
             [
              0,
              "#0d0887"
             ],
             [
              0.1111111111111111,
              "#46039f"
             ],
             [
              0.2222222222222222,
              "#7201a8"
             ],
             [
              0.3333333333333333,
              "#9c179e"
             ],
             [
              0.4444444444444444,
              "#bd3786"
             ],
             [
              0.5555555555555556,
              "#d8576b"
             ],
             [
              0.6666666666666666,
              "#ed7953"
             ],
             [
              0.7777777777777778,
              "#fb9f3a"
             ],
             [
              0.8888888888888888,
              "#fdca26"
             ],
             [
              1,
              "#f0f921"
             ]
            ],
            "type": "heatmap"
           }
          ],
          "heatmapgl": [
           {
            "colorbar": {
             "outlinewidth": 0,
             "ticks": ""
            },
            "colorscale": [
             [
              0,
              "#0d0887"
             ],
             [
              0.1111111111111111,
              "#46039f"
             ],
             [
              0.2222222222222222,
              "#7201a8"
             ],
             [
              0.3333333333333333,
              "#9c179e"
             ],
             [
              0.4444444444444444,
              "#bd3786"
             ],
             [
              0.5555555555555556,
              "#d8576b"
             ],
             [
              0.6666666666666666,
              "#ed7953"
             ],
             [
              0.7777777777777778,
              "#fb9f3a"
             ],
             [
              0.8888888888888888,
              "#fdca26"
             ],
             [
              1,
              "#f0f921"
             ]
            ],
            "type": "heatmapgl"
           }
          ],
          "histogram": [
           {
            "marker": {
             "pattern": {
              "fillmode": "overlay",
              "size": 10,
              "solidity": 0.2
             }
            },
            "type": "histogram"
           }
          ],
          "histogram2d": [
           {
            "colorbar": {
             "outlinewidth": 0,
             "ticks": ""
            },
            "colorscale": [
             [
              0,
              "#0d0887"
             ],
             [
              0.1111111111111111,
              "#46039f"
             ],
             [
              0.2222222222222222,
              "#7201a8"
             ],
             [
              0.3333333333333333,
              "#9c179e"
             ],
             [
              0.4444444444444444,
              "#bd3786"
             ],
             [
              0.5555555555555556,
              "#d8576b"
             ],
             [
              0.6666666666666666,
              "#ed7953"
             ],
             [
              0.7777777777777778,
              "#fb9f3a"
             ],
             [
              0.8888888888888888,
              "#fdca26"
             ],
             [
              1,
              "#f0f921"
             ]
            ],
            "type": "histogram2d"
           }
          ],
          "histogram2dcontour": [
           {
            "colorbar": {
             "outlinewidth": 0,
             "ticks": ""
            },
            "colorscale": [
             [
              0,
              "#0d0887"
             ],
             [
              0.1111111111111111,
              "#46039f"
             ],
             [
              0.2222222222222222,
              "#7201a8"
             ],
             [
              0.3333333333333333,
              "#9c179e"
             ],
             [
              0.4444444444444444,
              "#bd3786"
             ],
             [
              0.5555555555555556,
              "#d8576b"
             ],
             [
              0.6666666666666666,
              "#ed7953"
             ],
             [
              0.7777777777777778,
              "#fb9f3a"
             ],
             [
              0.8888888888888888,
              "#fdca26"
             ],
             [
              1,
              "#f0f921"
             ]
            ],
            "type": "histogram2dcontour"
           }
          ],
          "mesh3d": [
           {
            "colorbar": {
             "outlinewidth": 0,
             "ticks": ""
            },
            "type": "mesh3d"
           }
          ],
          "parcoords": [
           {
            "line": {
             "colorbar": {
              "outlinewidth": 0,
              "ticks": ""
             }
            },
            "type": "parcoords"
           }
          ],
          "pie": [
           {
            "automargin": true,
            "type": "pie"
           }
          ],
          "scatter": [
           {
            "fillpattern": {
             "fillmode": "overlay",
             "size": 10,
             "solidity": 0.2
            },
            "type": "scatter"
           }
          ],
          "scatter3d": [
           {
            "line": {
             "colorbar": {
              "outlinewidth": 0,
              "ticks": ""
             }
            },
            "marker": {
             "colorbar": {
              "outlinewidth": 0,
              "ticks": ""
             }
            },
            "type": "scatter3d"
           }
          ],
          "scattercarpet": [
           {
            "marker": {
             "colorbar": {
              "outlinewidth": 0,
              "ticks": ""
             }
            },
            "type": "scattercarpet"
           }
          ],
          "scattergeo": [
           {
            "marker": {
             "colorbar": {
              "outlinewidth": 0,
              "ticks": ""
             }
            },
            "type": "scattergeo"
           }
          ],
          "scattergl": [
           {
            "marker": {
             "colorbar": {
              "outlinewidth": 0,
              "ticks": ""
             }
            },
            "type": "scattergl"
           }
          ],
          "scattermapbox": [
           {
            "marker": {
             "colorbar": {
              "outlinewidth": 0,
              "ticks": ""
             }
            },
            "type": "scattermapbox"
           }
          ],
          "scatterpolar": [
           {
            "marker": {
             "colorbar": {
              "outlinewidth": 0,
              "ticks": ""
             }
            },
            "type": "scatterpolar"
           }
          ],
          "scatterpolargl": [
           {
            "marker": {
             "colorbar": {
              "outlinewidth": 0,
              "ticks": ""
             }
            },
            "type": "scatterpolargl"
           }
          ],
          "scatterternary": [
           {
            "marker": {
             "colorbar": {
              "outlinewidth": 0,
              "ticks": ""
             }
            },
            "type": "scatterternary"
           }
          ],
          "surface": [
           {
            "colorbar": {
             "outlinewidth": 0,
             "ticks": ""
            },
            "colorscale": [
             [
              0,
              "#0d0887"
             ],
             [
              0.1111111111111111,
              "#46039f"
             ],
             [
              0.2222222222222222,
              "#7201a8"
             ],
             [
              0.3333333333333333,
              "#9c179e"
             ],
             [
              0.4444444444444444,
              "#bd3786"
             ],
             [
              0.5555555555555556,
              "#d8576b"
             ],
             [
              0.6666666666666666,
              "#ed7953"
             ],
             [
              0.7777777777777778,
              "#fb9f3a"
             ],
             [
              0.8888888888888888,
              "#fdca26"
             ],
             [
              1,
              "#f0f921"
             ]
            ],
            "type": "surface"
           }
          ],
          "table": [
           {
            "cells": {
             "fill": {
              "color": "#EBF0F8"
             },
             "line": {
              "color": "white"
             }
            },
            "header": {
             "fill": {
              "color": "#C8D4E3"
             },
             "line": {
              "color": "white"
             }
            },
            "type": "table"
           }
          ]
         },
         "layout": {
          "annotationdefaults": {
           "arrowcolor": "#2a3f5f",
           "arrowhead": 0,
           "arrowwidth": 1
          },
          "autotypenumbers": "strict",
          "coloraxis": {
           "colorbar": {
            "outlinewidth": 0,
            "ticks": ""
           }
          },
          "colorscale": {
           "diverging": [
            [
             0,
             "#8e0152"
            ],
            [
             0.1,
             "#c51b7d"
            ],
            [
             0.2,
             "#de77ae"
            ],
            [
             0.3,
             "#f1b6da"
            ],
            [
             0.4,
             "#fde0ef"
            ],
            [
             0.5,
             "#f7f7f7"
            ],
            [
             0.6,
             "#e6f5d0"
            ],
            [
             0.7,
             "#b8e186"
            ],
            [
             0.8,
             "#7fbc41"
            ],
            [
             0.9,
             "#4d9221"
            ],
            [
             1,
             "#276419"
            ]
           ],
           "sequential": [
            [
             0,
             "#0d0887"
            ],
            [
             0.1111111111111111,
             "#46039f"
            ],
            [
             0.2222222222222222,
             "#7201a8"
            ],
            [
             0.3333333333333333,
             "#9c179e"
            ],
            [
             0.4444444444444444,
             "#bd3786"
            ],
            [
             0.5555555555555556,
             "#d8576b"
            ],
            [
             0.6666666666666666,
             "#ed7953"
            ],
            [
             0.7777777777777778,
             "#fb9f3a"
            ],
            [
             0.8888888888888888,
             "#fdca26"
            ],
            [
             1,
             "#f0f921"
            ]
           ],
           "sequentialminus": [
            [
             0,
             "#0d0887"
            ],
            [
             0.1111111111111111,
             "#46039f"
            ],
            [
             0.2222222222222222,
             "#7201a8"
            ],
            [
             0.3333333333333333,
             "#9c179e"
            ],
            [
             0.4444444444444444,
             "#bd3786"
            ],
            [
             0.5555555555555556,
             "#d8576b"
            ],
            [
             0.6666666666666666,
             "#ed7953"
            ],
            [
             0.7777777777777778,
             "#fb9f3a"
            ],
            [
             0.8888888888888888,
             "#fdca26"
            ],
            [
             1,
             "#f0f921"
            ]
           ]
          },
          "colorway": [
           "#636efa",
           "#EF553B",
           "#00cc96",
           "#ab63fa",
           "#FFA15A",
           "#19d3f3",
           "#FF6692",
           "#B6E880",
           "#FF97FF",
           "#FECB52"
          ],
          "font": {
           "color": "#2a3f5f"
          },
          "geo": {
           "bgcolor": "white",
           "lakecolor": "white",
           "landcolor": "#E5ECF6",
           "showlakes": true,
           "showland": true,
           "subunitcolor": "white"
          },
          "hoverlabel": {
           "align": "left"
          },
          "hovermode": "closest",
          "mapbox": {
           "style": "light"
          },
          "paper_bgcolor": "white",
          "plot_bgcolor": "#E5ECF6",
          "polar": {
           "angularaxis": {
            "gridcolor": "white",
            "linecolor": "white",
            "ticks": ""
           },
           "bgcolor": "#E5ECF6",
           "radialaxis": {
            "gridcolor": "white",
            "linecolor": "white",
            "ticks": ""
           }
          },
          "scene": {
           "xaxis": {
            "backgroundcolor": "#E5ECF6",
            "gridcolor": "white",
            "gridwidth": 2,
            "linecolor": "white",
            "showbackground": true,
            "ticks": "",
            "zerolinecolor": "white"
           },
           "yaxis": {
            "backgroundcolor": "#E5ECF6",
            "gridcolor": "white",
            "gridwidth": 2,
            "linecolor": "white",
            "showbackground": true,
            "ticks": "",
            "zerolinecolor": "white"
           },
           "zaxis": {
            "backgroundcolor": "#E5ECF6",
            "gridcolor": "white",
            "gridwidth": 2,
            "linecolor": "white",
            "showbackground": true,
            "ticks": "",
            "zerolinecolor": "white"
           }
          },
          "shapedefaults": {
           "line": {
            "color": "#2a3f5f"
           }
          },
          "ternary": {
           "aaxis": {
            "gridcolor": "white",
            "linecolor": "white",
            "ticks": ""
           },
           "baxis": {
            "gridcolor": "white",
            "linecolor": "white",
            "ticks": ""
           },
           "bgcolor": "#E5ECF6",
           "caxis": {
            "gridcolor": "white",
            "linecolor": "white",
            "ticks": ""
           }
          },
          "title": {
           "x": 0.05
          },
          "xaxis": {
           "automargin": true,
           "gridcolor": "white",
           "linecolor": "white",
           "ticks": "",
           "title": {
            "standoff": 15
           },
           "zerolinecolor": "white",
           "zerolinewidth": 2
          },
          "yaxis": {
           "automargin": true,
           "gridcolor": "white",
           "linecolor": "white",
           "ticks": "",
           "title": {
            "standoff": 15
           },
           "zerolinecolor": "white",
           "zerolinewidth": 2
          }
         }
        },
        "title": {
         "text": "Boxplot do valor total pago"
        },
        "xaxis": {
         "anchor": "y",
         "domain": [
          0,
          1
         ]
        },
        "yaxis": {
         "anchor": "x",
         "domain": [
          0,
          1
         ],
         "title": {
          "text": "Total_Pago"
         }
        }
       }
      }
     },
     "metadata": {},
     "output_type": "display_data"
    },
    {
     "data": {
      "text/html": [
       "<div>\n",
       "<style scoped>\n",
       "    .dataframe tbody tr th:only-of-type {\n",
       "        vertical-align: middle;\n",
       "    }\n",
       "\n",
       "    .dataframe tbody tr th {\n",
       "        vertical-align: top;\n",
       "    }\n",
       "\n",
       "    .dataframe thead th {\n",
       "        text-align: right;\n",
       "    }\n",
       "</style>\n",
       "<table border=\"1\" class=\"dataframe\">\n",
       "  <thead>\n",
       "    <tr style=\"text-align: right;\">\n",
       "      <th></th>\n",
       "      <th>Genero</th>\n",
       "      <th>Idoso</th>\n",
       "      <th>Casado</th>\n",
       "      <th>Dependentes</th>\n",
       "      <th>Tempo_como_Cliente</th>\n",
       "      <th>Servico_Telefone</th>\n",
       "      <th>Servico_Internet</th>\n",
       "      <th>Servico_Seguranca</th>\n",
       "      <th>Suporte_Tecnico</th>\n",
       "      <th>StreamingTV</th>\n",
       "      <th>Tipo_Contrato</th>\n",
       "      <th>Método_pagamento</th>\n",
       "      <th>Pagamento_Mensal</th>\n",
       "      <th>Total_Pago</th>\n",
       "      <th>Churn</th>\n",
       "    </tr>\n",
       "  </thead>\n",
       "  <tbody>\n",
       "    <tr>\n",
       "      <th>2175</th>\n",
       "      <td>MALE</td>\n",
       "      <td>False</td>\n",
       "      <td>True</td>\n",
       "      <td>False</td>\n",
       "      <td>71</td>\n",
       "      <td>Yes</td>\n",
       "      <td>FIBER OPTIC</td>\n",
       "      <td>YES</td>\n",
       "      <td>YES</td>\n",
       "      <td>YES</td>\n",
       "      <td>TWO YEAR</td>\n",
       "      <td>ELECTRONIC CHECK</td>\n",
       "      <td>116.25</td>\n",
       "      <td>8564.75</td>\n",
       "      <td>No</td>\n",
       "    </tr>\n",
       "    <tr>\n",
       "      <th>2356</th>\n",
       "      <td>FEMALE</td>\n",
       "      <td>False</td>\n",
       "      <td>True</td>\n",
       "      <td>False</td>\n",
       "      <td>72</td>\n",
       "      <td>Yes</td>\n",
       "      <td>FIBER OPTIC</td>\n",
       "      <td>YES</td>\n",
       "      <td>YES</td>\n",
       "      <td>YES</td>\n",
       "      <td>TWO YEAR</td>\n",
       "      <td>CREDIT CARD (AUTOMATIC)</td>\n",
       "      <td>117.15</td>\n",
       "      <td>8529.50</td>\n",
       "      <td>No</td>\n",
       "    </tr>\n",
       "  </tbody>\n",
       "</table>\n",
       "</div>"
      ],
      "text/plain": [
       "      Genero  Idoso  Casado  Dependentes  Tempo_como_Cliente Servico_Telefone  \\\n",
       "2175    MALE  False    True        False                  71              Yes   \n",
       "2356  FEMALE  False    True        False                  72              Yes   \n",
       "\n",
       "     Servico_Internet Servico_Seguranca Suporte_Tecnico StreamingTV  \\\n",
       "2175      FIBER OPTIC               YES             YES         YES   \n",
       "2356      FIBER OPTIC               YES             YES         YES   \n",
       "\n",
       "     Tipo_Contrato         Método_pagamento  Pagamento_Mensal  Total_Pago  \\\n",
       "2175      TWO YEAR         ELECTRONIC CHECK            116.25     8564.75   \n",
       "2356      TWO YEAR  CREDIT CARD (AUTOMATIC)            117.15     8529.50   \n",
       "\n",
       "     Churn  \n",
       "2175    No  \n",
       "2356    No  "
      ]
     },
     "execution_count": 57,
     "metadata": {},
     "output_type": "execute_result"
    },
    {
     "data": {
      "application/vnd.plotly.v1+json": {
       "config": {
        "plotlyServerURL": "https://plot.ly"
       },
       "data": [
        {
         "alignmentgroup": "True",
         "boxpoints": "all",
         "hovertemplate": "Pagamento_Mensal=%{y}<extra></extra>",
         "legendgroup": "",
         "marker": {
          "color": "Violet"
         },
         "name": "",
         "notched": false,
         "offsetgroup": "",
         "orientation": "v",
         "showlegend": false,
         "type": "box",
         "x0": " ",
         "xaxis": "x",
         "y": [
          29.85,
          56.95,
          53.85,
          40.269444444444446,
          21.220855614973264,
          91.77264150943395,
          64.37086956521739,
          91.77264150943395,
          40.269444444444446,
          21.220855614973264,
          21.220855614973264,
          64.37086956521739,
          64.37086956521739,
          64.37086956521739,
          91.77264150943395,
          40.269444444444446,
          64.37086956521739,
          64.37086956521739,
          91.77264150943395,
          91.77264150943395,
          64.37086956521739,
          21.220855614973264,
          64.37086956521739,
          91.77264150943395,
          91.77264150943395,
          91.77264150943395,
          91.77264150943395,
          91.77264150943395,
          64.37086956521739,
          64.37086956521739,
          21.220855614973264,
          64.37086956521739,
          64.37086956521739,
          91.77264150943395,
          64.37086956521739,
          91.77264150943395,
          64.37086956521739,
          64.37086956521739,
          91.77264150943395,
          91.77264150943395,
          64.37086956521739,
          91.77264150943395,
          64.37086956521739,
          91.77264150943395,
          91.77264150943395,
          91.77264150943395,
          21.220855614973264,
          91.77264150943395,
          91.77264150943395,
          91.77264150943395,
          40.269444444444446,
          64.37086956521739,
          91.77264150943395,
          64.37086956521739,
          91.77264150943395,
          64.37086956521739,
          21.220855614973264,
          91.77264150943395,
          64.37086956521739,
          21.220855614973264,
          91.77264150943395,
          21.220855614973264,
          64.37086956521739,
          91.77264150943395,
          64.37086956521739,
          64.37086956521739,
          64.37086956521739,
          21.220855614973264,
          91.77264150943395,
          40.269444444444446,
          91.77264150943395,
          91.77264150943395,
          21.220855614973264,
          91.77264150943395,
          64.37086956521739,
          21.220855614973264,
          21.220855614973264,
          40.269444444444446,
          91.77264150943395,
          91.77264150943395,
          64.37086956521739,
          91.77264150943395,
          91.77264150943395,
          91.77264150943395,
          64.37086956521739,
          21.220855614973264,
          21.220855614973264,
          91.77264150943395,
          21.220855614973264,
          21.220855614973264,
          91.77264150943395,
          40.269444444444446,
          91.77264150943395,
          40.269444444444446,
          91.77264150943395,
          40.269444444444446,
          91.77264150943395,
          21.220855614973264,
          91.77264150943395,
          64.37086956521739,
          91.77264150943395,
          91.77264150943395,
          40.269444444444446,
          91.77264150943395,
          40.269444444444446,
          91.77264150943395,
          21.220855614973264,
          91.77264150943395,
          91.77264150943395,
          21.220855614973264,
          91.77264150943395,
          64.37086956521739,
          21.220855614973264,
          91.77264150943395,
          91.77264150943395,
          21.220855614973264,
          21.220855614973264,
          40.269444444444446,
          91.77264150943395,
          40.269444444444446,
          64.37086956521739,
          40.269444444444446,
          64.37086956521739,
          21.220855614973264,
          91.77264150943395,
          21.220855614973264,
          21.220855614973264,
          91.77264150943395,
          64.37086956521739,
          64.37086956521739,
          91.77264150943395,
          91.77264150943395,
          21.220855614973264,
          91.77264150943395,
          21.220855614973264,
          64.37086956521739,
          64.37086956521739,
          64.37086956521739,
          64.37086956521739,
          91.77264150943395,
          91.77264150943395,
          64.37086956521739,
          21.220855614973264,
          91.77264150943395,
          91.77264150943395,
          21.220855614973264,
          64.37086956521739,
          21.220855614973264,
          64.37086956521739,
          65.5164295084129,
          65.5164295084129,
          65.5164295084129,
          65.5164295084129,
          65.5164295084129,
          65.5164295084129,
          65.5164295084129,
          65.5164295084129,
          65.5164295084129,
          65.5164295084129,
          65.5164295084129,
          65.5164295084129,
          65.5164295084129,
          65.5164295084129,
          65.5164295084129,
          65.5164295084129,
          65.5164295084129,
          65.5164295084129,
          65.5164295084129,
          65.5164295084129,
          65.5164295084129,
          65.5164295084129,
          65.5164295084129,
          65.5164295084129,
          65.5164295084129,
          65.5164295084129,
          65.5164295084129,
          65.5164295084129,
          65.5164295084129,
          65.5164295084129,
          65.5164295084129,
          65.5164295084129,
          65.5164295084129,
          65.5164295084129,
          65.5164295084129,
          65.5164295084129,
          65.5164295084129,
          65.5164295084129,
          65.5164295084129,
          65.5164295084129,
          65.5164295084129,
          65.5164295084129,
          65.5164295084129,
          65.5164295084129,
          65.5164295084129,
          65.5164295084129,
          65.5164295084129,
          65.5164295084129,
          65.5164295084129,
          65.5164295084129,
          65.5164295084129,
          65.5164295084129,
          65.5164295084129,
          65.5164295084129,
          65.5164295084129,
          65.5164295084129,
          65.5164295084129,
          65.5164295084129,
          65.5164295084129,
          65.5164295084129,
          65.5164295084129,
          65.5164295084129,
          65.5164295084129,
          65.5164295084129,
          65.5164295084129,
          65.5164295084129,
          65.5164295084129,
          65.5164295084129,
          65.5164295084129,
          65.5164295084129,
          65.5164295084129,
          65.5164295084129,
          65.5164295084129,
          65.5164295084129,
          65.5164295084129,
          65.5164295084129,
          65.5164295084129,
          65.5164295084129,
          65.5164295084129,
          65.5164295084129,
          65.5164295084129,
          65.5164295084129,
          65.5164295084129,
          65.5164295084129,
          65.5164295084129,
          65.5164295084129,
          65.5164295084129,
          65.5164295084129,
          65.5164295084129,
          65.5164295084129,
          65.5164295084129,
          65.5164295084129,
          65.5164295084129,
          65.5164295084129,
          65.5164295084129,
          65.5164295084129,
          65.5164295084129,
          65.5164295084129,
          65.5164295084129,
          65.5164295084129,
          65.5164295084129,
          65.5164295084129,
          65.5164295084129,
          65.5164295084129,
          65.5164295084129,
          65.5164295084129,
          65.5164295084129,
          65.5164295084129,
          65.5164295084129,
          65.5164295084129,
          65.5164295084129,
          65.5164295084129,
          65.5164295084129,
          65.5164295084129,
          65.5164295084129,
          65.5164295084129,
          65.5164295084129,
          65.5164295084129,
          65.5164295084129,
          65.5164295084129,
          65.5164295084129,
          65.5164295084129,
          65.5164295084129,
          65.5164295084129,
          65.5164295084129,
          65.5164295084129,
          65.5164295084129,
          65.5164295084129,
          65.5164295084129,
          65.5164295084129,
          65.5164295084129,
          65.5164295084129,
          65.5164295084129,
          65.5164295084129,
          65.5164295084129,
          65.5164295084129,
          65.5164295084129,
          65.5164295084129,
          65.5164295084129,
          64.9,
          95.45,
          90.4,
          60.3,
          81.85,
          24.8,
          74.9,
          75.55,
          101.15,
          78.75,
          19.25,
          89.05,
          115.05,
          69.35,
          80.6,
          110.05,
          19.9,
          80.3,
          93.15,
          91.5,
          82.45,
          60,
          44.8,
          48.6,
          60.05,
          102.7,
          82.9,
          70.35,
          35.9,
          82.65,
          19.85,
          19.2,
          94.9,
          73.85,
          80.6,
          75.8,
          104.6,
          88.15,
          94.8,
          103.4,
          54.65,
          85.75,
          67.45,
          20.5,
          20.25,
          72.1,
          90.4,
          19.45,
          44.95,
          97,
          62.8,
          44.6,
          89.15,
          84.8,
          41.9,
          80.25,
          54.1,
          105.25,
          30.75,
          97.1,
          20.2,
          98.8,
          50.3,
          20.55,
          75.9,
          96.5,
          59.95,
          19.15,
          98.65,
          112.6,
          20.6,
          85.65,
          35.75,
          99.75,
          96.1,
          85.1,
          25.35,
          104.95,
          89.65,
          86.75,
          86.2,
          50.65,
          64.8,
          90.85,
          108.1,
          19.95,
          85.45,
          54.75,
          90.4,
          44,
          95.6,
          84.8,
          44.3,
          19.9,
          95.05,
          90.05,
          109.9,
          73.95,
          54.6,
          20.05,
          19.75,
          20.05,
          99.45,
          55.9,
          19.7,
          19.8,
          95.4,
          93.95,
          19.9,
          19.6,
          81.35,
          24.45,
          74.95,
          87.35,
          70.65,
          73.25,
          98.7,
          24.8,
          83.3,
          75.3,
          24.3,
          69.85,
          100.55,
          25.7,
          40.7,
          51.65,
          105.1,
          85.95,
          75.6,
          58.25,
          19.4,
          65.2,
          53.45,
          45.4,
          19.75,
          44.45,
          20.85,
          114.05,
          89.85,
          55.05,
          112.95,
          101.55,
          114.65,
          64.8,
          80.4,
          105.9,
          69.55,
          25.05,
          94.75,
          105.5,
          24.7,
          69.75,
          60.2,
          81.05,
          24.4,
          104.15,
          92.9,
          80.8,
          20,
          75.1,
          19.65,
          69.45,
          101.15,
          99.8,
          116.05,
          40.05,
          102.1,
          89.7,
          19.9,
          55.95,
          20.65,
          55,
          70.05,
          53.6,
          74.7,
          80.25,
          76.05,
          75.7,
          96.1,
          69,
          19.65,
          45.3,
          81.45,
          108.5,
          83.55,
          84.5,
          100.15,
          88.6,
          52.55,
          74.35,
          104.8,
          59,
          74.4,
          64.05,
          20.4,
          43.75,
          60.9,
          19.8,
          28.45,
          99.7,
          116.25,
          80.7,
          65.2,
          84.05,
          79.45,
          94.1,
          78,
          94.2,
          80.5,
          19.85,
          94.3,
          106.45,
          74.35,
          105.45,
          95,
          104.8,
          54.3,
          70.05,
          75.2,
          20.05,
          105.4,
          51.6,
          85.5,
          75.6,
          100.05,
          91.25,
          115.75,
          94.7,
          19.6,
          99.9,
          21.1,
          20.05,
          79.95,
          107.15,
          85,
          89.55,
          81.55,
          58.45,
          95.65,
          80.6,
          113.1,
          58.95,
          19.55,
          86.05,
          45.55,
          78.95,
          86.3,
          105.05,
          101.9,
          19.75,
          110.3,
          115.6,
          19.35,
          25.6,
          80.35,
          68.75,
          19.9,
          70.6,
          70.2,
          49.3,
          107.25,
          23.6,
          69.7,
          99.5,
          64.3,
          70.85,
          101.9,
          73.5,
          100.25,
          40.4,
          19.25,
          59.6,
          64.9,
          100.3,
          110.85,
          81.05,
          98.05,
          70.5,
          94.55,
          19.65,
          19,
          75.3,
          89.2,
          19,
          20,
          85.7,
          63.25,
          20.1,
          99.15,
          90.4,
          111.9,
          24.9,
          83.5,
          84.3,
          45.6,
          61.65,
          54.85,
          65.55,
          90.35,
          20.4,
          74.55,
          19.95,
          74.25,
          108.65,
          109.55,
          86.65,
          81,
          47.85,
          114.55,
          105.25,
          29.95,
          65,
          20.55,
          109.8,
          69.5,
          48.85,
          65.5164295084129,
          65.5164295084129,
          65.5164295084129,
          65.5164295084129,
          65.5164295084129,
          65.5164295084129,
          65.5164295084129,
          65.5164295084129,
          65.5164295084129,
          65.5164295084129,
          65.5164295084129,
          65.5164295084129,
          65.5164295084129,
          65.5164295084129,
          65.5164295084129,
          65.5164295084129,
          65.5164295084129,
          65.5164295084129,
          65.5164295084129,
          65.5164295084129,
          99.45,
          70.9,
          104.55,
          85.25,
          25.4,
          56.15,
          89.55,
          89.85,
          25.25,
          94.55,
          45.7,
          69.65,
          89.5,
          70,
          69.55,
          74.6,
          20.1,
          24.8,
          19.65,
          95.1,
          88.85,
          78.8,
          19.85,
          20.35,
          24.25,
          45.25,
          20.05,
          69.55,
          19.5,
          74.75,
          69.65,
          30.2,
          45.65,
          57.8,
          19.85,
          25.55,
          75.05,
          24.85,
          49.15,
          110.35,
          24.55,
          34.7,
          107.95,
          81.4,
          80,
          65.5164295084129,
          65.5164295084129,
          65.5164295084129,
          65.5164295084129,
          65.5164295084129,
          65.5164295084129,
          65.5164295084129,
          65.5164295084129,
          83.4,
          20.45,
          75.25,
          20.55,
          75.1,
          20.05,
          20.65,
          85.15,
          50.15,
          84.95,
          66.5,
          63.3,
          83.15,
          84.9,
          20.55,
          49.25,
          79.85,
          59.6,
          104.65,
          75.3,
          80.1,
          19.55,
          81,
          24.7,
          86,
          25.4,
          89.15,
          58.25,
          85.65,
          50.35,
          80.35,
          20.2,
          20.55,
          85.95,
          45.35,
          94.5,
          21.25,
          26.25,
          80.85,
          91.7,
          74.2,
          87.25,
          20.35,
          75.5,
          79.05,
          90.15,
          50.6,
          110.45,
          101,
          79.35,
          89.85,
          65,
          80.45,
          98.55,
          24.1,
          44.05,
          110.8,
          114.95,
          75.05,
          19.25,
          90.05,
          56.7,
          80.15,
          71.35,
          20.25,
          90.35,
          98.55,
          19.7,
          19.85,
          85.9,
          90.35,
          20.8,
          89.25,
          70.3,
          66.85,
          19.9,
          35.8,
          78.85,
          20.4,
          74.25,
          64.8,
          20.45,
          93.35,
          19.9,
          88.9,
          95.8,
          110.65,
          40.3,
          82,
          107,
          45.35,
          73.35,
          44.8,
          54.75,
          52.2,
          40.6,
          110,
          55.3,
          60.85,
          78.4,
          69.65,
          59.85,
          76.9,
          19.85,
          67.65,
          45,
          64.2,
          81.7,
          25.55,
          20,
          96.75,
          75.65,
          98.5,
          23.8,
          64.2,
          85.35,
          76.8,
          55.2,
          108.55,
          101.3,
          69.55,
          103.25,
          104,
          25.25,
          30.4,
          20.05,
          84.6,
          86.2,
          103.7,
          111.2,
          88,
          106.35,
          79.15,
          103.1,
          63.95,
          25.8,
          89.45,
          95.6,
          25.55,
          90.95,
          44.85,
          108.55,
          25.05,
          74.1,
          88.8,
          78.85,
          93.25,
          71.4,
          44.4,
          79.2,
          20.4,
          100,
          105,
          19.8,
          30.85,
          89.9,
          20.55,
          84.85,
          33.15,
          92,
          89.8,
          115.8,
          85.15,
          24.85,
          64.35,
          20.5,
          100.15,
          86.05,
          50.8,
          89,
          64.8,
          19.8,
          93.4,
          73.65,
          95.1,
          94.65,
          80.6,
          39,
          20.5,
          85.55,
          26.4,
          98.2,
          97.55,
          19.95,
          50.8,
          99.7,
          34.8,
          105.1,
          60.15,
          64.75,
          54.65,
          110.1,
          19.3,
          83.9,
          111.25,
          35.8,
          20.05,
          84.35,
          110.5,
          91.2,
          100.55,
          89.3,
          103.85,
          81.1,
          24.6,
          81.2,
          94.3,
          116.1,
          105.55,
          98.9,
          94.4,
          19.5,
          98.3,
          93.85,
          105.6,
          81.35,
          100.5,
          56.4,
          65.35,
          19.95,
          111.25,
          72.85,
          89,
          106.1,
          20.05,
          25.2,
          73.55,
          75.4,
          65.55,
          80.7,
          104.55,
          24.15,
          20.45,
          75.4,
          79.7,
          81.7,
          76.3,
          79.4,
          81.15,
          103.75,
          86.45,
          75.1,
          80.6,
          19.3,
          84.6,
          33.6,
          83.25,
          80.85,
          79.05,
          108.05,
          19.9,
          21.05,
          30.15,
          79.85,
          65.5,
          104.1,
          74.4,
          20.5,
          91.35,
          99.05,
          20.5,
          44.95,
          75.6,
          55.1,
          58.95,
          95.1,
          44.7,
          25.45,
          56.75,
          81.75,
          86.1,
          29.8,
          20.5,
          60.9,
          73.25,
          45.7,
          100.3,
          19.25,
          20.85,
          77.35,
          96,
          90.55,
          93.85,
          70.1,
          30.35,
          75.95,
          108.05,
          69.9,
          75.25,
          103.75,
          54.95,
          19.5,
          19.6,
          47.85,
          86.6,
          23.75,
          80.6,
          43.8,
          19.75,
          19.15,
          19.6,
          80.3,
          24.35,
          25.25,
          26.1,
          20,
          85.3,
          70,
          94.3,
          20.7,
          70.3,
          95.35,
          75.5,
          69.55,
          19.85,
          20,
          95.85,
          90.1,
          68.95,
          99.55,
          20.75,
          50.15,
          58.65,
          95.9,
          49.5,
          57.45,
          53.65,
          80.1,
          24.4,
          40.05,
          19.5,
          51.05,
          54.35,
          84.7,
          86.1,
          70.35,
          110,
          100.6,
          94.9,
          83.75,
          88.3,
          69.75,
          71.6,
          92.1,
          23.65,
          81.85,
          25.1,
          114.7,
          49.15,
          80.9,
          79.45,
          90.45,
          19.3,
          70.2,
          69.75,
          54.25,
          99.3,
          74,
          50.25,
          19.8,
          19.65,
          43.65,
          35.5,
          80.75,
          39.5,
          97.1,
          19.55,
          80,
          84.7,
          89.55,
          90.6,
          20.05,
          112.4,
          50.2,
          62.25,
          55.7,
          90.05,
          19.65,
          89.25,
          99.05,
          54,
          69.75,
          49.05,
          56.75,
          98.05,
          21.1,
          96.65,
          24.5,
          114.5,
          79.2,
          69.55,
          20.05,
          98.85,
          25.75,
          80.95,
          19.6,
          74.3,
          89.7,
          87.65,
          100.45,
          74.75,
          107.45,
          75.35,
          64.95,
          100.45,
          68.5,
          80.55,
          81.25,
          90.4,
          89.55,
          55.7,
          24.8,
          20,
          56.15,
          105.2,
          19.55,
          79.75,
          97.45,
          24.25,
          24.6,
          50.15,
          39.6,
          94.4,
          89.85,
          78.95,
          98.85,
          53.85,
          24.25,
          89.45,
          105.25,
          59.5,
          70.55,
          82.5,
          44.85,
          61.6,
          49.05,
          105.65,
          74.65,
          66.25,
          19.4,
          86.05,
          19.15,
          64.7,
          104.05,
          19.25,
          81.95,
          114.65,
          20,
          19.8,
          65.15,
          19.65,
          88.95,
          20.2,
          75.2,
          56.8,
          35.55,
          75.5,
          35.6,
          60.25,
          95.15,
          96.65,
          40.35,
          18.85,
          54.85,
          64.3,
          24.65,
          76.1,
          18.7,
          97.95,
          94.1,
          80.4,
          95.1,
          31.35,
          72.35,
          89.75,
          82.7,
          19.9,
          53.8,
          51.55,
          19.65,
          44.05,
          114,
          94.4,
          100.4,
          19.85,
          54.25,
          80,
          109.9,
          79.2,
          101.35,
          94.3,
          49.8,
          60.05,
          53.75,
          93.45,
          87.9,
          60.15,
          61.05,
          104.05,
          99.25,
          85.7,
          104.85,
          69.15,
          90.45,
          74.45,
          50.45,
          60,
          85.25,
          19.45,
          20.75,
          78.9,
          104.5,
          49.4,
          94.25,
          25,
          25.55,
          74.9,
          70.15,
          69.4,
          80.25,
          93.15,
          69,
          66.35,
          69.55,
          20.2,
          86,
          80.3,
          20.4,
          23.75,
          90.55,
          70.45,
          65.75,
          24.6,
          69.25,
          75.9,
          45.85,
          49.95,
          24.65,
          90.4,
          100.85,
          75.35,
          87.2,
          64.4,
          78.3,
          24.7,
          105.85,
          98.3,
          76.95,
          19.45,
          96.15,
          58.7,
          20.15,
          64.5,
          28.5,
          45.3,
          19.4,
          90.45,
          105.15,
          83.15,
          90.15,
          45.05,
          103.2,
          75.8,
          19.45,
          79.3,
          88.8,
          30.9,
          85.9,
          34.2,
          20.15,
          95.25,
          50.3,
          80.15,
          51.25,
          89.6,
          95.2,
          94.8,
          80.25,
          76.1,
          110.15,
          115.55,
          24.65,
          53.6,
          19.45,
          88.2,
          101.15,
          56.8,
          99.4,
          20.1,
          60.7,
          20.95,
          114.85,
          19.25,
          62.8,
          105.5,
          19.85,
          89.5,
          74.1,
          107.5,
          19.55,
          68.8,
          84.45,
          75,
          84.5,
          111.2,
          44.75,
          80.6,
          80.7,
          75.6,
          57.6,
          44.05,
          110.6,
          58.2,
          81,
          19.7,
          85.6,
          59.55,
          115.55,
          75.55,
          86.6,
          85.2,
          97.65,
          45.1,
          70.95,
          109.55,
          89.55,
          20.9,
          19.95,
          24.6,
          66.7,
          19.45,
          94.8,
          65.85,
          19.95,
          24.65,
          20.35,
          69.25,
          51.25,
          99.5,
          54.25,
          19.4,
          56.25,
          25.15,
          23.95,
          35.4,
          25.2,
          45,
          75.35,
          20.4,
          20.15,
          105,
          56.05,
          54.7,
          20,
          73.05,
          20.5,
          100.75,
          87.25,
          19.95,
          79.95,
          49.65,
          65.65,
          20.45,
          60.95,
          20.35,
          88.35,
          19.5,
          75.2,
          111.45,
          70.15,
          94.75,
          95.05,
          78.45,
          70.2,
          92,
          85.5,
          41.05,
          85.6,
          82.15,
          84.4,
          60.9,
          20.25,
          79.2,
          95.3,
          19.85,
          84.35,
          19.85,
          70,
          82.3,
          66.8,
          44.6,
          98.45,
          70.7,
          24.95,
          49.95,
          69.25,
          102.5,
          86.55,
          24.3,
          58.35,
          94.25,
          68.75,
          85.8,
          20.1,
          20.35,
          110.8,
          73,
          100.05,
          82.85,
          84.35,
          19.55,
          19.95,
          99.8,
          35,
          66.25,
          23.3,
          76,
          25.3,
          44.55,
          104.1,
          92.55,
          93.85,
          101.45,
          84.3,
          94.55,
          95.5,
          100.3,
          55.5,
          49.85,
          89.55,
          19.15,
          99.8,
          84.4,
          113.05,
          101.1,
          19.95,
          74.15,
          92,
          73.85,
          50.45,
          24.45,
          24.8,
          64.85,
          20.75,
          68.95,
          99.95,
          109.4,
          91.4,
          49,
          50.25,
          75.55,
          19.9,
          97.8,
          100.3,
          55.8,
          111.15,
          98.55,
          50.05,
          80.8,
          20.85,
          19.5,
          19.35,
          69.5,
          48.8,
          94.5,
          20.65,
          106.05,
          100,
          108.3,
          20.55,
          99.65,
          85.3,
          95.9,
          20,
          70.4,
          64.95,
          74.6,
          49.2,
          73.75,
          92.3,
          98.8,
          19.2,
          88.65,
          74.4,
          98.75,
          95.95,
          105.4,
          20.25,
          106,
          104.7,
          49.05,
          35.55,
          65.1,
          96.85,
          69.75,
          99.2,
          96.7,
          55.05,
          106.8,
          51.25,
          57.75,
          70.85,
          19.55,
          88.2,
          79.5,
          19.75,
          98.15,
          20.25,
          79.15,
          75.65,
          94.25,
          40.2,
          19.95,
          55.35,
          102.15,
          71.1,
          74.7,
          54.1,
          19.65,
          88.45,
          76.65,
          80.4,
          19.25,
          84.8,
          25.8,
          19.5,
          68.6,
          92.6,
          100.55,
          20.55,
          42.6,
          19.6,
          67.45,
          68.85,
          43.55,
          109.85,
          20.65,
          95.4,
          21,
          56.2,
          18.4,
          90,
          25.75,
          19.6,
          75.35,
          19.8,
          64.2,
          75.75,
          78.95,
          100.85,
          50.3,
          80.3,
          19.85,
          21.1,
          69.95,
          50,
          104.75,
          19.85,
          107.5,
          85.9,
          45.85,
          80.8,
          25.25,
          80.55,
          81.5,
          20.9,
          106.1,
          91.7,
          67.25,
          95.6,
          20.35,
          45.05,
          74.95,
          34.65,
          69.35,
          95.35,
          81.55,
          75.4,
          67.8,
          111.4,
          46.3,
          20.4,
          20.05,
          45,
          96.1,
          19.65,
          99.5,
          60.65,
          98.6,
          59.5,
          80.45,
          71.7,
          36,
          65.2,
          48.95,
          53.5,
          80.45,
          109.05,
          26.3,
          106.8,
          64.95,
          19.35,
          21.1,
          77.95,
          18.85,
          26,
          74.7,
          70.35,
          96.9,
          19.55,
          80.4,
          88.8,
          94.65,
          90.25,
          64.65,
          95.75,
          19.55,
          104.1,
          89.05,
          20.1,
          111.55,
          60.5,
          90.95,
          87.4,
          19.7,
          50.95,
          20.05,
          19.4,
          59.45,
          94.75,
          81.5,
          29.05,
          86.45,
          70.6,
          97.2,
          98.25,
          75.75,
          59.2,
          75.9,
          90.05,
          70.95,
          102.6,
          85.35,
          106.1,
          43.8,
          59,
          69.95,
          24.35,
          29.45,
          84.4,
          45.05,
          20.65,
          87.1,
          19.85,
          90.35,
          109.8,
          84.65,
          65.5,
          79.5,
          80.95,
          56.15,
          85.8,
          79.1,
          34.4,
          20.75,
          18.8,
          44.3,
          90.8,
          25.6,
          105.95,
          70.8,
          25.4,
          108.8,
          69.75,
          94.65,
          96.05,
          76.85,
          20.25,
          24.8,
          115.65,
          74.6,
          50.15,
          103.15,
          72.1,
          113.6,
          25.1,
          78.9,
          80.15,
          25.4,
          105.4,
          45.75,
          24.45,
          25,
          85.25,
          19.6,
          50.15,
          70.55,
          60.05,
          26.4,
          20.15,
          58.85,
          97.55,
          19.65,
          25.25,
          114.45,
          34.7,
          70.7,
          85.3,
          75.55,
          84.8,
          20.65,
          20.45,
          102.45,
          104.4,
          35.65,
          99.75,
          90.45,
          97.65,
          73.85,
          74.4,
          69.1,
          82.75,
          24.4,
          55.25,
          61.35,
          76.75,
          19.4,
          54.75,
          19.7,
          19.9,
          107.95,
          83.8,
          74.25,
          56.4,
          20.1,
          94.9,
          94.2,
          49.9,
          71.05,
          81.65,
          89.45,
          59.85,
          69.6,
          99,
          19.05,
          45.4,
          114.45,
          19.5,
          44.25,
          90.55,
          69.9,
          20.4,
          71.4,
          87.15,
          24.85,
          104.45,
          19.8,
          116.45,
          84.75,
          20.05,
          110.75,
          89.7,
          89.95,
          48.7,
          96.6,
          74.3,
          54.3,
          74.85,
          79.95,
          20.05,
          19.4,
          54.9,
          24.45,
          89.65,
          45.4,
          75.7,
          110.65,
          20.55,
          115.15,
          58.55,
          93.25,
          113.2,
          90.5,
          79,
          19.35,
          48.75,
          109.05,
          25,
          54.9,
          24.75,
          91.15,
          20.15,
          104.35,
          66.05,
          71.65,
          20.35,
          92.2,
          84.25,
          105.2,
          19.6,
          30.4,
          78.1,
          61.5,
          69.4,
          24.75,
          91.05,
          89.65,
          73.65,
          19.4,
          26.2,
          98.7,
          43.85,
          69.7,
          38.55,
          53.1,
          20.65,
          64.45,
          25.1,
          76.35,
          79.15,
          85,
          95.15,
          79.35,
          96.65,
          75.5,
          19.7,
          20.5,
          19.2,
          98.35,
          74.35,
          51.35,
          45.65,
          85.3,
          86.55,
          73.85,
          20.3,
          54.2,
          90.65,
          50.9,
          25.05,
          74.85,
          20.5,
          63.55,
          44.85,
          47.95,
          45.1,
          45,
          96,
          20.05,
          90.05,
          25.3,
          108.65,
          24.3,
          75.95,
          19.7,
          66.4,
          35.75,
          18.8,
          19.4,
          19.3,
          45.55,
          67.45,
          35.1,
          46.2,
          45.15,
          43.3,
          20.1,
          57.15,
          58.9,
          73.2,
          85.35,
          19.45,
          45.95,
          50.5,
          25.1,
          60.7,
          99,
          104.4,
          83.75,
          44.05,
          24.1,
          45.55,
          93.8,
          19.7,
          70.65,
          86.45,
          114.1,
          95.2,
          88.55,
          20.75,
          70.05,
          86,
          44.65,
          60.2,
          100.5,
          55.45,
          70.3,
          60.4,
          72.65,
          55.8,
          31.1,
          21,
          45.1,
          50.95,
          69.1,
          43.95,
          86.5,
          69.95,
          50.4,
          78.95,
          90.95,
          19.9,
          20.15,
          90.6,
          92,
          94.45,
          24.85,
          36,
          78.5,
          19.95,
          20.65,
          30.5,
          106.1,
          20.5,
          95.5,
          64.6,
          51.1,
          84.8,
          89.1,
          54.95,
          50.9,
          20.45,
          85.95,
          60.35,
          19.8,
          85.35,
          72.1,
          99.8,
          107.35,
          19.55,
          81.05,
          20.5,
          111.8,
          20.2,
          19.7,
          79.1,
          19.85,
          60.5,
          19.55,
          20.9,
          21.05,
          71.5,
          54.65,
          19.2,
          49.8,
          25.5,
          20.5,
          90.4,
          90.25,
          80.75,
          104.6,
          91.85,
          50.2,
          95.5,
          75.35,
          75.45,
          95.4,
          101.3,
          53.1,
          84.85,
          34.25,
          88.6,
          60.15,
          99.95,
          70.7,
          54.8,
          49.55,
          54.8,
          78.6,
          100.3,
          53.6,
          81.1,
          19.35,
          85.6,
          80.8,
          74.95,
          19.6,
          93.55,
          90.7,
          69.75,
          20,
          95.25,
          102.1,
          19.95,
          80.85,
          90.9,
          29.2,
          93.3,
          89.15,
          108.85,
          46.35,
          84.75,
          78.75,
          83.55,
          45.7,
          19.6,
          69.95,
          67.85,
          105.65,
          44.6,
          74.95,
          75.5,
          20.15,
          45.2,
          95.25,
          89.85,
          100.45,
          47.15,
          80.2,
          87.1,
          79.25,
          75.9,
          85.7,
          98.75,
          20.1,
          61.8,
          49.9,
          86.45,
          20.4,
          45.3,
          104.1,
          75.4,
          108.15,
          86.25,
          81,
          95.7,
          116.85,
          105.75,
          20.15,
          19.6,
          90.6,
          60.95,
          25.05,
          88.15,
          20.2,
          60.3,
          63.95,
          74.3,
          70.6,
          90.8,
          79.35,
          90.55,
          19.45,
          64.45,
          69.65,
          19.5,
          110.5,
          24.7,
          77.4,
          96.8,
          85.4,
          47.6,
          19.4,
          103.85,
          83.35,
          49.4,
          108.45,
          81,
          79.2,
          86.65,
          92.95,
          90.35,
          48.7,
          25.15,
          76.4,
          19.55,
          85.35,
          24.8,
          103.15,
          100.75,
          95.6,
          59.75,
          94.1,
          19.35,
          19.9,
          108.15,
          101.05,
          59.1,
          71.35,
          55.85,
          106.05,
          84.1,
          75.3,
          24.7,
          20.15,
          69.75,
          93.2,
          80.85,
          33.65,
          55.8,
          39.7,
          29.5,
          20.15,
          79.55,
          24.8,
          19.65,
          79.95,
          19.3,
          94.05,
          90.75,
          78.85,
          99.5,
          99.2,
          80.55,
          70.2,
          85.2,
          75.25,
          59.45,
          93.35,
          44.95,
          26.1,
          20.2,
          21.25,
          59.4,
          95,
          61.9,
          118.65,
          54.35,
          64.45,
          80.15,
          20.2,
          21,
          20.45,
          75.85,
          80.45,
          24.95,
          75.5,
          44.45,
          42.35,
          74.55,
          75.3,
          94.8,
          48.15,
          19.65,
          70.55,
          20.15,
          106.6,
          91,
          25.4,
          69.95,
          66.85,
          86.15,
          20.15,
          64.85,
          74.85,
          50.5,
          72.9,
          115.05,
          19,
          19.55,
          101.1,
          84.1,
          24.15,
          50.1,
          74.6,
          19.75,
          85,
          80.55,
          106.8,
          84.5,
          25.05,
          83.7,
          75.8,
          96.6,
          98.5,
          101.1,
          20.2,
          94.05,
          95.25,
          74.4,
          81,
          60.25,
          60.85,
          43.95,
          86.05,
          20.25,
          85.15,
          19.4,
          102.65,
          19.9,
          19.55,
          95.5,
          84.15,
          103.2,
          50.2,
          88.55,
          54.75,
          19.95,
          116.25,
          31.2,
          24.45,
          84.2,
          91.3,
          85.65,
          21.2,
          79.5,
          25.55,
          20.2,
          63.85,
          61.95,
          25.75,
          58.2,
          85.85,
          70.1,
          104.9,
          111.3,
          99.85,
          95.25,
          86.25,
          100.8,
          19.55,
          104,
          104.4,
          19.5,
          25.25,
          86.3,
          49.85,
          108.95,
          89.9,
          82,
          89.95,
          79.35,
          64.05,
          101.15,
          89.95,
          76.45,
          39.1,
          34.6,
          19.55,
          104.45,
          70.5,
          20.35,
          70,
          19.45,
          69.9,
          59.7,
          78.35,
          71.45,
          45.85,
          95.85,
          35.7,
          89.55,
          24.95,
          24.85,
          100.8,
          64.4,
          105.35,
          102.45,
          19.65,
          54.45,
          70.5,
          20.1,
          69.35,
          19.8,
          74.4,
          93.05,
          51.2,
          65.6,
          80.55,
          52.7,
          20.85,
          80.1,
          52.15,
          80.2,
          98.15,
          114.95,
          112.95,
          104.45,
          113.65,
          20.6,
          70.9,
          86.85,
          91.55,
          49.85,
          19.8,
          99.85,
          74.5,
          104.15,
          109.15,
          48.2,
          25.1,
          100.15,
          65.2,
          99.5,
          71.55,
          55.9,
          93.9,
          64.4,
          108.4,
          85.3,
          107.45,
          48.75,
          85.65,
          91.3,
          85.95,
          106.7,
          25.15,
          45.2,
          110.35,
          79.2,
          55.5,
          103.25,
          90.25,
          91.25,
          47.8,
          100.9,
          97.7,
          69.85,
          65.6,
          104.65,
          90.45,
          63.7,
          104.5,
          20.1,
          104.3,
          93.25,
          73.45,
          20.7,
          25.25,
          100.5,
          90.6,
          89.4,
          95.45,
          20.45,
          98.6,
          83.05,
          19.95,
          109.15,
          85.7,
          102.05,
          94.7,
          64.4,
          26.8,
          66.05,
          65.2,
          85.05,
          55.8,
          70.4,
          104.75,
          19.95,
          94.25,
          45,
          114.9,
          106.4,
          46.1,
          39.7,
          20.05,
          95.75,
          24.4,
          33.6,
          90.45,
          84,
          67.4,
          19.7,
          80.35,
          19.6,
          54.2,
          45.2,
          75.1,
          19.7,
          72.75,
          20.05,
          45.95,
          39.2,
          44.75,
          82.65,
          93.9,
          70.15,
          85.55,
          117.15,
          99.25,
          112.55,
          25.7,
          90.3,
          49.4,
          19.4,
          109.7,
          61.25,
          55.3,
          70.3,
          106.35,
          103.75,
          19.5,
          39.5,
          26.05,
          91.05,
          29.65,
          50.2,
          105.3,
          55.45,
          85.45,
          19.8,
          59.25,
          90.7,
          103.7,
          79.05,
          90.7,
          95,
          88.35,
          30.25,
          49.85,
          93,
          54.55,
          19.7,
          84.8,
          94.45,
          94.2,
          96.25,
          70.7,
          20.85,
          60,
          80.45,
          84.95,
          33.55,
          49.65,
          20.2,
          94.55,
          100.5,
          35.75,
          86.45,
          53.8,
          38.55,
          39.9,
          70.05,
          20.1,
          112.95,
          20.3,
          35.65,
          35.9,
          99.25,
          82.95,
          55.65,
          24.45,
          25.2,
          50.8,
          19.65,
          59.8,
          73.55,
          61.4,
          103.35,
          19.9,
          19.45,
          81.5,
          84.8,
          109.55,
          99.95,
          74.4,
          90,
          74.9,
          104.85,
          59.65,
          110.45,
          106.1,
          74.2,
          74.45,
          24.55,
          89.35,
          24.55,
          90.65,
          105.05,
          20.45,
          19.55,
          19.7,
          70.45,
          85.65,
          77.15,
          35.25,
          20.55,
          97.95,
          48.55,
          20,
          25.25,
          98.4,
          70.9,
          19.85,
          106.35,
          99.5,
          84.7,
          86.05,
          44.55,
          75.85,
          93.85,
          25,
          45,
          100.7,
          20.5,
          80.45,
          90.45,
          60.45,
          55.25,
          78.45,
          100.55,
          20.35,
          54.45,
          90.75,
          75.35,
          20.25,
          20.05,
          19.6,
          53.8,
          70.2
         ],
         "y0": " ",
         "yaxis": "y"
        }
       ],
       "layout": {
        "boxmode": "group",
        "legend": {
         "tracegroupgap": 0
        },
        "template": {
         "data": {
          "bar": [
           {
            "error_x": {
             "color": "#2a3f5f"
            },
            "error_y": {
             "color": "#2a3f5f"
            },
            "marker": {
             "line": {
              "color": "#E5ECF6",
              "width": 0.5
             },
             "pattern": {
              "fillmode": "overlay",
              "size": 10,
              "solidity": 0.2
             }
            },
            "type": "bar"
           }
          ],
          "barpolar": [
           {
            "marker": {
             "line": {
              "color": "#E5ECF6",
              "width": 0.5
             },
             "pattern": {
              "fillmode": "overlay",
              "size": 10,
              "solidity": 0.2
             }
            },
            "type": "barpolar"
           }
          ],
          "carpet": [
           {
            "aaxis": {
             "endlinecolor": "#2a3f5f",
             "gridcolor": "white",
             "linecolor": "white",
             "minorgridcolor": "white",
             "startlinecolor": "#2a3f5f"
            },
            "baxis": {
             "endlinecolor": "#2a3f5f",
             "gridcolor": "white",
             "linecolor": "white",
             "minorgridcolor": "white",
             "startlinecolor": "#2a3f5f"
            },
            "type": "carpet"
           }
          ],
          "choropleth": [
           {
            "colorbar": {
             "outlinewidth": 0,
             "ticks": ""
            },
            "type": "choropleth"
           }
          ],
          "contour": [
           {
            "colorbar": {
             "outlinewidth": 0,
             "ticks": ""
            },
            "colorscale": [
             [
              0,
              "#0d0887"
             ],
             [
              0.1111111111111111,
              "#46039f"
             ],
             [
              0.2222222222222222,
              "#7201a8"
             ],
             [
              0.3333333333333333,
              "#9c179e"
             ],
             [
              0.4444444444444444,
              "#bd3786"
             ],
             [
              0.5555555555555556,
              "#d8576b"
             ],
             [
              0.6666666666666666,
              "#ed7953"
             ],
             [
              0.7777777777777778,
              "#fb9f3a"
             ],
             [
              0.8888888888888888,
              "#fdca26"
             ],
             [
              1,
              "#f0f921"
             ]
            ],
            "type": "contour"
           }
          ],
          "contourcarpet": [
           {
            "colorbar": {
             "outlinewidth": 0,
             "ticks": ""
            },
            "type": "contourcarpet"
           }
          ],
          "heatmap": [
           {
            "colorbar": {
             "outlinewidth": 0,
             "ticks": ""
            },
            "colorscale": [
             [
              0,
              "#0d0887"
             ],
             [
              0.1111111111111111,
              "#46039f"
             ],
             [
              0.2222222222222222,
              "#7201a8"
             ],
             [
              0.3333333333333333,
              "#9c179e"
             ],
             [
              0.4444444444444444,
              "#bd3786"
             ],
             [
              0.5555555555555556,
              "#d8576b"
             ],
             [
              0.6666666666666666,
              "#ed7953"
             ],
             [
              0.7777777777777778,
              "#fb9f3a"
             ],
             [
              0.8888888888888888,
              "#fdca26"
             ],
             [
              1,
              "#f0f921"
             ]
            ],
            "type": "heatmap"
           }
          ],
          "heatmapgl": [
           {
            "colorbar": {
             "outlinewidth": 0,
             "ticks": ""
            },
            "colorscale": [
             [
              0,
              "#0d0887"
             ],
             [
              0.1111111111111111,
              "#46039f"
             ],
             [
              0.2222222222222222,
              "#7201a8"
             ],
             [
              0.3333333333333333,
              "#9c179e"
             ],
             [
              0.4444444444444444,
              "#bd3786"
             ],
             [
              0.5555555555555556,
              "#d8576b"
             ],
             [
              0.6666666666666666,
              "#ed7953"
             ],
             [
              0.7777777777777778,
              "#fb9f3a"
             ],
             [
              0.8888888888888888,
              "#fdca26"
             ],
             [
              1,
              "#f0f921"
             ]
            ],
            "type": "heatmapgl"
           }
          ],
          "histogram": [
           {
            "marker": {
             "pattern": {
              "fillmode": "overlay",
              "size": 10,
              "solidity": 0.2
             }
            },
            "type": "histogram"
           }
          ],
          "histogram2d": [
           {
            "colorbar": {
             "outlinewidth": 0,
             "ticks": ""
            },
            "colorscale": [
             [
              0,
              "#0d0887"
             ],
             [
              0.1111111111111111,
              "#46039f"
             ],
             [
              0.2222222222222222,
              "#7201a8"
             ],
             [
              0.3333333333333333,
              "#9c179e"
             ],
             [
              0.4444444444444444,
              "#bd3786"
             ],
             [
              0.5555555555555556,
              "#d8576b"
             ],
             [
              0.6666666666666666,
              "#ed7953"
             ],
             [
              0.7777777777777778,
              "#fb9f3a"
             ],
             [
              0.8888888888888888,
              "#fdca26"
             ],
             [
              1,
              "#f0f921"
             ]
            ],
            "type": "histogram2d"
           }
          ],
          "histogram2dcontour": [
           {
            "colorbar": {
             "outlinewidth": 0,
             "ticks": ""
            },
            "colorscale": [
             [
              0,
              "#0d0887"
             ],
             [
              0.1111111111111111,
              "#46039f"
             ],
             [
              0.2222222222222222,
              "#7201a8"
             ],
             [
              0.3333333333333333,
              "#9c179e"
             ],
             [
              0.4444444444444444,
              "#bd3786"
             ],
             [
              0.5555555555555556,
              "#d8576b"
             ],
             [
              0.6666666666666666,
              "#ed7953"
             ],
             [
              0.7777777777777778,
              "#fb9f3a"
             ],
             [
              0.8888888888888888,
              "#fdca26"
             ],
             [
              1,
              "#f0f921"
             ]
            ],
            "type": "histogram2dcontour"
           }
          ],
          "mesh3d": [
           {
            "colorbar": {
             "outlinewidth": 0,
             "ticks": ""
            },
            "type": "mesh3d"
           }
          ],
          "parcoords": [
           {
            "line": {
             "colorbar": {
              "outlinewidth": 0,
              "ticks": ""
             }
            },
            "type": "parcoords"
           }
          ],
          "pie": [
           {
            "automargin": true,
            "type": "pie"
           }
          ],
          "scatter": [
           {
            "fillpattern": {
             "fillmode": "overlay",
             "size": 10,
             "solidity": 0.2
            },
            "type": "scatter"
           }
          ],
          "scatter3d": [
           {
            "line": {
             "colorbar": {
              "outlinewidth": 0,
              "ticks": ""
             }
            },
            "marker": {
             "colorbar": {
              "outlinewidth": 0,
              "ticks": ""
             }
            },
            "type": "scatter3d"
           }
          ],
          "scattercarpet": [
           {
            "marker": {
             "colorbar": {
              "outlinewidth": 0,
              "ticks": ""
             }
            },
            "type": "scattercarpet"
           }
          ],
          "scattergeo": [
           {
            "marker": {
             "colorbar": {
              "outlinewidth": 0,
              "ticks": ""
             }
            },
            "type": "scattergeo"
           }
          ],
          "scattergl": [
           {
            "marker": {
             "colorbar": {
              "outlinewidth": 0,
              "ticks": ""
             }
            },
            "type": "scattergl"
           }
          ],
          "scattermapbox": [
           {
            "marker": {
             "colorbar": {
              "outlinewidth": 0,
              "ticks": ""
             }
            },
            "type": "scattermapbox"
           }
          ],
          "scatterpolar": [
           {
            "marker": {
             "colorbar": {
              "outlinewidth": 0,
              "ticks": ""
             }
            },
            "type": "scatterpolar"
           }
          ],
          "scatterpolargl": [
           {
            "marker": {
             "colorbar": {
              "outlinewidth": 0,
              "ticks": ""
             }
            },
            "type": "scatterpolargl"
           }
          ],
          "scatterternary": [
           {
            "marker": {
             "colorbar": {
              "outlinewidth": 0,
              "ticks": ""
             }
            },
            "type": "scatterternary"
           }
          ],
          "surface": [
           {
            "colorbar": {
             "outlinewidth": 0,
             "ticks": ""
            },
            "colorscale": [
             [
              0,
              "#0d0887"
             ],
             [
              0.1111111111111111,
              "#46039f"
             ],
             [
              0.2222222222222222,
              "#7201a8"
             ],
             [
              0.3333333333333333,
              "#9c179e"
             ],
             [
              0.4444444444444444,
              "#bd3786"
             ],
             [
              0.5555555555555556,
              "#d8576b"
             ],
             [
              0.6666666666666666,
              "#ed7953"
             ],
             [
              0.7777777777777778,
              "#fb9f3a"
             ],
             [
              0.8888888888888888,
              "#fdca26"
             ],
             [
              1,
              "#f0f921"
             ]
            ],
            "type": "surface"
           }
          ],
          "table": [
           {
            "cells": {
             "fill": {
              "color": "#EBF0F8"
             },
             "line": {
              "color": "white"
             }
            },
            "header": {
             "fill": {
              "color": "#C8D4E3"
             },
             "line": {
              "color": "white"
             }
            },
            "type": "table"
           }
          ]
         },
         "layout": {
          "annotationdefaults": {
           "arrowcolor": "#2a3f5f",
           "arrowhead": 0,
           "arrowwidth": 1
          },
          "autotypenumbers": "strict",
          "coloraxis": {
           "colorbar": {
            "outlinewidth": 0,
            "ticks": ""
           }
          },
          "colorscale": {
           "diverging": [
            [
             0,
             "#8e0152"
            ],
            [
             0.1,
             "#c51b7d"
            ],
            [
             0.2,
             "#de77ae"
            ],
            [
             0.3,
             "#f1b6da"
            ],
            [
             0.4,
             "#fde0ef"
            ],
            [
             0.5,
             "#f7f7f7"
            ],
            [
             0.6,
             "#e6f5d0"
            ],
            [
             0.7,
             "#b8e186"
            ],
            [
             0.8,
             "#7fbc41"
            ],
            [
             0.9,
             "#4d9221"
            ],
            [
             1,
             "#276419"
            ]
           ],
           "sequential": [
            [
             0,
             "#0d0887"
            ],
            [
             0.1111111111111111,
             "#46039f"
            ],
            [
             0.2222222222222222,
             "#7201a8"
            ],
            [
             0.3333333333333333,
             "#9c179e"
            ],
            [
             0.4444444444444444,
             "#bd3786"
            ],
            [
             0.5555555555555556,
             "#d8576b"
            ],
            [
             0.6666666666666666,
             "#ed7953"
            ],
            [
             0.7777777777777778,
             "#fb9f3a"
            ],
            [
             0.8888888888888888,
             "#fdca26"
            ],
            [
             1,
             "#f0f921"
            ]
           ],
           "sequentialminus": [
            [
             0,
             "#0d0887"
            ],
            [
             0.1111111111111111,
             "#46039f"
            ],
            [
             0.2222222222222222,
             "#7201a8"
            ],
            [
             0.3333333333333333,
             "#9c179e"
            ],
            [
             0.4444444444444444,
             "#bd3786"
            ],
            [
             0.5555555555555556,
             "#d8576b"
            ],
            [
             0.6666666666666666,
             "#ed7953"
            ],
            [
             0.7777777777777778,
             "#fb9f3a"
            ],
            [
             0.8888888888888888,
             "#fdca26"
            ],
            [
             1,
             "#f0f921"
            ]
           ]
          },
          "colorway": [
           "#636efa",
           "#EF553B",
           "#00cc96",
           "#ab63fa",
           "#FFA15A",
           "#19d3f3",
           "#FF6692",
           "#B6E880",
           "#FF97FF",
           "#FECB52"
          ],
          "font": {
           "color": "#2a3f5f"
          },
          "geo": {
           "bgcolor": "white",
           "lakecolor": "white",
           "landcolor": "#E5ECF6",
           "showlakes": true,
           "showland": true,
           "subunitcolor": "white"
          },
          "hoverlabel": {
           "align": "left"
          },
          "hovermode": "closest",
          "mapbox": {
           "style": "light"
          },
          "paper_bgcolor": "white",
          "plot_bgcolor": "#E5ECF6",
          "polar": {
           "angularaxis": {
            "gridcolor": "white",
            "linecolor": "white",
            "ticks": ""
           },
           "bgcolor": "#E5ECF6",
           "radialaxis": {
            "gridcolor": "white",
            "linecolor": "white",
            "ticks": ""
           }
          },
          "scene": {
           "xaxis": {
            "backgroundcolor": "#E5ECF6",
            "gridcolor": "white",
            "gridwidth": 2,
            "linecolor": "white",
            "showbackground": true,
            "ticks": "",
            "zerolinecolor": "white"
           },
           "yaxis": {
            "backgroundcolor": "#E5ECF6",
            "gridcolor": "white",
            "gridwidth": 2,
            "linecolor": "white",
            "showbackground": true,
            "ticks": "",
            "zerolinecolor": "white"
           },
           "zaxis": {
            "backgroundcolor": "#E5ECF6",
            "gridcolor": "white",
            "gridwidth": 2,
            "linecolor": "white",
            "showbackground": true,
            "ticks": "",
            "zerolinecolor": "white"
           }
          },
          "shapedefaults": {
           "line": {
            "color": "#2a3f5f"
           }
          },
          "ternary": {
           "aaxis": {
            "gridcolor": "white",
            "linecolor": "white",
            "ticks": ""
           },
           "baxis": {
            "gridcolor": "white",
            "linecolor": "white",
            "ticks": ""
           },
           "bgcolor": "#E5ECF6",
           "caxis": {
            "gridcolor": "white",
            "linecolor": "white",
            "ticks": ""
           }
          },
          "title": {
           "x": 0.05
          },
          "xaxis": {
           "automargin": true,
           "gridcolor": "white",
           "linecolor": "white",
           "ticks": "",
           "title": {
            "standoff": 15
           },
           "zerolinecolor": "white",
           "zerolinewidth": 2
          },
          "yaxis": {
           "automargin": true,
           "gridcolor": "white",
           "linecolor": "white",
           "ticks": "",
           "title": {
            "standoff": 15
           },
           "zerolinecolor": "white",
           "zerolinewidth": 2
          }
         }
        },
        "title": {
         "text": "Boxplot do pagamento mensal"
        },
        "xaxis": {
         "anchor": "y",
         "domain": [
          0,
          1
         ]
        },
        "yaxis": {
         "anchor": "x",
         "domain": [
          0,
          1
         ],
         "title": {
          "text": "Pagamento_Mensal"
         }
        }
       }
      }
     },
     "metadata": {},
     "output_type": "display_data"
    },
    {
     "data": {
      "application/vnd.plotly.v1+json": {
       "config": {
        "plotlyServerURL": "https://plot.ly"
       },
       "data": [
        {
         "alignmentgroup": "True",
         "hovertemplate": "Servico_Internet=%{x}<br>count=%{y}<extra></extra>",
         "legendgroup": "",
         "marker": {
          "color": "#636efa",
          "pattern": {
           "shape": ""
          }
         },
         "name": "",
         "offsetgroup": "",
         "orientation": "v",
         "showlegend": false,
         "textposition": "auto",
         "type": "bar",
         "x": [
          "DSL",
          "DSL",
          "DSL",
          "DSL",
          "NO",
          "FIBER OPTIC",
          "DSL",
          "FIBER OPTIC",
          "DSL",
          "NO",
          "NO",
          "DSL",
          "DSL",
          "DSL",
          "FIBER OPTIC",
          "DSL",
          "DSL",
          "DSL",
          "FIBER OPTIC",
          "FIBER OPTIC",
          "DSL",
          "NO",
          "DSL",
          "FIBER OPTIC",
          "FIBER OPTIC",
          "FIBER OPTIC",
          "FIBER OPTIC",
          "FIBER OPTIC",
          "DSL",
          "DSL",
          "NO",
          "DSL",
          "DSL",
          "FIBER OPTIC",
          "DSL",
          "FIBER OPTIC",
          "DSL",
          "DSL",
          "FIBER OPTIC",
          "FIBER OPTIC",
          "DSL",
          "FIBER OPTIC",
          "DSL",
          "FIBER OPTIC",
          "FIBER OPTIC",
          "FIBER OPTIC",
          "NO",
          "FIBER OPTIC",
          "FIBER OPTIC",
          "FIBER OPTIC",
          "DSL",
          "DSL",
          "FIBER OPTIC",
          "DSL",
          "FIBER OPTIC",
          "DSL",
          "NO",
          "FIBER OPTIC",
          "DSL",
          "NO",
          "FIBER OPTIC",
          "NO",
          "DSL",
          "FIBER OPTIC",
          "DSL",
          "DSL",
          "DSL",
          "NO",
          "FIBER OPTIC",
          "DSL",
          "FIBER OPTIC",
          "FIBER OPTIC",
          "NO",
          "FIBER OPTIC",
          "DSL",
          "NO",
          "NO",
          "DSL",
          "FIBER OPTIC",
          "FIBER OPTIC",
          "DSL",
          "FIBER OPTIC",
          "FIBER OPTIC",
          "FIBER OPTIC",
          "DSL",
          "NO",
          "NO",
          "FIBER OPTIC",
          "NO",
          "NO",
          "FIBER OPTIC",
          "DSL",
          "FIBER OPTIC",
          "DSL",
          "FIBER OPTIC",
          "DSL",
          "FIBER OPTIC",
          "NO",
          "FIBER OPTIC",
          "DSL",
          "FIBER OPTIC",
          "FIBER OPTIC",
          "DSL",
          "FIBER OPTIC",
          "DSL",
          "FIBER OPTIC",
          "NO",
          "FIBER OPTIC",
          "FIBER OPTIC",
          "NO",
          "FIBER OPTIC",
          "DSL",
          "NO",
          "FIBER OPTIC",
          "FIBER OPTIC",
          "NO",
          "NO",
          "DSL",
          "FIBER OPTIC",
          "DSL",
          "DSL",
          "DSL",
          "DSL",
          "NO",
          "FIBER OPTIC",
          "NO",
          "NO",
          "FIBER OPTIC",
          "DSL",
          "DSL",
          "FIBER OPTIC",
          "FIBER OPTIC",
          "NO",
          "FIBER OPTIC",
          "NO",
          "DSL",
          "DSL",
          "DSL",
          "DSL",
          "FIBER OPTIC",
          "FIBER OPTIC",
          "DSL",
          "NO",
          "FIBER OPTIC",
          "FIBER OPTIC",
          "NO",
          "DSL",
          "NO",
          "DSL",
          "FIBER OPTIC",
          "FIBER OPTIC",
          "DSL",
          "NO",
          "NO",
          "FIBER OPTIC",
          "DSL",
          "DSL",
          "NO",
          "FIBER OPTIC",
          "FIBER OPTIC",
          "DSL",
          "FIBER OPTIC",
          "NO",
          "NO",
          "FIBER OPTIC",
          "FIBER OPTIC",
          "FIBER OPTIC",
          "NO",
          "DSL",
          "DSL",
          "FIBER OPTIC",
          "DSL",
          "FIBER OPTIC",
          "DSL",
          "DSL",
          "DSL",
          "NO",
          "DSL",
          "DSL",
          "FIBER OPTIC",
          "NO",
          "FIBER OPTIC",
          "NO",
          "FIBER OPTIC",
          "NO",
          "FIBER OPTIC",
          "FIBER OPTIC",
          "NO",
          "FIBER OPTIC",
          "FIBER OPTIC",
          "FIBER OPTIC",
          "FIBER OPTIC",
          "FIBER OPTIC",
          "FIBER OPTIC",
          "DSL",
          "FIBER OPTIC",
          "FIBER OPTIC",
          "FIBER OPTIC",
          "DSL",
          "DSL",
          "NO",
          "NO",
          "FIBER OPTIC",
          "DSL",
          "DSL",
          "DSL",
          "DSL",
          "FIBER OPTIC",
          "FIBER OPTIC",
          "NO",
          "NO",
          "DSL",
          "NO",
          "DSL",
          "DSL",
          "DSL",
          "FIBER OPTIC",
          "DSL",
          "FIBER OPTIC",
          "FIBER OPTIC",
          "FIBER OPTIC",
          "NO",
          "NO",
          "DSL",
          "DSL",
          "FIBER OPTIC",
          "FIBER OPTIC",
          "NO",
          "DSL",
          "FIBER OPTIC",
          "DSL",
          "FIBER OPTIC",
          "DSL",
          "FIBER OPTIC",
          "DSL",
          "FIBER OPTIC",
          "DSL",
          "FIBER OPTIC",
          "FIBER OPTIC",
          "FIBER OPTIC",
          "DSL",
          "DSL",
          "NO",
          "DSL",
          "FIBER OPTIC",
          "FIBER OPTIC",
          "DSL",
          "DSL",
          "DSL",
          "FIBER OPTIC",
          "FIBER OPTIC",
          "DSL",
          "FIBER OPTIC",
          "DSL",
          "NO",
          "FIBER OPTIC",
          "NO",
          "NO",
          "FIBER OPTIC",
          "DSL",
          "DSL",
          "FIBER OPTIC",
          "FIBER OPTIC",
          "FIBER OPTIC",
          "FIBER OPTIC",
          "DSL",
          "DSL",
          "DSL",
          "DSL",
          "DSL",
          "NO",
          "DSL",
          "FIBER OPTIC",
          "FIBER OPTIC",
          "DSL",
          "FIBER OPTIC",
          "FIBER OPTIC",
          "DSL",
          "FIBER OPTIC",
          "DSL",
          "FIBER OPTIC",
          "FIBER OPTIC",
          "NO",
          "NO",
          "FIBER OPTIC",
          "FIBER OPTIC",
          "DSL",
          "FIBER OPTIC",
          "DSL",
          "FIBER OPTIC",
          "FIBER OPTIC",
          "DSL",
          "FIBER OPTIC",
          "NO",
          "FIBER OPTIC",
          "DSL",
          "FIBER OPTIC",
          "DSL",
          "NO",
          "FIBER OPTIC",
          "FIBER OPTIC",
          "FIBER OPTIC",
          "FIBER OPTIC",
          "FIBER OPTIC",
          "NO",
          "DSL",
          "FIBER OPTIC",
          "FIBER OPTIC",
          "DSL",
          "DSL",
          "DSL",
          "DSL",
          "DSL",
          "FIBER OPTIC",
          "FIBER OPTIC",
          "FIBER OPTIC",
          "DSL",
          "FIBER OPTIC",
          "NO",
          "NO",
          "FIBER OPTIC",
          "FIBER OPTIC",
          "FIBER OPTIC",
          "DSL",
          "FIBER OPTIC",
          "DSL",
          "FIBER OPTIC",
          "FIBER OPTIC",
          "DSL",
          "DSL",
          "DSL",
          "NO",
          "NO",
          "FIBER OPTIC",
          "FIBER OPTIC",
          "NO",
          "DSL",
          "FIBER OPTIC",
          "DSL",
          "DSL",
          "FIBER OPTIC",
          "FIBER OPTIC",
          "DSL",
          "FIBER OPTIC",
          "DSL",
          "FIBER OPTIC",
          "DSL",
          "FIBER OPTIC",
          "NO",
          "FIBER OPTIC",
          "DSL",
          "NO",
          "FIBER OPTIC",
          "FIBER OPTIC",
          "DSL",
          "NO",
          "FIBER OPTIC",
          "FIBER OPTIC",
          "NO",
          "FIBER OPTIC",
          "DSL",
          "FIBER OPTIC",
          "FIBER OPTIC",
          "DSL",
          "DSL",
          "FIBER OPTIC",
          "DSL",
          "FIBER OPTIC",
          "FIBER OPTIC",
          "DSL",
          "DSL",
          "FIBER OPTIC",
          "FIBER OPTIC",
          "NO",
          "FIBER OPTIC",
          "DSL",
          "FIBER OPTIC",
          "DSL",
          "FIBER OPTIC",
          "DSL",
          "DSL",
          "NO",
          "FIBER OPTIC",
          "DSL",
          "FIBER OPTIC",
          "FIBER OPTIC",
          "DSL",
          "NO",
          "NO",
          "NO",
          "FIBER OPTIC",
          "DSL",
          "NO",
          "NO",
          "FIBER OPTIC",
          "FIBER OPTIC",
          "NO",
          "NO",
          "FIBER OPTIC",
          "NO",
          "FIBER OPTIC",
          "FIBER OPTIC",
          "FIBER OPTIC",
          "FIBER OPTIC",
          "FIBER OPTIC",
          "NO",
          "FIBER OPTIC",
          "FIBER OPTIC",
          "NO",
          "FIBER OPTIC",
          "FIBER OPTIC",
          "NO",
          "DSL",
          "DSL",
          "FIBER OPTIC",
          "FIBER OPTIC",
          "FIBER OPTIC",
          "DSL",
          "NO",
          "DSL",
          "DSL",
          "DSL",
          "NO",
          "DSL",
          "NO",
          "FIBER OPTIC",
          "FIBER OPTIC",
          "DSL",
          "FIBER OPTIC",
          "FIBER OPTIC",
          "FIBER OPTIC",
          "DSL",
          "FIBER OPTIC",
          "FIBER OPTIC",
          "FIBER OPTIC",
          "NO",
          "FIBER OPTIC",
          "FIBER OPTIC",
          "NO",
          "DSL",
          "DSL",
          "FIBER OPTIC",
          "NO",
          "FIBER OPTIC",
          "FIBER OPTIC",
          "DSL",
          "NO",
          "FIBER OPTIC",
          "NO",
          "DSL",
          "FIBER OPTIC",
          "FIBER OPTIC",
          "FIBER OPTIC",
          "DSL",
          "FIBER OPTIC",
          "FIBER OPTIC",
          "NO",
          "DSL",
          "NO",
          "DSL",
          "DSL",
          "DSL",
          "FIBER OPTIC",
          "FIBER OPTIC",
          "DSL",
          "DSL",
          "FIBER OPTIC",
          "FIBER OPTIC",
          "NO",
          "DSL",
          "FIBER OPTIC",
          "FIBER OPTIC",
          "FIBER OPTIC",
          "FIBER OPTIC",
          "FIBER OPTIC",
          "DSL",
          "DSL",
          "FIBER OPTIC",
          "FIBER OPTIC",
          "DSL",
          "FIBER OPTIC",
          "DSL",
          "NO",
          "DSL",
          "DSL",
          "NO",
          "DSL",
          "FIBER OPTIC",
          "FIBER OPTIC",
          "FIBER OPTIC",
          "DSL",
          "FIBER OPTIC",
          "DSL",
          "FIBER OPTIC",
          "FIBER OPTIC",
          "FIBER OPTIC",
          "FIBER OPTIC",
          "NO",
          "FIBER OPTIC",
          "FIBER OPTIC",
          "FIBER OPTIC",
          "FIBER OPTIC",
          "FIBER OPTIC",
          "FIBER OPTIC",
          "DSL",
          "FIBER OPTIC",
          "FIBER OPTIC",
          "NO",
          "FIBER OPTIC",
          "DSL",
          "FIBER OPTIC",
          "FIBER OPTIC",
          "FIBER OPTIC",
          "FIBER OPTIC",
          "FIBER OPTIC",
          "FIBER OPTIC",
          "NO",
          "FIBER OPTIC",
          "NO",
          "NO",
          "FIBER OPTIC",
          "FIBER OPTIC",
          "FIBER OPTIC",
          "FIBER OPTIC",
          "FIBER OPTIC",
          "DSL",
          "FIBER OPTIC",
          "DSL",
          "FIBER OPTIC",
          "DSL",
          "NO",
          "FIBER OPTIC",
          "DSL",
          "FIBER OPTIC",
          "FIBER OPTIC",
          "FIBER OPTIC",
          "FIBER OPTIC",
          "NO",
          "FIBER OPTIC",
          "FIBER OPTIC",
          "NO",
          "NO",
          "FIBER OPTIC",
          "DSL",
          "NO",
          "DSL",
          "FIBER OPTIC",
          "DSL",
          "FIBER OPTIC",
          "NO",
          "DSL",
          "FIBER OPTIC",
          "DSL",
          "DSL",
          "FIBER OPTIC",
          "DSL",
          "FIBER OPTIC",
          "DSL",
          "NO",
          "DSL",
          "DSL",
          "FIBER OPTIC",
          "FIBER OPTIC",
          "DSL",
          "FIBER OPTIC",
          "FIBER OPTIC",
          "FIBER OPTIC",
          "NO",
          "NO",
          "FIBER OPTIC",
          "FIBER OPTIC",
          "NO",
          "NO",
          "FIBER OPTIC",
          "DSL",
          "NO",
          "FIBER OPTIC",
          "DSL",
          "FIBER OPTIC",
          "NO",
          "DSL",
          "FIBER OPTIC",
          "DSL",
          "DSL",
          "DSL",
          "DSL",
          "FIBER OPTIC",
          "NO",
          "FIBER OPTIC",
          "NO",
          "FIBER OPTIC",
          "FIBER OPTIC",
          "FIBER OPTIC",
          "DSL",
          "DSL",
          "DSL",
          "FIBER OPTIC",
          "FIBER OPTIC",
          "DSL",
          "DSL",
          "NO",
          "FIBER OPTIC",
          "DSL",
          "DSL",
          "DSL",
          "FIBER OPTIC",
          "FIBER OPTIC",
          "FIBER OPTIC",
          "DSL",
          "FIBER OPTIC",
          "FIBER OPTIC",
          "NO",
          "NO",
          "FIBER OPTIC",
          "FIBER OPTIC",
          "FIBER OPTIC",
          "FIBER OPTIC",
          "FIBER OPTIC",
          "FIBER OPTIC",
          "DSL",
          "DSL",
          "NO",
          "DSL",
          "FIBER OPTIC",
          "FIBER OPTIC",
          "DSL",
          "FIBER OPTIC",
          "FIBER OPTIC",
          "NO",
          "DSL",
          "FIBER OPTIC",
          "FIBER OPTIC",
          "NO",
          "FIBER OPTIC",
          "DSL",
          "DSL",
          "FIBER OPTIC",
          "FIBER OPTIC",
          "FIBER OPTIC",
          "FIBER OPTIC",
          "NO",
          "NO",
          "NO",
          "FIBER OPTIC",
          "DSL",
          "DSL",
          "NO",
          "NO",
          "DSL",
          "DSL",
          "NO",
          "DSL",
          "NO",
          "FIBER OPTIC",
          "FIBER OPTIC",
          "DSL",
          "DSL",
          "DSL",
          "NO",
          "NO",
          "FIBER OPTIC",
          "NO",
          "DSL",
          "FIBER OPTIC",
          "NO",
          "DSL",
          "FIBER OPTIC",
          "FIBER OPTIC",
          "FIBER OPTIC",
          "DSL",
          "DSL",
          "FIBER OPTIC",
          "FIBER OPTIC",
          "DSL",
          "NO",
          "DSL",
          "DSL",
          "FIBER OPTIC",
          "NO",
          "DSL",
          "NO",
          "FIBER OPTIC",
          "NO",
          "NO",
          "DSL",
          "DSL",
          "FIBER OPTIC",
          "DSL",
          "DSL",
          "FIBER OPTIC",
          "FIBER OPTIC",
          "NO",
          "DSL",
          "FIBER OPTIC",
          "DSL",
          "FIBER OPTIC",
          "FIBER OPTIC",
          "DSL",
          "NO",
          "FIBER OPTIC",
          "NO",
          "FIBER OPTIC",
          "NO",
          "FIBER OPTIC",
          "DSL",
          "FIBER OPTIC",
          "DSL",
          "FIBER OPTIC",
          "NO",
          "NO",
          "FIBER OPTIC",
          "DSL",
          "FIBER OPTIC",
          "NO",
          "NO",
          "FIBER OPTIC",
          "FIBER OPTIC",
          "DSL",
          "FIBER OPTIC",
          "NO",
          "FIBER OPTIC",
          "FIBER OPTIC",
          "FIBER OPTIC",
          "DSL",
          "FIBER OPTIC",
          "FIBER OPTIC",
          "FIBER OPTIC",
          "DSL",
          "DSL",
          "FIBER OPTIC",
          "FIBER OPTIC",
          "NO",
          "DSL",
          "FIBER OPTIC",
          "FIBER OPTIC",
          "FIBER OPTIC",
          "NO",
          "FIBER OPTIC",
          "DSL",
          "DSL",
          "DSL",
          "NO",
          "FIBER OPTIC",
          "FIBER OPTIC",
          "NO",
          "NO",
          "FIBER OPTIC",
          "FIBER OPTIC",
          "NO",
          "FIBER OPTIC",
          "FIBER OPTIC",
          "DSL",
          "NO",
          "DSL",
          "FIBER OPTIC",
          "NO",
          "FIBER OPTIC",
          "DSL",
          "NO",
          "FIBER OPTIC",
          "NO",
          "FIBER OPTIC",
          "FIBER OPTIC",
          "FIBER OPTIC",
          "DSL",
          "FIBER OPTIC",
          "FIBER OPTIC",
          "DSL",
          "DSL",
          "DSL",
          "DSL",
          "DSL",
          "DSL",
          "FIBER OPTIC",
          "DSL",
          "DSL",
          "DSL",
          "DSL",
          "DSL",
          "DSL",
          "NO",
          "DSL",
          "DSL",
          "DSL",
          "FIBER OPTIC",
          "NO",
          "NO",
          "FIBER OPTIC",
          "FIBER OPTIC",
          "FIBER OPTIC",
          "NO",
          "DSL",
          "FIBER OPTIC",
          "DSL",
          "DSL",
          "FIBER OPTIC",
          "FIBER OPTIC",
          "FIBER OPTIC",
          "FIBER OPTIC",
          "FIBER OPTIC",
          "NO",
          "DSL",
          "NO",
          "FIBER OPTIC",
          "FIBER OPTIC",
          "FIBER OPTIC",
          "FIBER OPTIC",
          "FIBER OPTIC",
          "FIBER OPTIC",
          "DSL",
          "FIBER OPTIC",
          "DSL",
          "NO",
          "FIBER OPTIC",
          "FIBER OPTIC",
          "NO",
          "FIBER OPTIC",
          "DSL",
          "FIBER OPTIC",
          "NO",
          "DSL",
          "FIBER OPTIC",
          "FIBER OPTIC",
          "FIBER OPTIC",
          "DSL",
          "DSL",
          "DSL",
          "NO",
          "FIBER OPTIC",
          "FIBER OPTIC",
          "NO",
          "DSL",
          "FIBER OPTIC",
          "NO",
          "DSL",
          "DSL",
          "DSL",
          "DSL",
          "FIBER OPTIC",
          "DSL",
          "NO",
          "DSL",
          "NO",
          "FIBER OPTIC",
          "DSL",
          "DSL",
          "FIBER OPTIC",
          "DSL",
          "NO",
          "FIBER OPTIC",
          "FIBER OPTIC",
          "FIBER OPTIC",
          "FIBER OPTIC",
          "FIBER OPTIC",
          "DSL",
          "NO",
          "FIBER OPTIC",
          "NO",
          "FIBER OPTIC",
          "FIBER OPTIC",
          "NO",
          "DSL",
          "FIBER OPTIC",
          "DSL",
          "FIBER OPTIC",
          "DSL",
          "DSL",
          "DSL",
          "FIBER OPTIC",
          "NO",
          "FIBER OPTIC",
          "FIBER OPTIC",
          "DSL",
          "NO",
          "FIBER OPTIC",
          "FIBER OPTIC",
          "FIBER OPTIC",
          "FIBER OPTIC",
          "FIBER OPTIC",
          "FIBER OPTIC",
          "FIBER OPTIC",
          "DSL",
          "FIBER OPTIC",
          "FIBER OPTIC",
          "FIBER OPTIC",
          "FIBER OPTIC",
          "FIBER OPTIC",
          "FIBER OPTIC",
          "NO",
          "FIBER OPTIC",
          "FIBER OPTIC",
          "FIBER OPTIC",
          "DSL",
          "FIBER OPTIC",
          "DSL",
          "DSL",
          "NO",
          "FIBER OPTIC",
          "FIBER OPTIC",
          "FIBER OPTIC",
          "FIBER OPTIC",
          "NO",
          "NO",
          "FIBER OPTIC",
          "FIBER OPTIC",
          "DSL",
          "FIBER OPTIC",
          "FIBER OPTIC",
          "NO",
          "NO",
          "FIBER OPTIC",
          "DSL",
          "FIBER OPTIC",
          "DSL",
          "FIBER OPTIC",
          "FIBER OPTIC",
          "FIBER OPTIC",
          "FIBER OPTIC",
          "FIBER OPTIC",
          "FIBER OPTIC",
          "NO",
          "FIBER OPTIC",
          "DSL",
          "FIBER OPTIC",
          "DSL",
          "FIBER OPTIC",
          "FIBER OPTIC",
          "NO",
          "NO",
          "DSL",
          "FIBER OPTIC",
          "DSL",
          "FIBER OPTIC",
          "FIBER OPTIC",
          "NO",
          "FIBER OPTIC",
          "FIBER OPTIC",
          "NO",
          "DSL",
          "FIBER OPTIC",
          "DSL",
          "DSL",
          "FIBER OPTIC",
          "DSL",
          "NO",
          "DSL",
          "DSL",
          "FIBER OPTIC",
          "DSL",
          "NO",
          "DSL",
          "DSL",
          "DSL",
          "FIBER OPTIC",
          "NO",
          "NO",
          "DSL",
          "FIBER OPTIC",
          "FIBER OPTIC",
          "FIBER OPTIC",
          "DSL",
          "DSL",
          "DSL",
          "FIBER OPTIC",
          "FIBER OPTIC",
          "FIBER OPTIC",
          "FIBER OPTIC",
          "DSL",
          "NO",
          "NO",
          "DSL",
          "FIBER OPTIC",
          "NO",
          "FIBER OPTIC",
          "DSL",
          "NO",
          "NO",
          "NO",
          "FIBER OPTIC",
          "NO",
          "NO",
          "NO",
          "NO",
          "FIBER OPTIC",
          "FIBER OPTIC",
          "FIBER OPTIC",
          "NO",
          "DSL",
          "FIBER OPTIC",
          "FIBER OPTIC",
          "FIBER OPTIC",
          "NO",
          "NO",
          "FIBER OPTIC",
          "FIBER OPTIC",
          "FIBER OPTIC",
          "FIBER OPTIC",
          "NO",
          "DSL",
          "DSL",
          "FIBER OPTIC",
          "DSL",
          "DSL",
          "DSL",
          "DSL",
          "NO",
          "DSL",
          "NO",
          "DSL",
          "DSL",
          "FIBER OPTIC",
          "FIBER OPTIC",
          "FIBER OPTIC",
          "FIBER OPTIC",
          "FIBER OPTIC",
          "FIBER OPTIC",
          "FIBER OPTIC",
          "FIBER OPTIC",
          "FIBER OPTIC",
          "DSL",
          "FIBER OPTIC",
          "NO",
          "DSL",
          "NO",
          "FIBER OPTIC",
          "DSL",
          "FIBER OPTIC",
          "FIBER OPTIC",
          "FIBER OPTIC",
          "NO",
          "FIBER OPTIC",
          "FIBER OPTIC",
          "DSL",
          "FIBER OPTIC",
          "DSL",
          "DSL",
          "NO",
          "NO",
          "DSL",
          "DSL",
          "DSL",
          "DSL",
          "FIBER OPTIC",
          "NO",
          "FIBER OPTIC",
          "FIBER OPTIC",
          "FIBER OPTIC",
          "FIBER OPTIC",
          "NO",
          "FIBER OPTIC",
          "DSL",
          "DSL",
          "DSL",
          "FIBER OPTIC",
          "NO",
          "FIBER OPTIC",
          "FIBER OPTIC",
          "DSL",
          "FIBER OPTIC",
          "DSL",
          "DSL",
          "FIBER OPTIC",
          "NO",
          "FIBER OPTIC",
          "NO",
          "FIBER OPTIC",
          "FIBER OPTIC",
          "FIBER OPTIC",
          "NO",
          "FIBER OPTIC",
          "NO",
          "FIBER OPTIC",
          "NO",
          "FIBER OPTIC",
          "FIBER OPTIC",
          "FIBER OPTIC",
          "FIBER OPTIC",
          "FIBER OPTIC",
          "FIBER OPTIC",
          "DSL",
          "DSL",
          "FIBER OPTIC",
          "DSL",
          "FIBER OPTIC",
          "DSL",
          "FIBER OPTIC",
          "FIBER OPTIC",
          "DSL",
          "NO",
          "NO",
          "DSL",
          "FIBER OPTIC",
          "NO",
          "FIBER OPTIC",
          "FIBER OPTIC",
          "NO",
          "NO",
          "DSL",
          "DSL",
          "FIBER OPTIC",
          "DSL",
          "FIBER OPTIC",
          "FIBER OPTIC",
          "DSL",
          "NO",
          "FIBER OPTIC",
          "FIBER OPTIC",
          "DSL",
          "FIBER OPTIC",
          "DSL",
          "DSL",
          "DSL",
          "DSL",
          "FIBER OPTIC",
          "FIBER OPTIC",
          "DSL",
          "NO",
          "FIBER OPTIC",
          "NO",
          "DSL",
          "FIBER OPTIC",
          "NO",
          "FIBER OPTIC",
          "FIBER OPTIC",
          "NO",
          "NO",
          "DSL",
          "NO",
          "DSL",
          "NO",
          "FIBER OPTIC",
          "DSL",
          "DSL",
          "FIBER OPTIC",
          "DSL",
          "DSL",
          "FIBER OPTIC",
          "FIBER OPTIC",
          "DSL",
          "NO",
          "DSL",
          "DSL",
          "NO",
          "DSL",
          "NO",
          "FIBER OPTIC",
          "FIBER OPTIC",
          "FIBER OPTIC",
          "FIBER OPTIC",
          "DSL",
          "DSL",
          "FIBER OPTIC",
          "DSL",
          "NO",
          "DSL",
          "DSL",
          "NO",
          "DSL",
          "FIBER OPTIC",
          "FIBER OPTIC",
          "FIBER OPTIC",
          "NO",
          "DSL",
          "FIBER OPTIC",
          "FIBER OPTIC",
          "DSL",
          "FIBER OPTIC",
          "FIBER OPTIC",
          "DSL",
          "DSL",
          "DSL",
          "FIBER OPTIC",
          "FIBER OPTIC",
          "DSL",
          "DSL",
          "FIBER OPTIC",
          "FIBER OPTIC",
          "FIBER OPTIC",
          "FIBER OPTIC",
          "DSL",
          "FIBER OPTIC",
          "DSL",
          "DSL",
          "DSL",
          "DSL",
          "NO",
          "NO",
          "FIBER OPTIC",
          "FIBER OPTIC",
          "DSL",
          "FIBER OPTIC",
          "NO",
          "DSL",
          "FIBER OPTIC",
          "FIBER OPTIC",
          "DSL",
          "FIBER OPTIC",
          "FIBER OPTIC",
          "FIBER OPTIC",
          "DSL",
          "FIBER OPTIC",
          "NO",
          "FIBER OPTIC",
          "FIBER OPTIC",
          "NO",
          "NO",
          "FIBER OPTIC",
          "DSL",
          "DSL",
          "DSL",
          "DSL",
          "FIBER OPTIC",
          "DSL",
          "DSL",
          "NO",
          "FIBER OPTIC",
          "FIBER OPTIC",
          "DSL",
          "FIBER OPTIC",
          "DSL",
          "FIBER OPTIC",
          "NO",
          "FIBER OPTIC",
          "FIBER OPTIC",
          "FIBER OPTIC",
          "NO",
          "FIBER OPTIC",
          "DSL",
          "NO",
          "DSL",
          "DSL",
          "DSL",
          "NO",
          "FIBER OPTIC",
          "FIBER OPTIC",
          "FIBER OPTIC",
          "FIBER OPTIC",
          "DSL",
          "FIBER OPTIC",
          "FIBER OPTIC",
          "NO",
          "FIBER OPTIC",
          "FIBER OPTIC",
          "DSL",
          "DSL",
          "DSL",
          "NO",
          "FIBER OPTIC",
          "DSL",
          "FIBER OPTIC",
          "DSL",
          "FIBER OPTIC",
          "FIBER OPTIC",
          "FIBER OPTIC",
          "FIBER OPTIC",
          "DSL",
          "FIBER OPTIC",
          "FIBER OPTIC",
          "NO",
          "DSL",
          "NO",
          "FIBER OPTIC",
          "FIBER OPTIC",
          "DSL",
          "FIBER OPTIC",
          "NO",
          "DSL",
          "NO",
          "FIBER OPTIC",
          "NO",
          "DSL",
          "FIBER OPTIC",
          "NO",
          "FIBER OPTIC",
          "DSL",
          "FIBER OPTIC",
          "NO",
          "DSL",
          "DSL",
          "FIBER OPTIC",
          "DSL",
          "FIBER OPTIC",
          "DSL",
          "DSL",
          "FIBER OPTIC",
          "FIBER OPTIC",
          "DSL",
          "DSL",
          "FIBER OPTIC",
          "DSL",
          "DSL",
          "NO",
          "FIBER OPTIC",
          "DSL",
          "FIBER OPTIC",
          "DSL",
          "FIBER OPTIC",
          "FIBER OPTIC",
          "FIBER OPTIC",
          "DSL",
          "DSL",
          "FIBER OPTIC",
          "FIBER OPTIC",
          "NO",
          "NO",
          "NO",
          "DSL",
          "NO",
          "FIBER OPTIC",
          "DSL",
          "NO",
          "NO",
          "NO",
          "FIBER OPTIC",
          "DSL",
          "FIBER OPTIC",
          "DSL",
          "NO",
          "DSL",
          "DSL",
          "NO",
          "DSL",
          "DSL",
          "DSL",
          "FIBER OPTIC",
          "NO",
          "NO",
          "FIBER OPTIC",
          "DSL",
          "DSL",
          "NO",
          "DSL",
          "NO",
          "FIBER OPTIC",
          "FIBER OPTIC",
          "NO",
          "FIBER OPTIC",
          "DSL",
          "DSL",
          "NO",
          "DSL",
          "NO",
          "FIBER OPTIC",
          "NO",
          "FIBER OPTIC",
          "FIBER OPTIC",
          "FIBER OPTIC",
          "FIBER OPTIC",
          "FIBER OPTIC",
          "FIBER OPTIC",
          "FIBER OPTIC",
          "DSL",
          "DSL",
          "DSL",
          "FIBER OPTIC",
          "FIBER OPTIC",
          "FIBER OPTIC",
          "DSL",
          "NO",
          "FIBER OPTIC",
          "FIBER OPTIC",
          "NO",
          "DSL",
          "NO",
          "DSL",
          "DSL",
          "DSL",
          "DSL",
          "FIBER OPTIC",
          "FIBER OPTIC",
          "NO",
          "DSL",
          "FIBER OPTIC",
          "FIBER OPTIC",
          "DSL",
          "NO",
          "DSL",
          "FIBER OPTIC",
          "DSL",
          "FIBER OPTIC",
          "NO",
          "NO",
          "FIBER OPTIC",
          "DSL",
          "FIBER OPTIC",
          "FIBER OPTIC",
          "FIBER OPTIC",
          "NO",
          "NO",
          "FIBER OPTIC",
          "DSL",
          "DSL",
          "NO",
          "FIBER OPTIC",
          "NO",
          "DSL",
          "FIBER OPTIC",
          "FIBER OPTIC",
          "FIBER OPTIC",
          "FIBER OPTIC",
          "FIBER OPTIC",
          "FIBER OPTIC",
          "FIBER OPTIC",
          "FIBER OPTIC",
          "DSL",
          "DSL",
          "FIBER OPTIC",
          "NO",
          "FIBER OPTIC",
          "FIBER OPTIC",
          "FIBER OPTIC",
          "FIBER OPTIC",
          "NO",
          "DSL",
          "FIBER OPTIC",
          "FIBER OPTIC",
          "DSL",
          "NO",
          "NO",
          "DSL",
          "NO",
          "DSL",
          "FIBER OPTIC",
          "FIBER OPTIC",
          "FIBER OPTIC",
          "DSL",
          "DSL",
          "FIBER OPTIC",
          "NO",
          "FIBER OPTIC",
          "FIBER OPTIC",
          "DSL",
          "FIBER OPTIC",
          "FIBER OPTIC",
          "DSL",
          "FIBER OPTIC",
          "NO",
          "NO",
          "NO",
          "DSL",
          "DSL",
          "FIBER OPTIC",
          "NO",
          "FIBER OPTIC",
          "FIBER OPTIC",
          "FIBER OPTIC",
          "NO",
          "FIBER OPTIC",
          "FIBER OPTIC",
          "FIBER OPTIC",
          "NO",
          "FIBER OPTIC",
          "DSL",
          "FIBER OPTIC",
          "DSL",
          "DSL",
          "FIBER OPTIC",
          "FIBER OPTIC",
          "NO",
          "FIBER OPTIC",
          "FIBER OPTIC",
          "FIBER OPTIC",
          "FIBER OPTIC",
          "FIBER OPTIC",
          "NO",
          "FIBER OPTIC",
          "FIBER OPTIC",
          "DSL",
          "DSL",
          "DSL",
          "FIBER OPTIC",
          "DSL",
          "FIBER OPTIC",
          "FIBER OPTIC",
          "DSL",
          "FIBER OPTIC",
          "DSL",
          "DSL",
          "DSL",
          "NO",
          "FIBER OPTIC",
          "FIBER OPTIC",
          "NO",
          "FIBER OPTIC",
          "NO",
          "FIBER OPTIC",
          "FIBER OPTIC",
          "FIBER OPTIC",
          "DSL",
          "NO",
          "DSL",
          "FIBER OPTIC",
          "FIBER OPTIC",
          "FIBER OPTIC",
          "DSL",
          "NO",
          "FIBER OPTIC",
          "FIBER OPTIC",
          "DSL",
          "NO",
          "FIBER OPTIC",
          "DSL",
          "NO",
          "DSL",
          "FIBER OPTIC",
          "FIBER OPTIC",
          "NO",
          "DSL",
          "NO",
          "DSL",
          "DSL",
          "DSL",
          "FIBER OPTIC",
          "NO",
          "FIBER OPTIC",
          "NO",
          "DSL",
          "NO",
          "FIBER OPTIC",
          "NO",
          "NO",
          "FIBER OPTIC",
          "NO",
          "DSL",
          "DSL",
          "DSL",
          "FIBER OPTIC",
          "DSL",
          "FIBER OPTIC",
          "NO",
          "NO",
          "FIBER OPTIC",
          "DSL",
          "FIBER OPTIC",
          "NO",
          "FIBER OPTIC",
          "FIBER OPTIC",
          "DSL",
          "FIBER OPTIC",
          "NO",
          "DSL",
          "FIBER OPTIC",
          "NO",
          "FIBER OPTIC",
          "FIBER OPTIC",
          "DSL",
          "FIBER OPTIC",
          "NO",
          "DSL",
          "FIBER OPTIC",
          "DSL",
          "FIBER OPTIC",
          "FIBER OPTIC",
          "FIBER OPTIC",
          "DSL",
          "DSL",
          "FIBER OPTIC",
          "DSL",
          "NO",
          "NO",
          "DSL",
          "FIBER OPTIC",
          "NO",
          "FIBER OPTIC",
          "DSL",
          "FIBER OPTIC",
          "DSL",
          "FIBER OPTIC",
          "DSL",
          "DSL",
          "DSL",
          "DSL",
          "DSL",
          "DSL",
          "FIBER OPTIC",
          "NO",
          "FIBER OPTIC",
          "DSL",
          "NO",
          "NO",
          "FIBER OPTIC",
          "NO",
          "NO",
          "FIBER OPTIC",
          "FIBER OPTIC",
          "FIBER OPTIC",
          "NO",
          "DSL",
          "FIBER OPTIC",
          "FIBER OPTIC",
          "FIBER OPTIC",
          "DSL",
          "FIBER OPTIC",
          "NO",
          "FIBER OPTIC",
          "FIBER OPTIC",
          "NO",
          "FIBER OPTIC",
          "DSL",
          "DSL",
          "FIBER OPTIC",
          "NO",
          "DSL",
          "NO",
          "NO",
          "DSL",
          "FIBER OPTIC",
          "DSL",
          "DSL",
          "FIBER OPTIC",
          "DSL",
          "FIBER OPTIC",
          "FIBER OPTIC",
          "FIBER OPTIC",
          "DSL",
          "FIBER OPTIC",
          "FIBER OPTIC",
          "DSL",
          "FIBER OPTIC",
          "FIBER OPTIC",
          "FIBER OPTIC",
          "DSL",
          "DSL",
          "DSL",
          "NO",
          "DSL",
          "FIBER OPTIC",
          "DSL",
          "NO",
          "DSL",
          "NO",
          "FIBER OPTIC",
          "FIBER OPTIC",
          "FIBER OPTIC",
          "DSL",
          "FIBER OPTIC",
          "FIBER OPTIC",
          "DSL",
          "FIBER OPTIC",
          "FIBER OPTIC",
          "DSL",
          "NO",
          "NO",
          "DSL",
          "FIBER OPTIC",
          "NO",
          "FIBER OPTIC",
          "DSL",
          "NO",
          "FIBER OPTIC",
          "FIBER OPTIC",
          "FIBER OPTIC",
          "FIBER OPTIC",
          "FIBER OPTIC",
          "NO",
          "NO",
          "FIBER OPTIC",
          "FIBER OPTIC",
          "DSL",
          "FIBER OPTIC",
          "DSL",
          "FIBER OPTIC",
          "NO",
          "FIBER OPTIC",
          "FIBER OPTIC",
          "NO",
          "FIBER OPTIC",
          "DSL",
          "NO",
          "NO",
          "DSL",
          "NO",
          "DSL",
          "FIBER OPTIC",
          "DSL",
          "NO",
          "NO",
          "DSL",
          "FIBER OPTIC",
          "NO",
          "DSL",
          "FIBER OPTIC",
          "DSL",
          "DSL",
          "FIBER OPTIC",
          "DSL",
          "FIBER OPTIC",
          "NO",
          "NO",
          "FIBER OPTIC",
          "FIBER OPTIC",
          "DSL",
          "FIBER OPTIC",
          "FIBER OPTIC",
          "FIBER OPTIC",
          "FIBER OPTIC",
          "DSL",
          "DSL",
          "FIBER OPTIC",
          "NO",
          "DSL",
          "DSL",
          "DSL",
          "NO",
          "DSL",
          "NO",
          "NO",
          "FIBER OPTIC",
          "FIBER OPTIC",
          "FIBER OPTIC",
          "DSL",
          "NO",
          "FIBER OPTIC",
          "FIBER OPTIC",
          "DSL",
          "DSL",
          "DSL",
          "FIBER OPTIC",
          "DSL",
          "FIBER OPTIC",
          "FIBER OPTIC",
          "NO",
          "DSL",
          "FIBER OPTIC",
          "NO",
          "DSL",
          "FIBER OPTIC",
          "FIBER OPTIC",
          "NO",
          "DSL",
          "FIBER OPTIC",
          "NO",
          "FIBER OPTIC",
          "NO",
          "FIBER OPTIC",
          "FIBER OPTIC",
          "NO",
          "FIBER OPTIC",
          "FIBER OPTIC",
          "FIBER OPTIC",
          "DSL",
          "FIBER OPTIC",
          "DSL",
          "DSL",
          "DSL",
          "FIBER OPTIC",
          "NO",
          "NO",
          "DSL",
          "NO",
          "FIBER OPTIC",
          "DSL",
          "DSL",
          "FIBER OPTIC",
          "NO",
          "FIBER OPTIC",
          "DSL",
          "FIBER OPTIC",
          "FIBER OPTIC",
          "FIBER OPTIC",
          "FIBER OPTIC",
          "NO",
          "DSL",
          "FIBER OPTIC",
          "NO",
          "DSL",
          "NO",
          "FIBER OPTIC",
          "NO",
          "FIBER OPTIC",
          "DSL",
          "FIBER OPTIC",
          "NO",
          "DSL",
          "FIBER OPTIC",
          "FIBER OPTIC",
          "NO",
          "DSL",
          "FIBER OPTIC",
          "DSL",
          "DSL",
          "NO",
          "DSL",
          "FIBER OPTIC",
          "DSL",
          "NO",
          "NO",
          "FIBER OPTIC",
          "DSL",
          "FIBER OPTIC",
          "DSL",
          "DSL",
          "NO",
          "DSL",
          "NO",
          "FIBER OPTIC",
          "FIBER OPTIC",
          "FIBER OPTIC",
          "FIBER OPTIC",
          "FIBER OPTIC",
          "FIBER OPTIC",
          "DSL",
          "NO",
          "NO",
          "NO",
          "FIBER OPTIC",
          "FIBER OPTIC",
          "DSL",
          "DSL",
          "FIBER OPTIC",
          "FIBER OPTIC",
          "FIBER OPTIC",
          "NO",
          "DSL",
          "FIBER OPTIC",
          "DSL",
          "NO",
          "FIBER OPTIC",
          "NO",
          "DSL",
          "DSL",
          "DSL",
          "DSL",
          "DSL",
          "FIBER OPTIC",
          "NO",
          "FIBER OPTIC",
          "NO",
          "FIBER OPTIC",
          "NO",
          "DSL",
          "NO",
          "DSL",
          "DSL",
          "NO",
          "NO",
          "NO",
          "DSL",
          "DSL",
          "DSL",
          "DSL",
          "DSL",
          "DSL",
          "NO",
          "DSL",
          "DSL",
          "FIBER OPTIC",
          "FIBER OPTIC",
          "NO",
          "DSL",
          "DSL",
          "NO",
          "DSL",
          "FIBER OPTIC",
          "FIBER OPTIC",
          "FIBER OPTIC",
          "DSL",
          "NO",
          "DSL",
          "FIBER OPTIC",
          "NO",
          "DSL",
          "DSL",
          "FIBER OPTIC",
          "FIBER OPTIC",
          "DSL",
          "NO",
          "FIBER OPTIC",
          "FIBER OPTIC",
          "DSL",
          "DSL",
          "FIBER OPTIC",
          "DSL",
          "DSL",
          "DSL",
          "FIBER OPTIC",
          "DSL",
          "DSL",
          "NO",
          "DSL",
          "DSL",
          "DSL",
          "DSL",
          "DSL",
          "DSL",
          "DSL",
          "FIBER OPTIC",
          "FIBER OPTIC",
          "NO",
          "NO",
          "DSL",
          "FIBER OPTIC",
          "FIBER OPTIC",
          "NO",
          "DSL",
          "DSL",
          "NO",
          "NO",
          "DSL",
          "FIBER OPTIC",
          "NO",
          "FIBER OPTIC",
          "DSL",
          "DSL",
          "FIBER OPTIC",
          "DSL",
          "DSL",
          "DSL",
          "NO",
          "DSL",
          "DSL",
          "NO",
          "FIBER OPTIC",
          "DSL",
          "FIBER OPTIC",
          "FIBER OPTIC",
          "NO",
          "FIBER OPTIC",
          "NO",
          "FIBER OPTIC",
          "NO",
          "NO",
          "FIBER OPTIC",
          "NO",
          "DSL",
          "NO",
          "NO",
          "NO",
          "DSL",
          "DSL",
          "NO",
          "DSL",
          "DSL",
          "NO",
          "FIBER OPTIC",
          "FIBER OPTIC",
          "FIBER OPTIC",
          "FIBER OPTIC",
          "FIBER OPTIC",
          "DSL",
          "FIBER OPTIC",
          "FIBER OPTIC",
          "FIBER OPTIC",
          "FIBER OPTIC",
          "FIBER OPTIC",
          "DSL",
          "FIBER OPTIC",
          "DSL",
          "FIBER OPTIC",
          "DSL",
          "FIBER OPTIC",
          "FIBER OPTIC",
          "DSL",
          "DSL",
          "DSL",
          "DSL",
          "FIBER OPTIC",
          "DSL",
          "FIBER OPTIC",
          "NO",
          "FIBER OPTIC",
          "DSL",
          "FIBER OPTIC",
          "NO",
          "FIBER OPTIC",
          "FIBER OPTIC",
          "DSL",
          "NO",
          "FIBER OPTIC",
          "FIBER OPTIC",
          "NO",
          "DSL",
          "FIBER OPTIC",
          "DSL",
          "FIBER OPTIC",
          "FIBER OPTIC",
          "FIBER OPTIC",
          "DSL",
          "FIBER OPTIC",
          "DSL",
          "FIBER OPTIC",
          "DSL",
          "NO",
          "FIBER OPTIC",
          "DSL",
          "FIBER OPTIC",
          "DSL",
          "FIBER OPTIC",
          "FIBER OPTIC",
          "NO",
          "DSL",
          "FIBER OPTIC",
          "FIBER OPTIC",
          "FIBER OPTIC",
          "DSL",
          "FIBER OPTIC",
          "FIBER OPTIC",
          "DSL",
          "FIBER OPTIC",
          "DSL",
          "FIBER OPTIC",
          "NO",
          "DSL",
          "DSL",
          "FIBER OPTIC",
          "NO",
          "DSL",
          "FIBER OPTIC",
          "DSL",
          "FIBER OPTIC",
          "FIBER OPTIC",
          "FIBER OPTIC",
          "FIBER OPTIC",
          "FIBER OPTIC",
          "FIBER OPTIC",
          "NO",
          "NO",
          "FIBER OPTIC",
          "DSL",
          "DSL",
          "FIBER OPTIC",
          "NO",
          "DSL",
          "DSL",
          "FIBER OPTIC",
          "FIBER OPTIC",
          "FIBER OPTIC",
          "FIBER OPTIC",
          "DSL",
          "NO",
          "DSL",
          "FIBER OPTIC",
          "NO",
          "FIBER OPTIC",
          "DSL",
          "DSL",
          "FIBER OPTIC",
          "FIBER OPTIC",
          "DSL",
          "NO",
          "FIBER OPTIC",
          "FIBER OPTIC",
          "DSL",
          "FIBER OPTIC",
          "FIBER OPTIC",
          "DSL",
          "DSL",
          "FIBER OPTIC",
          "DSL",
          "DSL",
          "NO",
          "DSL",
          "NO",
          "FIBER OPTIC",
          "NO",
          "FIBER OPTIC",
          "FIBER OPTIC",
          "FIBER OPTIC",
          "DSL",
          "FIBER OPTIC",
          "NO",
          "NO",
          "FIBER OPTIC",
          "FIBER OPTIC",
          "DSL",
          "FIBER OPTIC",
          "DSL",
          "FIBER OPTIC",
          "DSL",
          "FIBER OPTIC",
          "NO",
          "NO",
          "FIBER OPTIC",
          "FIBER OPTIC",
          "FIBER OPTIC",
          "DSL",
          "DSL",
          "DSL",
          "DSL",
          "NO",
          "DSL",
          "NO",
          "NO",
          "FIBER OPTIC",
          "NO",
          "FIBER OPTIC",
          "FIBER OPTIC",
          "FIBER OPTIC",
          "FIBER OPTIC",
          "FIBER OPTIC",
          "FIBER OPTIC",
          "FIBER OPTIC",
          "FIBER OPTIC",
          "FIBER OPTIC",
          "DSL",
          "FIBER OPTIC",
          "DSL",
          "NO",
          "NO",
          "NO",
          "DSL",
          "FIBER OPTIC",
          "DSL",
          "FIBER OPTIC",
          "DSL",
          "DSL",
          "FIBER OPTIC",
          "NO",
          "NO",
          "NO",
          "DSL",
          "FIBER OPTIC",
          "DSL",
          "DSL",
          "DSL",
          "DSL",
          "DSL",
          "FIBER OPTIC",
          "FIBER OPTIC",
          "DSL",
          "NO",
          "FIBER OPTIC",
          "NO",
          "FIBER OPTIC",
          "FIBER OPTIC",
          "NO",
          "DSL",
          "DSL",
          "FIBER OPTIC",
          "NO",
          "DSL",
          "DSL",
          "DSL",
          "FIBER OPTIC",
          "FIBER OPTIC",
          "NO",
          "NO",
          "FIBER OPTIC",
          "FIBER OPTIC",
          "NO",
          "DSL",
          "FIBER OPTIC",
          "NO",
          "FIBER OPTIC",
          "FIBER OPTIC",
          "FIBER OPTIC",
          "DSL",
          "NO",
          "DSL",
          "FIBER OPTIC",
          "FIBER OPTIC",
          "FIBER OPTIC",
          "FIBER OPTIC",
          "NO",
          "FIBER OPTIC",
          "FIBER OPTIC",
          "FIBER OPTIC",
          "DSL",
          "DSL",
          "DSL",
          "DSL",
          "FIBER OPTIC",
          "NO",
          "FIBER OPTIC",
          "NO",
          "FIBER OPTIC",
          "NO",
          "NO",
          "FIBER OPTIC",
          "DSL",
          "FIBER OPTIC",
          "DSL",
          "FIBER OPTIC",
          "DSL",
          "NO",
          "FIBER OPTIC",
          "DSL",
          "NO",
          "DSL",
          "FIBER OPTIC",
          "DSL",
          "NO",
          "FIBER OPTIC",
          "NO",
          "NO",
          "DSL",
          "DSL",
          "NO",
          "DSL",
          "DSL",
          "FIBER OPTIC",
          "FIBER OPTIC",
          "FIBER OPTIC",
          "FIBER OPTIC",
          "FIBER OPTIC",
          "FIBER OPTIC",
          "FIBER OPTIC",
          "NO",
          "FIBER OPTIC",
          "FIBER OPTIC",
          "NO",
          "NO",
          "FIBER OPTIC",
          "DSL",
          "FIBER OPTIC",
          "DSL",
          "DSL",
          "FIBER OPTIC",
          "DSL",
          "DSL",
          "FIBER OPTIC",
          "FIBER OPTIC",
          "FIBER OPTIC",
          "DSL",
          "DSL",
          "NO",
          "FIBER OPTIC",
          "FIBER OPTIC",
          "NO",
          "FIBER OPTIC",
          "NO",
          "DSL",
          "DSL",
          "DSL",
          "FIBER OPTIC",
          "DSL",
          "FIBER OPTIC",
          "DSL",
          "DSL",
          "NO",
          "NO",
          "FIBER OPTIC",
          "DSL",
          "FIBER OPTIC",
          "FIBER OPTIC",
          "NO",
          "DSL",
          "DSL",
          "NO",
          "DSL",
          "NO",
          "DSL",
          "FIBER OPTIC",
          "DSL",
          "DSL",
          "DSL",
          "DSL",
          "NO",
          "FIBER OPTIC",
          "DSL",
          "FIBER OPTIC",
          "FIBER OPTIC",
          "FIBER OPTIC",
          "FIBER OPTIC",
          "FIBER OPTIC",
          "FIBER OPTIC",
          "NO",
          "FIBER OPTIC",
          "FIBER OPTIC",
          "FIBER OPTIC",
          "DSL",
          "NO",
          "FIBER OPTIC",
          "FIBER OPTIC",
          "FIBER OPTIC",
          "FIBER OPTIC",
          "DSL",
          "NO",
          "FIBER OPTIC",
          "DSL",
          "FIBER OPTIC",
          "FIBER OPTIC",
          "DSL",
          "FIBER OPTIC",
          "DSL",
          "FIBER OPTIC",
          "FIBER OPTIC",
          "FIBER OPTIC",
          "DSL",
          "FIBER OPTIC",
          "DSL",
          "DSL",
          "FIBER OPTIC",
          "DSL",
          "DSL",
          "FIBER OPTIC",
          "FIBER OPTIC",
          "DSL",
          "FIBER OPTIC",
          "FIBER OPTIC",
          "DSL",
          "DSL",
          "FIBER OPTIC",
          "FIBER OPTIC",
          "FIBER OPTIC",
          "DSL",
          "FIBER OPTIC",
          "FIBER OPTIC",
          "DSL",
          "FIBER OPTIC",
          "NO",
          "FIBER OPTIC",
          "DSL",
          "DSL",
          "NO",
          "NO",
          "FIBER OPTIC",
          "FIBER OPTIC",
          "DSL",
          "FIBER OPTIC",
          "NO",
          "FIBER OPTIC",
          "FIBER OPTIC",
          "NO",
          "FIBER OPTIC",
          "FIBER OPTIC",
          "FIBER OPTIC",
          "FIBER OPTIC",
          "DSL",
          "NO",
          "DSL",
          "DSL",
          "FIBER OPTIC",
          "DSL",
          "FIBER OPTIC",
          "FIBER OPTIC",
          "NO",
          "FIBER OPTIC",
          "DSL",
          "FIBER OPTIC",
          "FIBER OPTIC",
          "DSL",
          "DSL",
          "NO",
          "FIBER OPTIC",
          "NO",
          "DSL",
          "FIBER OPTIC",
          "FIBER OPTIC",
          "DSL",
          "NO",
          "FIBER OPTIC",
          "NO",
          "DSL",
          "DSL",
          "DSL",
          "NO",
          "DSL",
          "NO",
          "DSL",
          "DSL",
          "DSL",
          "FIBER OPTIC",
          "FIBER OPTIC",
          "FIBER OPTIC",
          "FIBER OPTIC",
          "FIBER OPTIC",
          "FIBER OPTIC",
          "FIBER OPTIC",
          "NO",
          "DSL",
          "DSL",
          "NO",
          "FIBER OPTIC",
          "DSL",
          "DSL",
          "FIBER OPTIC",
          "FIBER OPTIC",
          "FIBER OPTIC",
          "NO",
          "DSL",
          "DSL",
          "FIBER OPTIC",
          "DSL",
          "DSL",
          "FIBER OPTIC",
          "DSL",
          "DSL",
          "NO",
          "DSL",
          "FIBER OPTIC",
          "FIBER OPTIC",
          "FIBER OPTIC",
          "FIBER OPTIC",
          "FIBER OPTIC",
          "FIBER OPTIC",
          "DSL",
          "DSL",
          "FIBER OPTIC",
          "DSL",
          "NO",
          "DSL",
          "FIBER OPTIC",
          "FIBER OPTIC",
          "FIBER OPTIC",
          "FIBER OPTIC",
          "NO",
          "DSL",
          "FIBER OPTIC",
          "DSL",
          "DSL",
          "DSL",
          "NO",
          "FIBER OPTIC",
          "FIBER OPTIC",
          "DSL",
          "FIBER OPTIC",
          "DSL",
          "DSL",
          "DSL",
          "FIBER OPTIC",
          "NO",
          "FIBER OPTIC",
          "NO",
          "DSL",
          "DSL",
          "FIBER OPTIC",
          "FIBER OPTIC",
          "DSL",
          "DSL",
          "NO",
          "DSL",
          "NO",
          "DSL",
          "FIBER OPTIC",
          "DSL",
          "FIBER OPTIC",
          "NO",
          "NO",
          "FIBER OPTIC",
          "FIBER OPTIC",
          "FIBER OPTIC",
          "FIBER OPTIC",
          "FIBER OPTIC",
          "FIBER OPTIC",
          "FIBER OPTIC",
          "FIBER OPTIC",
          "DSL",
          "FIBER OPTIC",
          "FIBER OPTIC",
          "FIBER OPTIC",
          "FIBER OPTIC",
          "NO",
          "FIBER OPTIC",
          "NO",
          "FIBER OPTIC",
          "FIBER OPTIC",
          "NO",
          "NO",
          "NO",
          "DSL",
          "FIBER OPTIC",
          "FIBER OPTIC",
          "DSL",
          "NO",
          "FIBER OPTIC",
          "DSL",
          "NO",
          "NO",
          "FIBER OPTIC",
          "DSL",
          "NO",
          "FIBER OPTIC",
          "FIBER OPTIC",
          "DSL",
          "FIBER OPTIC",
          "DSL",
          "DSL",
          "FIBER OPTIC",
          "NO",
          "DSL",
          "FIBER OPTIC",
          "NO",
          "FIBER OPTIC",
          "FIBER OPTIC",
          "DSL",
          "DSL",
          "DSL",
          "FIBER OPTIC",
          "NO",
          "DSL",
          "FIBER OPTIC",
          "FIBER OPTIC",
          "NO",
          "NO",
          "NO",
          "DSL",
          "DSL"
         ],
         "xaxis": "x",
         "y": [
          1,
          1,
          1,
          1,
          1,
          1,
          1,
          1,
          1,
          1,
          1,
          1,
          1,
          1,
          1,
          1,
          1,
          1,
          1,
          1,
          1,
          1,
          1,
          1,
          1,
          1,
          1,
          1,
          1,
          1,
          1,
          1,
          1,
          1,
          1,
          1,
          1,
          1,
          1,
          1,
          1,
          1,
          1,
          1,
          1,
          1,
          1,
          1,
          1,
          1,
          1,
          1,
          1,
          1,
          1,
          1,
          1,
          1,
          1,
          1,
          1,
          1,
          1,
          1,
          1,
          1,
          1,
          1,
          1,
          1,
          1,
          1,
          1,
          1,
          1,
          1,
          1,
          1,
          1,
          1,
          1,
          1,
          1,
          1,
          1,
          1,
          1,
          1,
          1,
          1,
          1,
          1,
          1,
          1,
          1,
          1,
          1,
          1,
          1,
          1,
          1,
          1,
          1,
          1,
          1,
          1,
          1,
          1,
          1,
          1,
          1,
          1,
          1,
          1,
          1,
          1,
          1,
          1,
          1,
          1,
          1,
          1,
          1,
          1,
          1,
          1,
          1,
          1,
          1,
          1,
          1,
          1,
          1,
          1,
          1,
          1,
          1,
          1,
          1,
          1,
          1,
          1,
          1,
          1,
          1,
          1,
          1,
          1,
          1,
          1,
          1,
          1,
          1,
          1,
          1,
          1,
          1,
          1,
          1,
          1,
          1,
          1,
          1,
          1,
          1,
          1,
          1,
          1,
          1,
          1,
          1,
          1,
          1,
          1,
          1,
          1,
          1,
          1,
          1,
          1,
          1,
          1,
          1,
          1,
          1,
          1,
          1,
          1,
          1,
          1,
          1,
          1,
          1,
          1,
          1,
          1,
          1,
          1,
          1,
          1,
          1,
          1,
          1,
          1,
          1,
          1,
          1,
          1,
          1,
          1,
          1,
          1,
          1,
          1,
          1,
          1,
          1,
          1,
          1,
          1,
          1,
          1,
          1,
          1,
          1,
          1,
          1,
          1,
          1,
          1,
          1,
          1,
          1,
          1,
          1,
          1,
          1,
          1,
          1,
          1,
          1,
          1,
          1,
          1,
          1,
          1,
          1,
          1,
          1,
          1,
          1,
          1,
          1,
          1,
          1,
          1,
          1,
          1,
          1,
          1,
          1,
          1,
          1,
          1,
          1,
          1,
          1,
          1,
          1,
          1,
          1,
          1,
          1,
          1,
          1,
          1,
          1,
          1,
          1,
          1,
          1,
          1,
          1,
          1,
          1,
          1,
          1,
          1,
          1,
          1,
          1,
          1,
          1,
          1,
          1,
          1,
          1,
          1,
          1,
          1,
          1,
          1,
          1,
          1,
          1,
          1,
          1,
          1,
          1,
          1,
          1,
          1,
          1,
          1,
          1,
          1,
          1,
          1,
          1,
          1,
          1,
          1,
          1,
          1,
          1,
          1,
          1,
          1,
          1,
          1,
          1,
          1,
          1,
          1,
          1,
          1,
          1,
          1,
          1,
          1,
          1,
          1,
          1,
          1,
          1,
          1,
          1,
          1,
          1,
          1,
          1,
          1,
          1,
          1,
          1,
          1,
          1,
          1,
          1,
          1,
          1,
          1,
          1,
          1,
          1,
          1,
          1,
          1,
          1,
          1,
          1,
          1,
          1,
          1,
          1,
          1,
          1,
          1,
          1,
          1,
          1,
          1,
          1,
          1,
          1,
          1,
          1,
          1,
          1,
          1,
          1,
          1,
          1,
          1,
          1,
          1,
          1,
          1,
          1,
          1,
          1,
          1,
          1,
          1,
          1,
          1,
          1,
          1,
          1,
          1,
          1,
          1,
          1,
          1,
          1,
          1,
          1,
          1,
          1,
          1,
          1,
          1,
          1,
          1,
          1,
          1,
          1,
          1,
          1,
          1,
          1,
          1,
          1,
          1,
          1,
          1,
          1,
          1,
          1,
          1,
          1,
          1,
          1,
          1,
          1,
          1,
          1,
          1,
          1,
          1,
          1,
          1,
          1,
          1,
          1,
          1,
          1,
          1,
          1,
          1,
          1,
          1,
          1,
          1,
          1,
          1,
          1,
          1,
          1,
          1,
          1,
          1,
          1,
          1,
          1,
          1,
          1,
          1,
          1,
          1,
          1,
          1,
          1,
          1,
          1,
          1,
          1,
          1,
          1,
          1,
          1,
          1,
          1,
          1,
          1,
          1,
          1,
          1,
          1,
          1,
          1,
          1,
          1,
          1,
          1,
          1,
          1,
          1,
          1,
          1,
          1,
          1,
          1,
          1,
          1,
          1,
          1,
          1,
          1,
          1,
          1,
          1,
          1,
          1,
          1,
          1,
          1,
          1,
          1,
          1,
          1,
          1,
          1,
          1,
          1,
          1,
          1,
          1,
          1,
          1,
          1,
          1,
          1,
          1,
          1,
          1,
          1,
          1,
          1,
          1,
          1,
          1,
          1,
          1,
          1,
          1,
          1,
          1,
          1,
          1,
          1,
          1,
          1,
          1,
          1,
          1,
          1,
          1,
          1,
          1,
          1,
          1,
          1,
          1,
          1,
          1,
          1,
          1,
          1,
          1,
          1,
          1,
          1,
          1,
          1,
          1,
          1,
          1,
          1,
          1,
          1,
          1,
          1,
          1,
          1,
          1,
          1,
          1,
          1,
          1,
          1,
          1,
          1,
          1,
          1,
          1,
          1,
          1,
          1,
          1,
          1,
          1,
          1,
          1,
          1,
          1,
          1,
          1,
          1,
          1,
          1,
          1,
          1,
          1,
          1,
          1,
          1,
          1,
          1,
          1,
          1,
          1,
          1,
          1,
          1,
          1,
          1,
          1,
          1,
          1,
          1,
          1,
          1,
          1,
          1,
          1,
          1,
          1,
          1,
          1,
          1,
          1,
          1,
          1,
          1,
          1,
          1,
          1,
          1,
          1,
          1,
          1,
          1,
          1,
          1,
          1,
          1,
          1,
          1,
          1,
          1,
          1,
          1,
          1,
          1,
          1,
          1,
          1,
          1,
          1,
          1,
          1,
          1,
          1,
          1,
          1,
          1,
          1,
          1,
          1,
          1,
          1,
          1,
          1,
          1,
          1,
          1,
          1,
          1,
          1,
          1,
          1,
          1,
          1,
          1,
          1,
          1,
          1,
          1,
          1,
          1,
          1,
          1,
          1,
          1,
          1,
          1,
          1,
          1,
          1,
          1,
          1,
          1,
          1,
          1,
          1,
          1,
          1,
          1,
          1,
          1,
          1,
          1,
          1,
          1,
          1,
          1,
          1,
          1,
          1,
          1,
          1,
          1,
          1,
          1,
          1,
          1,
          1,
          1,
          1,
          1,
          1,
          1,
          1,
          1,
          1,
          1,
          1,
          1,
          1,
          1,
          1,
          1,
          1,
          1,
          1,
          1,
          1,
          1,
          1,
          1,
          1,
          1,
          1,
          1,
          1,
          1,
          1,
          1,
          1,
          1,
          1,
          1,
          1,
          1,
          1,
          1,
          1,
          1,
          1,
          1,
          1,
          1,
          1,
          1,
          1,
          1,
          1,
          1,
          1,
          1,
          1,
          1,
          1,
          1,
          1,
          1,
          1,
          1,
          1,
          1,
          1,
          1,
          1,
          1,
          1,
          1,
          1,
          1,
          1,
          1,
          1,
          1,
          1,
          1,
          1,
          1,
          1,
          1,
          1,
          1,
          1,
          1,
          1,
          1,
          1,
          1,
          1,
          1,
          1,
          1,
          1,
          1,
          1,
          1,
          1,
          1,
          1,
          1,
          1,
          1,
          1,
          1,
          1,
          1,
          1,
          1,
          1,
          1,
          1,
          1,
          1,
          1,
          1,
          1,
          1,
          1,
          1,
          1,
          1,
          1,
          1,
          1,
          1,
          1,
          1,
          1,
          1,
          1,
          1,
          1,
          1,
          1,
          1,
          1,
          1,
          1,
          1,
          1,
          1,
          1,
          1,
          1,
          1,
          1,
          1,
          1,
          1,
          1,
          1,
          1,
          1,
          1,
          1,
          1,
          1,
          1,
          1,
          1,
          1,
          1,
          1,
          1,
          1,
          1,
          1,
          1,
          1,
          1,
          1,
          1,
          1,
          1,
          1,
          1,
          1,
          1,
          1,
          1,
          1,
          1,
          1,
          1,
          1,
          1,
          1,
          1,
          1,
          1,
          1,
          1,
          1,
          1,
          1,
          1,
          1,
          1,
          1,
          1,
          1,
          1,
          1,
          1,
          1,
          1,
          1,
          1,
          1,
          1,
          1,
          1,
          1,
          1,
          1,
          1,
          1,
          1,
          1,
          1,
          1,
          1,
          1,
          1,
          1,
          1,
          1,
          1,
          1,
          1,
          1,
          1,
          1,
          1,
          1,
          1,
          1,
          1,
          1,
          1,
          1,
          1,
          1,
          1,
          1,
          1,
          1,
          1,
          1,
          1,
          1,
          1,
          1,
          1,
          1,
          1,
          1,
          1,
          1,
          1,
          1,
          1,
          1,
          1,
          1,
          1,
          1,
          1,
          1,
          1,
          1,
          1,
          1,
          1,
          1,
          1,
          1,
          1,
          1,
          1,
          1,
          1,
          1,
          1,
          1,
          1,
          1,
          1,
          1,
          1,
          1,
          1,
          1,
          1,
          1,
          1,
          1,
          1,
          1,
          1,
          1,
          1,
          1,
          1,
          1,
          1,
          1,
          1,
          1,
          1,
          1,
          1,
          1,
          1,
          1,
          1,
          1,
          1,
          1,
          1,
          1,
          1,
          1,
          1,
          1,
          1,
          1,
          1,
          1,
          1,
          1,
          1,
          1,
          1,
          1,
          1,
          1,
          1,
          1,
          1,
          1,
          1,
          1,
          1,
          1,
          1,
          1,
          1,
          1,
          1,
          1,
          1,
          1,
          1,
          1,
          1,
          1,
          1,
          1,
          1,
          1,
          1,
          1,
          1,
          1,
          1,
          1,
          1,
          1,
          1,
          1,
          1,
          1,
          1,
          1,
          1,
          1,
          1,
          1,
          1,
          1,
          1,
          1,
          1,
          1,
          1,
          1,
          1,
          1,
          1,
          1,
          1,
          1,
          1,
          1,
          1,
          1,
          1,
          1,
          1,
          1,
          1,
          1,
          1,
          1,
          1,
          1,
          1,
          1,
          1,
          1,
          1,
          1,
          1,
          1,
          1,
          1,
          1,
          1,
          1,
          1,
          1,
          1,
          1,
          1,
          1,
          1,
          1,
          1,
          1,
          1,
          1,
          1,
          1,
          1,
          1,
          1,
          1,
          1,
          1,
          1,
          1,
          1,
          1,
          1,
          1,
          1,
          1,
          1,
          1,
          1,
          1,
          1,
          1,
          1,
          1,
          1,
          1,
          1,
          1,
          1,
          1,
          1,
          1,
          1,
          1,
          1,
          1,
          1,
          1,
          1,
          1,
          1,
          1,
          1,
          1,
          1,
          1,
          1,
          1,
          1,
          1,
          1,
          1,
          1,
          1,
          1,
          1,
          1,
          1,
          1,
          1,
          1,
          1,
          1,
          1,
          1,
          1,
          1,
          1,
          1,
          1,
          1,
          1,
          1,
          1,
          1,
          1,
          1,
          1,
          1,
          1,
          1,
          1,
          1,
          1,
          1,
          1,
          1,
          1,
          1,
          1,
          1,
          1,
          1,
          1,
          1,
          1,
          1,
          1,
          1,
          1,
          1,
          1,
          1,
          1,
          1,
          1,
          1,
          1,
          1,
          1,
          1,
          1,
          1,
          1,
          1,
          1,
          1,
          1,
          1,
          1,
          1,
          1,
          1,
          1,
          1,
          1,
          1,
          1,
          1,
          1,
          1,
          1,
          1,
          1,
          1,
          1,
          1,
          1,
          1,
          1,
          1,
          1,
          1,
          1,
          1,
          1,
          1,
          1,
          1,
          1,
          1,
          1,
          1,
          1,
          1,
          1,
          1,
          1,
          1,
          1,
          1,
          1,
          1,
          1,
          1,
          1,
          1,
          1,
          1,
          1,
          1,
          1,
          1,
          1,
          1,
          1,
          1,
          1,
          1,
          1,
          1,
          1,
          1,
          1,
          1,
          1,
          1,
          1,
          1,
          1,
          1,
          1,
          1,
          1,
          1,
          1,
          1,
          1,
          1,
          1,
          1,
          1,
          1,
          1,
          1,
          1,
          1,
          1,
          1,
          1,
          1,
          1,
          1,
          1,
          1,
          1,
          1,
          1,
          1,
          1,
          1,
          1,
          1,
          1,
          1,
          1,
          1,
          1,
          1,
          1,
          1,
          1,
          1,
          1,
          1,
          1,
          1,
          1,
          1,
          1,
          1,
          1,
          1,
          1,
          1,
          1,
          1,
          1,
          1,
          1,
          1,
          1,
          1,
          1,
          1,
          1,
          1,
          1,
          1,
          1,
          1,
          1,
          1,
          1,
          1,
          1,
          1,
          1,
          1,
          1,
          1,
          1,
          1,
          1,
          1,
          1,
          1,
          1,
          1,
          1,
          1,
          1,
          1,
          1,
          1,
          1,
          1,
          1,
          1,
          1,
          1,
          1,
          1,
          1,
          1,
          1,
          1,
          1,
          1,
          1,
          1,
          1,
          1,
          1,
          1,
          1,
          1,
          1,
          1,
          1,
          1,
          1,
          1,
          1,
          1,
          1,
          1,
          1,
          1,
          1,
          1,
          1,
          1,
          1,
          1,
          1,
          1,
          1,
          1,
          1,
          1,
          1,
          1,
          1,
          1,
          1,
          1,
          1,
          1,
          1,
          1,
          1,
          1,
          1,
          1,
          1,
          1,
          1,
          1,
          1,
          1,
          1,
          1,
          1,
          1,
          1,
          1,
          1,
          1,
          1,
          1,
          1,
          1,
          1,
          1,
          1,
          1,
          1,
          1,
          1,
          1,
          1,
          1,
          1,
          1,
          1,
          1,
          1,
          1,
          1,
          1,
          1,
          1,
          1,
          1,
          1,
          1,
          1,
          1,
          1,
          1,
          1,
          1,
          1,
          1,
          1,
          1,
          1,
          1,
          1,
          1,
          1,
          1,
          1,
          1,
          1,
          1,
          1,
          1,
          1,
          1,
          1,
          1,
          1,
          1,
          1,
          1,
          1,
          1,
          1,
          1,
          1,
          1,
          1,
          1,
          1,
          1,
          1,
          1,
          1,
          1,
          1,
          1,
          1,
          1,
          1,
          1,
          1,
          1,
          1,
          1,
          1,
          1,
          1,
          1,
          1,
          1,
          1,
          1,
          1,
          1,
          1,
          1,
          1,
          1,
          1,
          1,
          1,
          1,
          1,
          1,
          1,
          1,
          1,
          1,
          1,
          1,
          1,
          1,
          1,
          1,
          1,
          1,
          1,
          1,
          1,
          1,
          1,
          1,
          1,
          1,
          1,
          1,
          1,
          1,
          1,
          1,
          1,
          1,
          1,
          1,
          1,
          1,
          1,
          1,
          1,
          1,
          1,
          1,
          1,
          1,
          1,
          1,
          1,
          1,
          1,
          1,
          1,
          1,
          1,
          1,
          1,
          1,
          1,
          1,
          1,
          1,
          1,
          1,
          1,
          1,
          1,
          1,
          1,
          1,
          1,
          1,
          1,
          1,
          1,
          1,
          1,
          1,
          1,
          1,
          1,
          1,
          1,
          1,
          1,
          1,
          1,
          1,
          1,
          1,
          1,
          1,
          1,
          1,
          1,
          1,
          1,
          1,
          1,
          1,
          1,
          1,
          1,
          1,
          1,
          1,
          1,
          1,
          1,
          1,
          1,
          1,
          1,
          1,
          1,
          1,
          1,
          1,
          1,
          1,
          1,
          1,
          1,
          1,
          1,
          1,
          1,
          1,
          1,
          1,
          1,
          1,
          1,
          1,
          1,
          1,
          1,
          1,
          1,
          1,
          1,
          1,
          1,
          1,
          1,
          1,
          1,
          1,
          1,
          1,
          1,
          1,
          1,
          1,
          1,
          1,
          1,
          1,
          1,
          1,
          1,
          1,
          1,
          1,
          1,
          1,
          1,
          1,
          1,
          1,
          1,
          1,
          1,
          1,
          1,
          1,
          1,
          1,
          1,
          1,
          1,
          1,
          1,
          1,
          1,
          1,
          1,
          1,
          1,
          1,
          1,
          1,
          1,
          1,
          1,
          1,
          1,
          1,
          1,
          1,
          1,
          1,
          1,
          1,
          1,
          1,
          1,
          1,
          1,
          1,
          1,
          1,
          1,
          1,
          1,
          1,
          1,
          1,
          1,
          1,
          1,
          1,
          1,
          1,
          1,
          1,
          1,
          1,
          1,
          1,
          1,
          1,
          1,
          1,
          1,
          1,
          1,
          1,
          1,
          1,
          1,
          1,
          1,
          1,
          1,
          1,
          1,
          1,
          1,
          1,
          1,
          1,
          1,
          1,
          1,
          1,
          1,
          1,
          1,
          1,
          1,
          1,
          1,
          1,
          1,
          1,
          1,
          1,
          1,
          1,
          1,
          1,
          1,
          1,
          1,
          1,
          1,
          1,
          1,
          1,
          1,
          1,
          1,
          1,
          1,
          1,
          1,
          1,
          1,
          1,
          1,
          1,
          1,
          1,
          1,
          1,
          1,
          1,
          1,
          1,
          1,
          1,
          1,
          1,
          1,
          1,
          1,
          1,
          1,
          1,
          1,
          1,
          1,
          1,
          1,
          1,
          1,
          1,
          1,
          1,
          1,
          1,
          1,
          1,
          1,
          1,
          1,
          1,
          1,
          1,
          1,
          1,
          1,
          1,
          1,
          1,
          1,
          1,
          1,
          1,
          1,
          1,
          1,
          1,
          1,
          1,
          1,
          1,
          1,
          1,
          1,
          1,
          1,
          1,
          1,
          1,
          1,
          1,
          1,
          1,
          1,
          1,
          1,
          1,
          1,
          1,
          1,
          1,
          1,
          1,
          1,
          1,
          1,
          1,
          1,
          1,
          1,
          1,
          1,
          1,
          1,
          1,
          1,
          1,
          1,
          1,
          1,
          1,
          1,
          1,
          1,
          1,
          1,
          1,
          1,
          1,
          1,
          1,
          1,
          1,
          1,
          1,
          1,
          1,
          1,
          1,
          1,
          1,
          1,
          1,
          1,
          1,
          1,
          1,
          1,
          1,
          1,
          1,
          1,
          1,
          1,
          1,
          1,
          1,
          1,
          1,
          1,
          1,
          1,
          1,
          1,
          1,
          1,
          1,
          1,
          1,
          1,
          1,
          1,
          1,
          1,
          1,
          1,
          1,
          1,
          1,
          1,
          1,
          1,
          1,
          1,
          1,
          1,
          1,
          1,
          1,
          1,
          1,
          1,
          1,
          1,
          1,
          1,
          1,
          1,
          1,
          1,
          1,
          1,
          1,
          1,
          1,
          1,
          1,
          1,
          1,
          1,
          1,
          1,
          1,
          1,
          1,
          1,
          1,
          1,
          1,
          1,
          1,
          1,
          1,
          1,
          1,
          1,
          1,
          1,
          1,
          1,
          1,
          1,
          1,
          1,
          1,
          1,
          1,
          1,
          1,
          1,
          1,
          1,
          1,
          1,
          1,
          1,
          1,
          1,
          1,
          1,
          1,
          1,
          1,
          1,
          1,
          1,
          1,
          1,
          1,
          1,
          1,
          1,
          1,
          1,
          1,
          1,
          1,
          1,
          1,
          1,
          1,
          1,
          1,
          1,
          1,
          1,
          1,
          1,
          1,
          1,
          1,
          1,
          1,
          1,
          1,
          1,
          1,
          1,
          1,
          1,
          1,
          1,
          1,
          1,
          1,
          1,
          1,
          1,
          1,
          1,
          1,
          1,
          1,
          1,
          1,
          1,
          1,
          1,
          1,
          1,
          1,
          1,
          1,
          1,
          1,
          1,
          1,
          1,
          1,
          1,
          1,
          1,
          1,
          1,
          1,
          1,
          1,
          1,
          1,
          1,
          1,
          1,
          1,
          1,
          1,
          1,
          1,
          1,
          1,
          1,
          1,
          1,
          1,
          1,
          1,
          1,
          1,
          1,
          1,
          1,
          1,
          1,
          1,
          1,
          1,
          1,
          1,
          1,
          1,
          1,
          1,
          1,
          1,
          1,
          1,
          1,
          1,
          1,
          1,
          1,
          1,
          1,
          1,
          1,
          1,
          1,
          1,
          1,
          1,
          1,
          1,
          1,
          1,
          1,
          1,
          1,
          1,
          1,
          1,
          1,
          1,
          1,
          1,
          1,
          1,
          1,
          1,
          1,
          1,
          1,
          1,
          1,
          1,
          1,
          1,
          1,
          1,
          1,
          1,
          1,
          1,
          1,
          1,
          1,
          1,
          1,
          1,
          1,
          1,
          1,
          1,
          1,
          1,
          1,
          1,
          1,
          1,
          1,
          1,
          1,
          1,
          1,
          1,
          1,
          1,
          1,
          1,
          1,
          1,
          1,
          1,
          1,
          1,
          1,
          1,
          1,
          1,
          1,
          1,
          1,
          1,
          1,
          1,
          1,
          1,
          1,
          1,
          1,
          1,
          1,
          1,
          1,
          1,
          1,
          1,
          1,
          1,
          1,
          1,
          1,
          1,
          1,
          1,
          1,
          1,
          1,
          1,
          1,
          1,
          1,
          1,
          1,
          1,
          1,
          1,
          1,
          1,
          1,
          1,
          1,
          1,
          1,
          1,
          1,
          1,
          1,
          1,
          1,
          1,
          1,
          1,
          1,
          1,
          1,
          1,
          1,
          1,
          1,
          1,
          1,
          1,
          1,
          1,
          1,
          1,
          1,
          1,
          1,
          1,
          1,
          1,
          1,
          1,
          1,
          1,
          1,
          1,
          1,
          1,
          1,
          1,
          1,
          1,
          1,
          1,
          1,
          1,
          1,
          1,
          1,
          1,
          1,
          1,
          1,
          1,
          1,
          1,
          1,
          1,
          1,
          1,
          1,
          1,
          1,
          1,
          1,
          1,
          1,
          1,
          1,
          1,
          1,
          1,
          1,
          1,
          1,
          1,
          1,
          1,
          1,
          1,
          1,
          1,
          1,
          1,
          1,
          1,
          1,
          1,
          1,
          1,
          1,
          1,
          1,
          1
         ],
         "yaxis": "y"
        }
       ],
       "layout": {
        "barmode": "relative",
        "legend": {
         "tracegroupgap": 0
        },
        "margin": {
         "t": 60
        },
        "template": {
         "data": {
          "bar": [
           {
            "error_x": {
             "color": "#2a3f5f"
            },
            "error_y": {
             "color": "#2a3f5f"
            },
            "marker": {
             "line": {
              "color": "#E5ECF6",
              "width": 0.5
             },
             "pattern": {
              "fillmode": "overlay",
              "size": 10,
              "solidity": 0.2
             }
            },
            "type": "bar"
           }
          ],
          "barpolar": [
           {
            "marker": {
             "line": {
              "color": "#E5ECF6",
              "width": 0.5
             },
             "pattern": {
              "fillmode": "overlay",
              "size": 10,
              "solidity": 0.2
             }
            },
            "type": "barpolar"
           }
          ],
          "carpet": [
           {
            "aaxis": {
             "endlinecolor": "#2a3f5f",
             "gridcolor": "white",
             "linecolor": "white",
             "minorgridcolor": "white",
             "startlinecolor": "#2a3f5f"
            },
            "baxis": {
             "endlinecolor": "#2a3f5f",
             "gridcolor": "white",
             "linecolor": "white",
             "minorgridcolor": "white",
             "startlinecolor": "#2a3f5f"
            },
            "type": "carpet"
           }
          ],
          "choropleth": [
           {
            "colorbar": {
             "outlinewidth": 0,
             "ticks": ""
            },
            "type": "choropleth"
           }
          ],
          "contour": [
           {
            "colorbar": {
             "outlinewidth": 0,
             "ticks": ""
            },
            "colorscale": [
             [
              0,
              "#0d0887"
             ],
             [
              0.1111111111111111,
              "#46039f"
             ],
             [
              0.2222222222222222,
              "#7201a8"
             ],
             [
              0.3333333333333333,
              "#9c179e"
             ],
             [
              0.4444444444444444,
              "#bd3786"
             ],
             [
              0.5555555555555556,
              "#d8576b"
             ],
             [
              0.6666666666666666,
              "#ed7953"
             ],
             [
              0.7777777777777778,
              "#fb9f3a"
             ],
             [
              0.8888888888888888,
              "#fdca26"
             ],
             [
              1,
              "#f0f921"
             ]
            ],
            "type": "contour"
           }
          ],
          "contourcarpet": [
           {
            "colorbar": {
             "outlinewidth": 0,
             "ticks": ""
            },
            "type": "contourcarpet"
           }
          ],
          "heatmap": [
           {
            "colorbar": {
             "outlinewidth": 0,
             "ticks": ""
            },
            "colorscale": [
             [
              0,
              "#0d0887"
             ],
             [
              0.1111111111111111,
              "#46039f"
             ],
             [
              0.2222222222222222,
              "#7201a8"
             ],
             [
              0.3333333333333333,
              "#9c179e"
             ],
             [
              0.4444444444444444,
              "#bd3786"
             ],
             [
              0.5555555555555556,
              "#d8576b"
             ],
             [
              0.6666666666666666,
              "#ed7953"
             ],
             [
              0.7777777777777778,
              "#fb9f3a"
             ],
             [
              0.8888888888888888,
              "#fdca26"
             ],
             [
              1,
              "#f0f921"
             ]
            ],
            "type": "heatmap"
           }
          ],
          "heatmapgl": [
           {
            "colorbar": {
             "outlinewidth": 0,
             "ticks": ""
            },
            "colorscale": [
             [
              0,
              "#0d0887"
             ],
             [
              0.1111111111111111,
              "#46039f"
             ],
             [
              0.2222222222222222,
              "#7201a8"
             ],
             [
              0.3333333333333333,
              "#9c179e"
             ],
             [
              0.4444444444444444,
              "#bd3786"
             ],
             [
              0.5555555555555556,
              "#d8576b"
             ],
             [
              0.6666666666666666,
              "#ed7953"
             ],
             [
              0.7777777777777778,
              "#fb9f3a"
             ],
             [
              0.8888888888888888,
              "#fdca26"
             ],
             [
              1,
              "#f0f921"
             ]
            ],
            "type": "heatmapgl"
           }
          ],
          "histogram": [
           {
            "marker": {
             "pattern": {
              "fillmode": "overlay",
              "size": 10,
              "solidity": 0.2
             }
            },
            "type": "histogram"
           }
          ],
          "histogram2d": [
           {
            "colorbar": {
             "outlinewidth": 0,
             "ticks": ""
            },
            "colorscale": [
             [
              0,
              "#0d0887"
             ],
             [
              0.1111111111111111,
              "#46039f"
             ],
             [
              0.2222222222222222,
              "#7201a8"
             ],
             [
              0.3333333333333333,
              "#9c179e"
             ],
             [
              0.4444444444444444,
              "#bd3786"
             ],
             [
              0.5555555555555556,
              "#d8576b"
             ],
             [
              0.6666666666666666,
              "#ed7953"
             ],
             [
              0.7777777777777778,
              "#fb9f3a"
             ],
             [
              0.8888888888888888,
              "#fdca26"
             ],
             [
              1,
              "#f0f921"
             ]
            ],
            "type": "histogram2d"
           }
          ],
          "histogram2dcontour": [
           {
            "colorbar": {
             "outlinewidth": 0,
             "ticks": ""
            },
            "colorscale": [
             [
              0,
              "#0d0887"
             ],
             [
              0.1111111111111111,
              "#46039f"
             ],
             [
              0.2222222222222222,
              "#7201a8"
             ],
             [
              0.3333333333333333,
              "#9c179e"
             ],
             [
              0.4444444444444444,
              "#bd3786"
             ],
             [
              0.5555555555555556,
              "#d8576b"
             ],
             [
              0.6666666666666666,
              "#ed7953"
             ],
             [
              0.7777777777777778,
              "#fb9f3a"
             ],
             [
              0.8888888888888888,
              "#fdca26"
             ],
             [
              1,
              "#f0f921"
             ]
            ],
            "type": "histogram2dcontour"
           }
          ],
          "mesh3d": [
           {
            "colorbar": {
             "outlinewidth": 0,
             "ticks": ""
            },
            "type": "mesh3d"
           }
          ],
          "parcoords": [
           {
            "line": {
             "colorbar": {
              "outlinewidth": 0,
              "ticks": ""
             }
            },
            "type": "parcoords"
           }
          ],
          "pie": [
           {
            "automargin": true,
            "type": "pie"
           }
          ],
          "scatter": [
           {
            "fillpattern": {
             "fillmode": "overlay",
             "size": 10,
             "solidity": 0.2
            },
            "type": "scatter"
           }
          ],
          "scatter3d": [
           {
            "line": {
             "colorbar": {
              "outlinewidth": 0,
              "ticks": ""
             }
            },
            "marker": {
             "colorbar": {
              "outlinewidth": 0,
              "ticks": ""
             }
            },
            "type": "scatter3d"
           }
          ],
          "scattercarpet": [
           {
            "marker": {
             "colorbar": {
              "outlinewidth": 0,
              "ticks": ""
             }
            },
            "type": "scattercarpet"
           }
          ],
          "scattergeo": [
           {
            "marker": {
             "colorbar": {
              "outlinewidth": 0,
              "ticks": ""
             }
            },
            "type": "scattergeo"
           }
          ],
          "scattergl": [
           {
            "marker": {
             "colorbar": {
              "outlinewidth": 0,
              "ticks": ""
             }
            },
            "type": "scattergl"
           }
          ],
          "scattermapbox": [
           {
            "marker": {
             "colorbar": {
              "outlinewidth": 0,
              "ticks": ""
             }
            },
            "type": "scattermapbox"
           }
          ],
          "scatterpolar": [
           {
            "marker": {
             "colorbar": {
              "outlinewidth": 0,
              "ticks": ""
             }
            },
            "type": "scatterpolar"
           }
          ],
          "scatterpolargl": [
           {
            "marker": {
             "colorbar": {
              "outlinewidth": 0,
              "ticks": ""
             }
            },
            "type": "scatterpolargl"
           }
          ],
          "scatterternary": [
           {
            "marker": {
             "colorbar": {
              "outlinewidth": 0,
              "ticks": ""
             }
            },
            "type": "scatterternary"
           }
          ],
          "surface": [
           {
            "colorbar": {
             "outlinewidth": 0,
             "ticks": ""
            },
            "colorscale": [
             [
              0,
              "#0d0887"
             ],
             [
              0.1111111111111111,
              "#46039f"
             ],
             [
              0.2222222222222222,
              "#7201a8"
             ],
             [
              0.3333333333333333,
              "#9c179e"
             ],
             [
              0.4444444444444444,
              "#bd3786"
             ],
             [
              0.5555555555555556,
              "#d8576b"
             ],
             [
              0.6666666666666666,
              "#ed7953"
             ],
             [
              0.7777777777777778,
              "#fb9f3a"
             ],
             [
              0.8888888888888888,
              "#fdca26"
             ],
             [
              1,
              "#f0f921"
             ]
            ],
            "type": "surface"
           }
          ],
          "table": [
           {
            "cells": {
             "fill": {
              "color": "#EBF0F8"
             },
             "line": {
              "color": "white"
             }
            },
            "header": {
             "fill": {
              "color": "#C8D4E3"
             },
             "line": {
              "color": "white"
             }
            },
            "type": "table"
           }
          ]
         },
         "layout": {
          "annotationdefaults": {
           "arrowcolor": "#2a3f5f",
           "arrowhead": 0,
           "arrowwidth": 1
          },
          "autotypenumbers": "strict",
          "coloraxis": {
           "colorbar": {
            "outlinewidth": 0,
            "ticks": ""
           }
          },
          "colorscale": {
           "diverging": [
            [
             0,
             "#8e0152"
            ],
            [
             0.1,
             "#c51b7d"
            ],
            [
             0.2,
             "#de77ae"
            ],
            [
             0.3,
             "#f1b6da"
            ],
            [
             0.4,
             "#fde0ef"
            ],
            [
             0.5,
             "#f7f7f7"
            ],
            [
             0.6,
             "#e6f5d0"
            ],
            [
             0.7,
             "#b8e186"
            ],
            [
             0.8,
             "#7fbc41"
            ],
            [
             0.9,
             "#4d9221"
            ],
            [
             1,
             "#276419"
            ]
           ],
           "sequential": [
            [
             0,
             "#0d0887"
            ],
            [
             0.1111111111111111,
             "#46039f"
            ],
            [
             0.2222222222222222,
             "#7201a8"
            ],
            [
             0.3333333333333333,
             "#9c179e"
            ],
            [
             0.4444444444444444,
             "#bd3786"
            ],
            [
             0.5555555555555556,
             "#d8576b"
            ],
            [
             0.6666666666666666,
             "#ed7953"
            ],
            [
             0.7777777777777778,
             "#fb9f3a"
            ],
            [
             0.8888888888888888,
             "#fdca26"
            ],
            [
             1,
             "#f0f921"
            ]
           ],
           "sequentialminus": [
            [
             0,
             "#0d0887"
            ],
            [
             0.1111111111111111,
             "#46039f"
            ],
            [
             0.2222222222222222,
             "#7201a8"
            ],
            [
             0.3333333333333333,
             "#9c179e"
            ],
            [
             0.4444444444444444,
             "#bd3786"
            ],
            [
             0.5555555555555556,
             "#d8576b"
            ],
            [
             0.6666666666666666,
             "#ed7953"
            ],
            [
             0.7777777777777778,
             "#fb9f3a"
            ],
            [
             0.8888888888888888,
             "#fdca26"
            ],
            [
             1,
             "#f0f921"
            ]
           ]
          },
          "colorway": [
           "#636efa",
           "#EF553B",
           "#00cc96",
           "#ab63fa",
           "#FFA15A",
           "#19d3f3",
           "#FF6692",
           "#B6E880",
           "#FF97FF",
           "#FECB52"
          ],
          "font": {
           "color": "#2a3f5f"
          },
          "geo": {
           "bgcolor": "white",
           "lakecolor": "white",
           "landcolor": "#E5ECF6",
           "showlakes": true,
           "showland": true,
           "subunitcolor": "white"
          },
          "hoverlabel": {
           "align": "left"
          },
          "hovermode": "closest",
          "mapbox": {
           "style": "light"
          },
          "paper_bgcolor": "white",
          "plot_bgcolor": "#E5ECF6",
          "polar": {
           "angularaxis": {
            "gridcolor": "white",
            "linecolor": "white",
            "ticks": ""
           },
           "bgcolor": "#E5ECF6",
           "radialaxis": {
            "gridcolor": "white",
            "linecolor": "white",
            "ticks": ""
           }
          },
          "scene": {
           "xaxis": {
            "backgroundcolor": "#E5ECF6",
            "gridcolor": "white",
            "gridwidth": 2,
            "linecolor": "white",
            "showbackground": true,
            "ticks": "",
            "zerolinecolor": "white"
           },
           "yaxis": {
            "backgroundcolor": "#E5ECF6",
            "gridcolor": "white",
            "gridwidth": 2,
            "linecolor": "white",
            "showbackground": true,
            "ticks": "",
            "zerolinecolor": "white"
           },
           "zaxis": {
            "backgroundcolor": "#E5ECF6",
            "gridcolor": "white",
            "gridwidth": 2,
            "linecolor": "white",
            "showbackground": true,
            "ticks": "",
            "zerolinecolor": "white"
           }
          },
          "shapedefaults": {
           "line": {
            "color": "#2a3f5f"
           }
          },
          "ternary": {
           "aaxis": {
            "gridcolor": "white",
            "linecolor": "white",
            "ticks": ""
           },
           "baxis": {
            "gridcolor": "white",
            "linecolor": "white",
            "ticks": ""
           },
           "bgcolor": "#E5ECF6",
           "caxis": {
            "gridcolor": "white",
            "linecolor": "white",
            "ticks": ""
           }
          },
          "title": {
           "x": 0.05
          },
          "xaxis": {
           "automargin": true,
           "gridcolor": "white",
           "linecolor": "white",
           "ticks": "",
           "title": {
            "standoff": 15
           },
           "zerolinecolor": "white",
           "zerolinewidth": 2
          },
          "yaxis": {
           "automargin": true,
           "gridcolor": "white",
           "linecolor": "white",
           "ticks": "",
           "title": {
            "standoff": 15
           },
           "zerolinecolor": "white",
           "zerolinewidth": 2
          }
         }
        },
        "xaxis": {
         "anchor": "y",
         "domain": [
          0,
          1
         ],
         "title": {
          "text": "Servico_Internet"
         }
        },
        "yaxis": {
         "anchor": "x",
         "domain": [
          0,
          1
         ],
         "title": {
          "text": "count"
         }
        }
       }
      }
     },
     "metadata": {},
     "output_type": "display_data"
    }
   ],
   "source": [
    "px.box(\n",
    "    df,\n",
    "    y='Tempo_como_Cliente',  # Nome correto da coluna no seu CSV\n",
    "    color_discrete_sequence=[\"#3C6EDB\"],  # Cor personalizada (opcional)\n",
    "    title='Boxplot do Tempo como Cliente',\n",
    "    points='all'\n",
    ")\n",
    "\n",
    "df[df['Tempo_como_Cliente'] == 0]\n",
    "\n",
    "# Após a análise do grafico presume-se que o min, 0, não é um problema já que ela pode ter contrado o serviço e não ter completado o primeiro mês ainda. \n",
    "\n",
    "px.box(\n",
    "    df,\n",
    "    y='Total_Pago',\n",
    "    color_discrete_sequence=['skyblue'],\n",
    "    title='Boxplot do valor total pago',\n",
    "    points='all'\n",
    ")\n",
    "\n",
    "df[df['Total_Pago'] >= 8496]\n",
    "\n",
    "# Inicialmente é fácil pensar que existem muitos outliers, ainda mais que a média de pagamento mensal é 65 e o máximo pago mensalmente é 118, no gráfico de tempo como cliente vimos que o máximo que alguém foi cliente é 72 meses logo, se multiplicarmos, utilizando as condições mais caras possíveis, 118 x 72 o valor seria, 8496, qualquer valor acima realmente poderia ser considerado um outlier (Porém o cliente poderia ter pago o valor do serviço mas não ter terminado o mês ainda, mesmo caso do Tempo como cliente),  mas de acordo com o gráfico fica vísivel que muito dos valores altos são possíveis, Ainda mais que pela quantidade de linhas e ausência de valores nulos, logo, 25% de linhas de uma coluna, representa a mesma quantidade de linhas de outra, fazendo com que os dispariedade de valores, fosse extremamente possível nas condições corretas(Usar uma quantidade maior de serviços por exemplo.)\n",
    "\n",
    "px.box(\n",
    "    df,\n",
    "    y='Pagamento_Mensal',\n",
    "    color_discrete_sequence=['Violet'],\n",
    "    title='Boxplot do pagamento mensal',\n",
    "    points='all'\n",
    ")\n",
    "\n",
    "# Esse gráfico de pagamento mensal não indica a presença de outliers, mas é importante pois pode indicar quais serviços as pessoas utilizam, por causa do pulo entre o mínimo e o 25%, ou seja, nessa aréa devem estar as pessoas que utilizam somente o serviço de internet ou de telefone.\n",
    "\n",
    "px.bar(\n",
    "    df,\n",
    "    'Servico_Internet'\n",
    ")\n",
    "# Esse gráfico mostra principalmente a distribuição utilizada pelos clientes entre os serviços de internet, e pode ser muito útil telo como base para quando for feita uma análise bivariada utilizando churn e serviço de internet visando descobrir se algum grupo específico tem uma tendência maior a dar churn."
   ]
  },
  {
   "cell_type": "markdown",
   "metadata": {},
   "source": [
    "D) Resposta:"
   ]
  },
  {
   "cell_type": "code",
   "execution_count": null,
   "metadata": {},
   "outputs": [
    {
     "data": {
      "application/vnd.plotly.v1+json": {
       "config": {
        "plotlyServerURL": "https://plot.ly"
       },
       "data": [
        {
         "alignmentgroup": "True",
         "hovertemplate": "Idoso=%{x}<br>Contagem=%{text}<extra></extra>",
         "legendgroup": "False",
         "marker": {
          "color": "red",
          "pattern": {
           "shape": ""
          }
         },
         "name": "False",
         "offsetgroup": "False",
         "orientation": "v",
         "showlegend": true,
         "text": [
          2086
         ],
         "textposition": "auto",
         "type": "bar",
         "x": [
          false
         ],
         "xaxis": "x",
         "y": [
          2086
         ],
         "yaxis": "y"
        },
        {
         "alignmentgroup": "True",
         "hovertemplate": "Idoso=%{x}<br>Contagem=%{text}<extra></extra>",
         "legendgroup": "True",
         "marker": {
          "color": "blue",
          "pattern": {
           "shape": ""
          }
         },
         "name": "True",
         "offsetgroup": "True",
         "orientation": "v",
         "showlegend": true,
         "text": [
          402
         ],
         "textposition": "auto",
         "type": "bar",
         "x": [
          true
         ],
         "xaxis": "x",
         "y": [
          402
         ],
         "yaxis": "y"
        }
       ],
       "layout": {
        "barmode": "relative",
        "legend": {
         "title": {
          "text": "Idoso"
         },
         "tracegroupgap": 0
        },
        "margin": {
         "t": 60
        },
        "template": {
         "data": {
          "bar": [
           {
            "error_x": {
             "color": "#2a3f5f"
            },
            "error_y": {
             "color": "#2a3f5f"
            },
            "marker": {
             "line": {
              "color": "#E5ECF6",
              "width": 0.5
             },
             "pattern": {
              "fillmode": "overlay",
              "size": 10,
              "solidity": 0.2
             }
            },
            "type": "bar"
           }
          ],
          "barpolar": [
           {
            "marker": {
             "line": {
              "color": "#E5ECF6",
              "width": 0.5
             },
             "pattern": {
              "fillmode": "overlay",
              "size": 10,
              "solidity": 0.2
             }
            },
            "type": "barpolar"
           }
          ],
          "carpet": [
           {
            "aaxis": {
             "endlinecolor": "#2a3f5f",
             "gridcolor": "white",
             "linecolor": "white",
             "minorgridcolor": "white",
             "startlinecolor": "#2a3f5f"
            },
            "baxis": {
             "endlinecolor": "#2a3f5f",
             "gridcolor": "white",
             "linecolor": "white",
             "minorgridcolor": "white",
             "startlinecolor": "#2a3f5f"
            },
            "type": "carpet"
           }
          ],
          "choropleth": [
           {
            "colorbar": {
             "outlinewidth": 0,
             "ticks": ""
            },
            "type": "choropleth"
           }
          ],
          "contour": [
           {
            "colorbar": {
             "outlinewidth": 0,
             "ticks": ""
            },
            "colorscale": [
             [
              0,
              "#0d0887"
             ],
             [
              0.1111111111111111,
              "#46039f"
             ],
             [
              0.2222222222222222,
              "#7201a8"
             ],
             [
              0.3333333333333333,
              "#9c179e"
             ],
             [
              0.4444444444444444,
              "#bd3786"
             ],
             [
              0.5555555555555556,
              "#d8576b"
             ],
             [
              0.6666666666666666,
              "#ed7953"
             ],
             [
              0.7777777777777778,
              "#fb9f3a"
             ],
             [
              0.8888888888888888,
              "#fdca26"
             ],
             [
              1,
              "#f0f921"
             ]
            ],
            "type": "contour"
           }
          ],
          "contourcarpet": [
           {
            "colorbar": {
             "outlinewidth": 0,
             "ticks": ""
            },
            "type": "contourcarpet"
           }
          ],
          "heatmap": [
           {
            "colorbar": {
             "outlinewidth": 0,
             "ticks": ""
            },
            "colorscale": [
             [
              0,
              "#0d0887"
             ],
             [
              0.1111111111111111,
              "#46039f"
             ],
             [
              0.2222222222222222,
              "#7201a8"
             ],
             [
              0.3333333333333333,
              "#9c179e"
             ],
             [
              0.4444444444444444,
              "#bd3786"
             ],
             [
              0.5555555555555556,
              "#d8576b"
             ],
             [
              0.6666666666666666,
              "#ed7953"
             ],
             [
              0.7777777777777778,
              "#fb9f3a"
             ],
             [
              0.8888888888888888,
              "#fdca26"
             ],
             [
              1,
              "#f0f921"
             ]
            ],
            "type": "heatmap"
           }
          ],
          "heatmapgl": [
           {
            "colorbar": {
             "outlinewidth": 0,
             "ticks": ""
            },
            "colorscale": [
             [
              0,
              "#0d0887"
             ],
             [
              0.1111111111111111,
              "#46039f"
             ],
             [
              0.2222222222222222,
              "#7201a8"
             ],
             [
              0.3333333333333333,
              "#9c179e"
             ],
             [
              0.4444444444444444,
              "#bd3786"
             ],
             [
              0.5555555555555556,
              "#d8576b"
             ],
             [
              0.6666666666666666,
              "#ed7953"
             ],
             [
              0.7777777777777778,
              "#fb9f3a"
             ],
             [
              0.8888888888888888,
              "#fdca26"
             ],
             [
              1,
              "#f0f921"
             ]
            ],
            "type": "heatmapgl"
           }
          ],
          "histogram": [
           {
            "marker": {
             "pattern": {
              "fillmode": "overlay",
              "size": 10,
              "solidity": 0.2
             }
            },
            "type": "histogram"
           }
          ],
          "histogram2d": [
           {
            "colorbar": {
             "outlinewidth": 0,
             "ticks": ""
            },
            "colorscale": [
             [
              0,
              "#0d0887"
             ],
             [
              0.1111111111111111,
              "#46039f"
             ],
             [
              0.2222222222222222,
              "#7201a8"
             ],
             [
              0.3333333333333333,
              "#9c179e"
             ],
             [
              0.4444444444444444,
              "#bd3786"
             ],
             [
              0.5555555555555556,
              "#d8576b"
             ],
             [
              0.6666666666666666,
              "#ed7953"
             ],
             [
              0.7777777777777778,
              "#fb9f3a"
             ],
             [
              0.8888888888888888,
              "#fdca26"
             ],
             [
              1,
              "#f0f921"
             ]
            ],
            "type": "histogram2d"
           }
          ],
          "histogram2dcontour": [
           {
            "colorbar": {
             "outlinewidth": 0,
             "ticks": ""
            },
            "colorscale": [
             [
              0,
              "#0d0887"
             ],
             [
              0.1111111111111111,
              "#46039f"
             ],
             [
              0.2222222222222222,
              "#7201a8"
             ],
             [
              0.3333333333333333,
              "#9c179e"
             ],
             [
              0.4444444444444444,
              "#bd3786"
             ],
             [
              0.5555555555555556,
              "#d8576b"
             ],
             [
              0.6666666666666666,
              "#ed7953"
             ],
             [
              0.7777777777777778,
              "#fb9f3a"
             ],
             [
              0.8888888888888888,
              "#fdca26"
             ],
             [
              1,
              "#f0f921"
             ]
            ],
            "type": "histogram2dcontour"
           }
          ],
          "mesh3d": [
           {
            "colorbar": {
             "outlinewidth": 0,
             "ticks": ""
            },
            "type": "mesh3d"
           }
          ],
          "parcoords": [
           {
            "line": {
             "colorbar": {
              "outlinewidth": 0,
              "ticks": ""
             }
            },
            "type": "parcoords"
           }
          ],
          "pie": [
           {
            "automargin": true,
            "type": "pie"
           }
          ],
          "scatter": [
           {
            "fillpattern": {
             "fillmode": "overlay",
             "size": 10,
             "solidity": 0.2
            },
            "type": "scatter"
           }
          ],
          "scatter3d": [
           {
            "line": {
             "colorbar": {
              "outlinewidth": 0,
              "ticks": ""
             }
            },
            "marker": {
             "colorbar": {
              "outlinewidth": 0,
              "ticks": ""
             }
            },
            "type": "scatter3d"
           }
          ],
          "scattercarpet": [
           {
            "marker": {
             "colorbar": {
              "outlinewidth": 0,
              "ticks": ""
             }
            },
            "type": "scattercarpet"
           }
          ],
          "scattergeo": [
           {
            "marker": {
             "colorbar": {
              "outlinewidth": 0,
              "ticks": ""
             }
            },
            "type": "scattergeo"
           }
          ],
          "scattergl": [
           {
            "marker": {
             "colorbar": {
              "outlinewidth": 0,
              "ticks": ""
             }
            },
            "type": "scattergl"
           }
          ],
          "scattermapbox": [
           {
            "marker": {
             "colorbar": {
              "outlinewidth": 0,
              "ticks": ""
             }
            },
            "type": "scattermapbox"
           }
          ],
          "scatterpolar": [
           {
            "marker": {
             "colorbar": {
              "outlinewidth": 0,
              "ticks": ""
             }
            },
            "type": "scatterpolar"
           }
          ],
          "scatterpolargl": [
           {
            "marker": {
             "colorbar": {
              "outlinewidth": 0,
              "ticks": ""
             }
            },
            "type": "scatterpolargl"
           }
          ],
          "scatterternary": [
           {
            "marker": {
             "colorbar": {
              "outlinewidth": 0,
              "ticks": ""
             }
            },
            "type": "scatterternary"
           }
          ],
          "surface": [
           {
            "colorbar": {
             "outlinewidth": 0,
             "ticks": ""
            },
            "colorscale": [
             [
              0,
              "#0d0887"
             ],
             [
              0.1111111111111111,
              "#46039f"
             ],
             [
              0.2222222222222222,
              "#7201a8"
             ],
             [
              0.3333333333333333,
              "#9c179e"
             ],
             [
              0.4444444444444444,
              "#bd3786"
             ],
             [
              0.5555555555555556,
              "#d8576b"
             ],
             [
              0.6666666666666666,
              "#ed7953"
             ],
             [
              0.7777777777777778,
              "#fb9f3a"
             ],
             [
              0.8888888888888888,
              "#fdca26"
             ],
             [
              1,
              "#f0f921"
             ]
            ],
            "type": "surface"
           }
          ],
          "table": [
           {
            "cells": {
             "fill": {
              "color": "#EBF0F8"
             },
             "line": {
              "color": "white"
             }
            },
            "header": {
             "fill": {
              "color": "#C8D4E3"
             },
             "line": {
              "color": "white"
             }
            },
            "type": "table"
           }
          ]
         },
         "layout": {
          "annotationdefaults": {
           "arrowcolor": "#2a3f5f",
           "arrowhead": 0,
           "arrowwidth": 1
          },
          "autotypenumbers": "strict",
          "coloraxis": {
           "colorbar": {
            "outlinewidth": 0,
            "ticks": ""
           }
          },
          "colorscale": {
           "diverging": [
            [
             0,
             "#8e0152"
            ],
            [
             0.1,
             "#c51b7d"
            ],
            [
             0.2,
             "#de77ae"
            ],
            [
             0.3,
             "#f1b6da"
            ],
            [
             0.4,
             "#fde0ef"
            ],
            [
             0.5,
             "#f7f7f7"
            ],
            [
             0.6,
             "#e6f5d0"
            ],
            [
             0.7,
             "#b8e186"
            ],
            [
             0.8,
             "#7fbc41"
            ],
            [
             0.9,
             "#4d9221"
            ],
            [
             1,
             "#276419"
            ]
           ],
           "sequential": [
            [
             0,
             "#0d0887"
            ],
            [
             0.1111111111111111,
             "#46039f"
            ],
            [
             0.2222222222222222,
             "#7201a8"
            ],
            [
             0.3333333333333333,
             "#9c179e"
            ],
            [
             0.4444444444444444,
             "#bd3786"
            ],
            [
             0.5555555555555556,
             "#d8576b"
            ],
            [
             0.6666666666666666,
             "#ed7953"
            ],
            [
             0.7777777777777778,
             "#fb9f3a"
            ],
            [
             0.8888888888888888,
             "#fdca26"
            ],
            [
             1,
             "#f0f921"
            ]
           ],
           "sequentialminus": [
            [
             0,
             "#0d0887"
            ],
            [
             0.1111111111111111,
             "#46039f"
            ],
            [
             0.2222222222222222,
             "#7201a8"
            ],
            [
             0.3333333333333333,
             "#9c179e"
            ],
            [
             0.4444444444444444,
             "#bd3786"
            ],
            [
             0.5555555555555556,
             "#d8576b"
            ],
            [
             0.6666666666666666,
             "#ed7953"
            ],
            [
             0.7777777777777778,
             "#fb9f3a"
            ],
            [
             0.8888888888888888,
             "#fdca26"
            ],
            [
             1,
             "#f0f921"
            ]
           ]
          },
          "colorway": [
           "#636efa",
           "#EF553B",
           "#00cc96",
           "#ab63fa",
           "#FFA15A",
           "#19d3f3",
           "#FF6692",
           "#B6E880",
           "#FF97FF",
           "#FECB52"
          ],
          "font": {
           "color": "#2a3f5f"
          },
          "geo": {
           "bgcolor": "white",
           "lakecolor": "white",
           "landcolor": "#E5ECF6",
           "showlakes": true,
           "showland": true,
           "subunitcolor": "white"
          },
          "hoverlabel": {
           "align": "left"
          },
          "hovermode": "closest",
          "mapbox": {
           "style": "light"
          },
          "paper_bgcolor": "white",
          "plot_bgcolor": "#E5ECF6",
          "polar": {
           "angularaxis": {
            "gridcolor": "white",
            "linecolor": "white",
            "ticks": ""
           },
           "bgcolor": "#E5ECF6",
           "radialaxis": {
            "gridcolor": "white",
            "linecolor": "white",
            "ticks": ""
           }
          },
          "scene": {
           "xaxis": {
            "backgroundcolor": "#E5ECF6",
            "gridcolor": "white",
            "gridwidth": 2,
            "linecolor": "white",
            "showbackground": true,
            "ticks": "",
            "zerolinecolor": "white"
           },
           "yaxis": {
            "backgroundcolor": "#E5ECF6",
            "gridcolor": "white",
            "gridwidth": 2,
            "linecolor": "white",
            "showbackground": true,
            "ticks": "",
            "zerolinecolor": "white"
           },
           "zaxis": {
            "backgroundcolor": "#E5ECF6",
            "gridcolor": "white",
            "gridwidth": 2,
            "linecolor": "white",
            "showbackground": true,
            "ticks": "",
            "zerolinecolor": "white"
           }
          },
          "shapedefaults": {
           "line": {
            "color": "#2a3f5f"
           }
          },
          "ternary": {
           "aaxis": {
            "gridcolor": "white",
            "linecolor": "white",
            "ticks": ""
           },
           "baxis": {
            "gridcolor": "white",
            "linecolor": "white",
            "ticks": ""
           },
           "bgcolor": "#E5ECF6",
           "caxis": {
            "gridcolor": "white",
            "linecolor": "white",
            "ticks": ""
           }
          },
          "title": {
           "x": 0.05
          },
          "xaxis": {
           "automargin": true,
           "gridcolor": "white",
           "linecolor": "white",
           "ticks": "",
           "title": {
            "standoff": 15
           },
           "zerolinecolor": "white",
           "zerolinewidth": 2
          },
          "yaxis": {
           "automargin": true,
           "gridcolor": "white",
           "linecolor": "white",
           "ticks": "",
           "title": {
            "standoff": 15
           },
           "zerolinecolor": "white",
           "zerolinewidth": 2
          }
         }
        },
        "xaxis": {
         "anchor": "y",
         "categoryarray": [
          false,
          true
         ],
         "categoryorder": "array",
         "domain": [
          0,
          1
         ],
         "title": {
          "text": "Idoso"
         }
        },
        "yaxis": {
         "anchor": "x",
         "domain": [
          0,
          1
         ],
         "title": {
          "text": "Contagem"
         }
        }
       }
      }
     },
     "metadata": {},
     "output_type": "display_data"
    },
    {
     "data": {
      "application/vnd.plotly.v1+json": {
       "config": {
        "plotlyServerURL": "https://plot.ly"
       },
       "data": [
        {
         "alignmentgroup": "True",
         "hovertemplate": "Servico_Telefone=%{x}<br>Contagem=%{text}<extra></extra>",
         "legendgroup": "Yes",
         "marker": {
          "color": "#00cc96",
          "pattern": {
           "shape": ""
          }
         },
         "name": "Yes",
         "offsetgroup": "Yes",
         "orientation": "v",
         "showlegend": true,
         "text": [
          2180
         ],
         "textposition": "auto",
         "type": "bar",
         "x": [
          "Yes"
         ],
         "xaxis": "x",
         "y": [
          2180
         ],
         "yaxis": "y"
        },
        {
         "alignmentgroup": "True",
         "hovertemplate": "Servico_Telefone=%{x}<br>Contagem=%{text}<extra></extra>",
         "legendgroup": "No",
         "marker": {
          "color": "#ab63fa",
          "pattern": {
           "shape": ""
          }
         },
         "name": "No",
         "offsetgroup": "No",
         "orientation": "v",
         "showlegend": true,
         "text": [
          308
         ],
         "textposition": "auto",
         "type": "bar",
         "x": [
          "No"
         ],
         "xaxis": "x",
         "y": [
          308
         ],
         "yaxis": "y"
        }
       ],
       "layout": {
        "barmode": "relative",
        "legend": {
         "title": {
          "text": "Servico_Telefone"
         },
         "tracegroupgap": 0
        },
        "margin": {
         "t": 60
        },
        "template": {
         "data": {
          "bar": [
           {
            "error_x": {
             "color": "#2a3f5f"
            },
            "error_y": {
             "color": "#2a3f5f"
            },
            "marker": {
             "line": {
              "color": "#E5ECF6",
              "width": 0.5
             },
             "pattern": {
              "fillmode": "overlay",
              "size": 10,
              "solidity": 0.2
             }
            },
            "type": "bar"
           }
          ],
          "barpolar": [
           {
            "marker": {
             "line": {
              "color": "#E5ECF6",
              "width": 0.5
             },
             "pattern": {
              "fillmode": "overlay",
              "size": 10,
              "solidity": 0.2
             }
            },
            "type": "barpolar"
           }
          ],
          "carpet": [
           {
            "aaxis": {
             "endlinecolor": "#2a3f5f",
             "gridcolor": "white",
             "linecolor": "white",
             "minorgridcolor": "white",
             "startlinecolor": "#2a3f5f"
            },
            "baxis": {
             "endlinecolor": "#2a3f5f",
             "gridcolor": "white",
             "linecolor": "white",
             "minorgridcolor": "white",
             "startlinecolor": "#2a3f5f"
            },
            "type": "carpet"
           }
          ],
          "choropleth": [
           {
            "colorbar": {
             "outlinewidth": 0,
             "ticks": ""
            },
            "type": "choropleth"
           }
          ],
          "contour": [
           {
            "colorbar": {
             "outlinewidth": 0,
             "ticks": ""
            },
            "colorscale": [
             [
              0,
              "#0d0887"
             ],
             [
              0.1111111111111111,
              "#46039f"
             ],
             [
              0.2222222222222222,
              "#7201a8"
             ],
             [
              0.3333333333333333,
              "#9c179e"
             ],
             [
              0.4444444444444444,
              "#bd3786"
             ],
             [
              0.5555555555555556,
              "#d8576b"
             ],
             [
              0.6666666666666666,
              "#ed7953"
             ],
             [
              0.7777777777777778,
              "#fb9f3a"
             ],
             [
              0.8888888888888888,
              "#fdca26"
             ],
             [
              1,
              "#f0f921"
             ]
            ],
            "type": "contour"
           }
          ],
          "contourcarpet": [
           {
            "colorbar": {
             "outlinewidth": 0,
             "ticks": ""
            },
            "type": "contourcarpet"
           }
          ],
          "heatmap": [
           {
            "colorbar": {
             "outlinewidth": 0,
             "ticks": ""
            },
            "colorscale": [
             [
              0,
              "#0d0887"
             ],
             [
              0.1111111111111111,
              "#46039f"
             ],
             [
              0.2222222222222222,
              "#7201a8"
             ],
             [
              0.3333333333333333,
              "#9c179e"
             ],
             [
              0.4444444444444444,
              "#bd3786"
             ],
             [
              0.5555555555555556,
              "#d8576b"
             ],
             [
              0.6666666666666666,
              "#ed7953"
             ],
             [
              0.7777777777777778,
              "#fb9f3a"
             ],
             [
              0.8888888888888888,
              "#fdca26"
             ],
             [
              1,
              "#f0f921"
             ]
            ],
            "type": "heatmap"
           }
          ],
          "heatmapgl": [
           {
            "colorbar": {
             "outlinewidth": 0,
             "ticks": ""
            },
            "colorscale": [
             [
              0,
              "#0d0887"
             ],
             [
              0.1111111111111111,
              "#46039f"
             ],
             [
              0.2222222222222222,
              "#7201a8"
             ],
             [
              0.3333333333333333,
              "#9c179e"
             ],
             [
              0.4444444444444444,
              "#bd3786"
             ],
             [
              0.5555555555555556,
              "#d8576b"
             ],
             [
              0.6666666666666666,
              "#ed7953"
             ],
             [
              0.7777777777777778,
              "#fb9f3a"
             ],
             [
              0.8888888888888888,
              "#fdca26"
             ],
             [
              1,
              "#f0f921"
             ]
            ],
            "type": "heatmapgl"
           }
          ],
          "histogram": [
           {
            "marker": {
             "pattern": {
              "fillmode": "overlay",
              "size": 10,
              "solidity": 0.2
             }
            },
            "type": "histogram"
           }
          ],
          "histogram2d": [
           {
            "colorbar": {
             "outlinewidth": 0,
             "ticks": ""
            },
            "colorscale": [
             [
              0,
              "#0d0887"
             ],
             [
              0.1111111111111111,
              "#46039f"
             ],
             [
              0.2222222222222222,
              "#7201a8"
             ],
             [
              0.3333333333333333,
              "#9c179e"
             ],
             [
              0.4444444444444444,
              "#bd3786"
             ],
             [
              0.5555555555555556,
              "#d8576b"
             ],
             [
              0.6666666666666666,
              "#ed7953"
             ],
             [
              0.7777777777777778,
              "#fb9f3a"
             ],
             [
              0.8888888888888888,
              "#fdca26"
             ],
             [
              1,
              "#f0f921"
             ]
            ],
            "type": "histogram2d"
           }
          ],
          "histogram2dcontour": [
           {
            "colorbar": {
             "outlinewidth": 0,
             "ticks": ""
            },
            "colorscale": [
             [
              0,
              "#0d0887"
             ],
             [
              0.1111111111111111,
              "#46039f"
             ],
             [
              0.2222222222222222,
              "#7201a8"
             ],
             [
              0.3333333333333333,
              "#9c179e"
             ],
             [
              0.4444444444444444,
              "#bd3786"
             ],
             [
              0.5555555555555556,
              "#d8576b"
             ],
             [
              0.6666666666666666,
              "#ed7953"
             ],
             [
              0.7777777777777778,
              "#fb9f3a"
             ],
             [
              0.8888888888888888,
              "#fdca26"
             ],
             [
              1,
              "#f0f921"
             ]
            ],
            "type": "histogram2dcontour"
           }
          ],
          "mesh3d": [
           {
            "colorbar": {
             "outlinewidth": 0,
             "ticks": ""
            },
            "type": "mesh3d"
           }
          ],
          "parcoords": [
           {
            "line": {
             "colorbar": {
              "outlinewidth": 0,
              "ticks": ""
             }
            },
            "type": "parcoords"
           }
          ],
          "pie": [
           {
            "automargin": true,
            "type": "pie"
           }
          ],
          "scatter": [
           {
            "fillpattern": {
             "fillmode": "overlay",
             "size": 10,
             "solidity": 0.2
            },
            "type": "scatter"
           }
          ],
          "scatter3d": [
           {
            "line": {
             "colorbar": {
              "outlinewidth": 0,
              "ticks": ""
             }
            },
            "marker": {
             "colorbar": {
              "outlinewidth": 0,
              "ticks": ""
             }
            },
            "type": "scatter3d"
           }
          ],
          "scattercarpet": [
           {
            "marker": {
             "colorbar": {
              "outlinewidth": 0,
              "ticks": ""
             }
            },
            "type": "scattercarpet"
           }
          ],
          "scattergeo": [
           {
            "marker": {
             "colorbar": {
              "outlinewidth": 0,
              "ticks": ""
             }
            },
            "type": "scattergeo"
           }
          ],
          "scattergl": [
           {
            "marker": {
             "colorbar": {
              "outlinewidth": 0,
              "ticks": ""
             }
            },
            "type": "scattergl"
           }
          ],
          "scattermapbox": [
           {
            "marker": {
             "colorbar": {
              "outlinewidth": 0,
              "ticks": ""
             }
            },
            "type": "scattermapbox"
           }
          ],
          "scatterpolar": [
           {
            "marker": {
             "colorbar": {
              "outlinewidth": 0,
              "ticks": ""
             }
            },
            "type": "scatterpolar"
           }
          ],
          "scatterpolargl": [
           {
            "marker": {
             "colorbar": {
              "outlinewidth": 0,
              "ticks": ""
             }
            },
            "type": "scatterpolargl"
           }
          ],
          "scatterternary": [
           {
            "marker": {
             "colorbar": {
              "outlinewidth": 0,
              "ticks": ""
             }
            },
            "type": "scatterternary"
           }
          ],
          "surface": [
           {
            "colorbar": {
             "outlinewidth": 0,
             "ticks": ""
            },
            "colorscale": [
             [
              0,
              "#0d0887"
             ],
             [
              0.1111111111111111,
              "#46039f"
             ],
             [
              0.2222222222222222,
              "#7201a8"
             ],
             [
              0.3333333333333333,
              "#9c179e"
             ],
             [
              0.4444444444444444,
              "#bd3786"
             ],
             [
              0.5555555555555556,
              "#d8576b"
             ],
             [
              0.6666666666666666,
              "#ed7953"
             ],
             [
              0.7777777777777778,
              "#fb9f3a"
             ],
             [
              0.8888888888888888,
              "#fdca26"
             ],
             [
              1,
              "#f0f921"
             ]
            ],
            "type": "surface"
           }
          ],
          "table": [
           {
            "cells": {
             "fill": {
              "color": "#EBF0F8"
             },
             "line": {
              "color": "white"
             }
            },
            "header": {
             "fill": {
              "color": "#C8D4E3"
             },
             "line": {
              "color": "white"
             }
            },
            "type": "table"
           }
          ]
         },
         "layout": {
          "annotationdefaults": {
           "arrowcolor": "#2a3f5f",
           "arrowhead": 0,
           "arrowwidth": 1
          },
          "autotypenumbers": "strict",
          "coloraxis": {
           "colorbar": {
            "outlinewidth": 0,
            "ticks": ""
           }
          },
          "colorscale": {
           "diverging": [
            [
             0,
             "#8e0152"
            ],
            [
             0.1,
             "#c51b7d"
            ],
            [
             0.2,
             "#de77ae"
            ],
            [
             0.3,
             "#f1b6da"
            ],
            [
             0.4,
             "#fde0ef"
            ],
            [
             0.5,
             "#f7f7f7"
            ],
            [
             0.6,
             "#e6f5d0"
            ],
            [
             0.7,
             "#b8e186"
            ],
            [
             0.8,
             "#7fbc41"
            ],
            [
             0.9,
             "#4d9221"
            ],
            [
             1,
             "#276419"
            ]
           ],
           "sequential": [
            [
             0,
             "#0d0887"
            ],
            [
             0.1111111111111111,
             "#46039f"
            ],
            [
             0.2222222222222222,
             "#7201a8"
            ],
            [
             0.3333333333333333,
             "#9c179e"
            ],
            [
             0.4444444444444444,
             "#bd3786"
            ],
            [
             0.5555555555555556,
             "#d8576b"
            ],
            [
             0.6666666666666666,
             "#ed7953"
            ],
            [
             0.7777777777777778,
             "#fb9f3a"
            ],
            [
             0.8888888888888888,
             "#fdca26"
            ],
            [
             1,
             "#f0f921"
            ]
           ],
           "sequentialminus": [
            [
             0,
             "#0d0887"
            ],
            [
             0.1111111111111111,
             "#46039f"
            ],
            [
             0.2222222222222222,
             "#7201a8"
            ],
            [
             0.3333333333333333,
             "#9c179e"
            ],
            [
             0.4444444444444444,
             "#bd3786"
            ],
            [
             0.5555555555555556,
             "#d8576b"
            ],
            [
             0.6666666666666666,
             "#ed7953"
            ],
            [
             0.7777777777777778,
             "#fb9f3a"
            ],
            [
             0.8888888888888888,
             "#fdca26"
            ],
            [
             1,
             "#f0f921"
            ]
           ]
          },
          "colorway": [
           "#636efa",
           "#EF553B",
           "#00cc96",
           "#ab63fa",
           "#FFA15A",
           "#19d3f3",
           "#FF6692",
           "#B6E880",
           "#FF97FF",
           "#FECB52"
          ],
          "font": {
           "color": "#2a3f5f"
          },
          "geo": {
           "bgcolor": "white",
           "lakecolor": "white",
           "landcolor": "#E5ECF6",
           "showlakes": true,
           "showland": true,
           "subunitcolor": "white"
          },
          "hoverlabel": {
           "align": "left"
          },
          "hovermode": "closest",
          "mapbox": {
           "style": "light"
          },
          "paper_bgcolor": "white",
          "plot_bgcolor": "#E5ECF6",
          "polar": {
           "angularaxis": {
            "gridcolor": "white",
            "linecolor": "white",
            "ticks": ""
           },
           "bgcolor": "#E5ECF6",
           "radialaxis": {
            "gridcolor": "white",
            "linecolor": "white",
            "ticks": ""
           }
          },
          "scene": {
           "xaxis": {
            "backgroundcolor": "#E5ECF6",
            "gridcolor": "white",
            "gridwidth": 2,
            "linecolor": "white",
            "showbackground": true,
            "ticks": "",
            "zerolinecolor": "white"
           },
           "yaxis": {
            "backgroundcolor": "#E5ECF6",
            "gridcolor": "white",
            "gridwidth": 2,
            "linecolor": "white",
            "showbackground": true,
            "ticks": "",
            "zerolinecolor": "white"
           },
           "zaxis": {
            "backgroundcolor": "#E5ECF6",
            "gridcolor": "white",
            "gridwidth": 2,
            "linecolor": "white",
            "showbackground": true,
            "ticks": "",
            "zerolinecolor": "white"
           }
          },
          "shapedefaults": {
           "line": {
            "color": "#2a3f5f"
           }
          },
          "ternary": {
           "aaxis": {
            "gridcolor": "white",
            "linecolor": "white",
            "ticks": ""
           },
           "baxis": {
            "gridcolor": "white",
            "linecolor": "white",
            "ticks": ""
           },
           "bgcolor": "#E5ECF6",
           "caxis": {
            "gridcolor": "white",
            "linecolor": "white",
            "ticks": ""
           }
          },
          "title": {
           "x": 0.05
          },
          "xaxis": {
           "automargin": true,
           "gridcolor": "white",
           "linecolor": "white",
           "ticks": "",
           "title": {
            "standoff": 15
           },
           "zerolinecolor": "white",
           "zerolinewidth": 2
          },
          "yaxis": {
           "automargin": true,
           "gridcolor": "white",
           "linecolor": "white",
           "ticks": "",
           "title": {
            "standoff": 15
           },
           "zerolinecolor": "white",
           "zerolinewidth": 2
          }
         }
        },
        "xaxis": {
         "anchor": "y",
         "categoryarray": [
          "Yes",
          "No"
         ],
         "categoryorder": "array",
         "domain": [
          0,
          1
         ],
         "title": {
          "text": "Servico_Telefone"
         }
        },
        "yaxis": {
         "anchor": "x",
         "domain": [
          0,
          1
         ],
         "title": {
          "text": "Contagem"
         }
        }
       }
      }
     },
     "metadata": {},
     "output_type": "display_data"
    },
    {
     "data": {
      "application/vnd.plotly.v1+json": {
       "config": {
        "plotlyServerURL": "https://plot.ly"
       },
       "data": [
        {
         "alignmentgroup": "True",
         "hovertemplate": "Casado=%{x}<br>Contagem=%{text}<extra></extra>",
         "legendgroup": "False",
         "marker": {
          "color": "brown",
          "pattern": {
           "shape": ""
          }
         },
         "name": "False",
         "offsetgroup": "False",
         "orientation": "v",
         "showlegend": true,
         "text": [
          1262
         ],
         "textposition": "auto",
         "type": "bar",
         "x": [
          false
         ],
         "xaxis": "x",
         "y": [
          1262
         ],
         "yaxis": "y"
        },
        {
         "alignmentgroup": "True",
         "hovertemplate": "Casado=%{x}<br>Contagem=%{text}<extra></extra>",
         "legendgroup": "True",
         "marker": {
          "color": "lime",
          "pattern": {
           "shape": ""
          }
         },
         "name": "True",
         "offsetgroup": "True",
         "orientation": "v",
         "showlegend": true,
         "text": [
          1226
         ],
         "textposition": "auto",
         "type": "bar",
         "x": [
          true
         ],
         "xaxis": "x",
         "y": [
          1226
         ],
         "yaxis": "y"
        }
       ],
       "layout": {
        "barmode": "relative",
        "legend": {
         "title": {
          "text": "Casado"
         },
         "tracegroupgap": 0
        },
        "margin": {
         "t": 60
        },
        "template": {
         "data": {
          "bar": [
           {
            "error_x": {
             "color": "#2a3f5f"
            },
            "error_y": {
             "color": "#2a3f5f"
            },
            "marker": {
             "line": {
              "color": "#E5ECF6",
              "width": 0.5
             },
             "pattern": {
              "fillmode": "overlay",
              "size": 10,
              "solidity": 0.2
             }
            },
            "type": "bar"
           }
          ],
          "barpolar": [
           {
            "marker": {
             "line": {
              "color": "#E5ECF6",
              "width": 0.5
             },
             "pattern": {
              "fillmode": "overlay",
              "size": 10,
              "solidity": 0.2
             }
            },
            "type": "barpolar"
           }
          ],
          "carpet": [
           {
            "aaxis": {
             "endlinecolor": "#2a3f5f",
             "gridcolor": "white",
             "linecolor": "white",
             "minorgridcolor": "white",
             "startlinecolor": "#2a3f5f"
            },
            "baxis": {
             "endlinecolor": "#2a3f5f",
             "gridcolor": "white",
             "linecolor": "white",
             "minorgridcolor": "white",
             "startlinecolor": "#2a3f5f"
            },
            "type": "carpet"
           }
          ],
          "choropleth": [
           {
            "colorbar": {
             "outlinewidth": 0,
             "ticks": ""
            },
            "type": "choropleth"
           }
          ],
          "contour": [
           {
            "colorbar": {
             "outlinewidth": 0,
             "ticks": ""
            },
            "colorscale": [
             [
              0,
              "#0d0887"
             ],
             [
              0.1111111111111111,
              "#46039f"
             ],
             [
              0.2222222222222222,
              "#7201a8"
             ],
             [
              0.3333333333333333,
              "#9c179e"
             ],
             [
              0.4444444444444444,
              "#bd3786"
             ],
             [
              0.5555555555555556,
              "#d8576b"
             ],
             [
              0.6666666666666666,
              "#ed7953"
             ],
             [
              0.7777777777777778,
              "#fb9f3a"
             ],
             [
              0.8888888888888888,
              "#fdca26"
             ],
             [
              1,
              "#f0f921"
             ]
            ],
            "type": "contour"
           }
          ],
          "contourcarpet": [
           {
            "colorbar": {
             "outlinewidth": 0,
             "ticks": ""
            },
            "type": "contourcarpet"
           }
          ],
          "heatmap": [
           {
            "colorbar": {
             "outlinewidth": 0,
             "ticks": ""
            },
            "colorscale": [
             [
              0,
              "#0d0887"
             ],
             [
              0.1111111111111111,
              "#46039f"
             ],
             [
              0.2222222222222222,
              "#7201a8"
             ],
             [
              0.3333333333333333,
              "#9c179e"
             ],
             [
              0.4444444444444444,
              "#bd3786"
             ],
             [
              0.5555555555555556,
              "#d8576b"
             ],
             [
              0.6666666666666666,
              "#ed7953"
             ],
             [
              0.7777777777777778,
              "#fb9f3a"
             ],
             [
              0.8888888888888888,
              "#fdca26"
             ],
             [
              1,
              "#f0f921"
             ]
            ],
            "type": "heatmap"
           }
          ],
          "heatmapgl": [
           {
            "colorbar": {
             "outlinewidth": 0,
             "ticks": ""
            },
            "colorscale": [
             [
              0,
              "#0d0887"
             ],
             [
              0.1111111111111111,
              "#46039f"
             ],
             [
              0.2222222222222222,
              "#7201a8"
             ],
             [
              0.3333333333333333,
              "#9c179e"
             ],
             [
              0.4444444444444444,
              "#bd3786"
             ],
             [
              0.5555555555555556,
              "#d8576b"
             ],
             [
              0.6666666666666666,
              "#ed7953"
             ],
             [
              0.7777777777777778,
              "#fb9f3a"
             ],
             [
              0.8888888888888888,
              "#fdca26"
             ],
             [
              1,
              "#f0f921"
             ]
            ],
            "type": "heatmapgl"
           }
          ],
          "histogram": [
           {
            "marker": {
             "pattern": {
              "fillmode": "overlay",
              "size": 10,
              "solidity": 0.2
             }
            },
            "type": "histogram"
           }
          ],
          "histogram2d": [
           {
            "colorbar": {
             "outlinewidth": 0,
             "ticks": ""
            },
            "colorscale": [
             [
              0,
              "#0d0887"
             ],
             [
              0.1111111111111111,
              "#46039f"
             ],
             [
              0.2222222222222222,
              "#7201a8"
             ],
             [
              0.3333333333333333,
              "#9c179e"
             ],
             [
              0.4444444444444444,
              "#bd3786"
             ],
             [
              0.5555555555555556,
              "#d8576b"
             ],
             [
              0.6666666666666666,
              "#ed7953"
             ],
             [
              0.7777777777777778,
              "#fb9f3a"
             ],
             [
              0.8888888888888888,
              "#fdca26"
             ],
             [
              1,
              "#f0f921"
             ]
            ],
            "type": "histogram2d"
           }
          ],
          "histogram2dcontour": [
           {
            "colorbar": {
             "outlinewidth": 0,
             "ticks": ""
            },
            "colorscale": [
             [
              0,
              "#0d0887"
             ],
             [
              0.1111111111111111,
              "#46039f"
             ],
             [
              0.2222222222222222,
              "#7201a8"
             ],
             [
              0.3333333333333333,
              "#9c179e"
             ],
             [
              0.4444444444444444,
              "#bd3786"
             ],
             [
              0.5555555555555556,
              "#d8576b"
             ],
             [
              0.6666666666666666,
              "#ed7953"
             ],
             [
              0.7777777777777778,
              "#fb9f3a"
             ],
             [
              0.8888888888888888,
              "#fdca26"
             ],
             [
              1,
              "#f0f921"
             ]
            ],
            "type": "histogram2dcontour"
           }
          ],
          "mesh3d": [
           {
            "colorbar": {
             "outlinewidth": 0,
             "ticks": ""
            },
            "type": "mesh3d"
           }
          ],
          "parcoords": [
           {
            "line": {
             "colorbar": {
              "outlinewidth": 0,
              "ticks": ""
             }
            },
            "type": "parcoords"
           }
          ],
          "pie": [
           {
            "automargin": true,
            "type": "pie"
           }
          ],
          "scatter": [
           {
            "fillpattern": {
             "fillmode": "overlay",
             "size": 10,
             "solidity": 0.2
            },
            "type": "scatter"
           }
          ],
          "scatter3d": [
           {
            "line": {
             "colorbar": {
              "outlinewidth": 0,
              "ticks": ""
             }
            },
            "marker": {
             "colorbar": {
              "outlinewidth": 0,
              "ticks": ""
             }
            },
            "type": "scatter3d"
           }
          ],
          "scattercarpet": [
           {
            "marker": {
             "colorbar": {
              "outlinewidth": 0,
              "ticks": ""
             }
            },
            "type": "scattercarpet"
           }
          ],
          "scattergeo": [
           {
            "marker": {
             "colorbar": {
              "outlinewidth": 0,
              "ticks": ""
             }
            },
            "type": "scattergeo"
           }
          ],
          "scattergl": [
           {
            "marker": {
             "colorbar": {
              "outlinewidth": 0,
              "ticks": ""
             }
            },
            "type": "scattergl"
           }
          ],
          "scattermapbox": [
           {
            "marker": {
             "colorbar": {
              "outlinewidth": 0,
              "ticks": ""
             }
            },
            "type": "scattermapbox"
           }
          ],
          "scatterpolar": [
           {
            "marker": {
             "colorbar": {
              "outlinewidth": 0,
              "ticks": ""
             }
            },
            "type": "scatterpolar"
           }
          ],
          "scatterpolargl": [
           {
            "marker": {
             "colorbar": {
              "outlinewidth": 0,
              "ticks": ""
             }
            },
            "type": "scatterpolargl"
           }
          ],
          "scatterternary": [
           {
            "marker": {
             "colorbar": {
              "outlinewidth": 0,
              "ticks": ""
             }
            },
            "type": "scatterternary"
           }
          ],
          "surface": [
           {
            "colorbar": {
             "outlinewidth": 0,
             "ticks": ""
            },
            "colorscale": [
             [
              0,
              "#0d0887"
             ],
             [
              0.1111111111111111,
              "#46039f"
             ],
             [
              0.2222222222222222,
              "#7201a8"
             ],
             [
              0.3333333333333333,
              "#9c179e"
             ],
             [
              0.4444444444444444,
              "#bd3786"
             ],
             [
              0.5555555555555556,
              "#d8576b"
             ],
             [
              0.6666666666666666,
              "#ed7953"
             ],
             [
              0.7777777777777778,
              "#fb9f3a"
             ],
             [
              0.8888888888888888,
              "#fdca26"
             ],
             [
              1,
              "#f0f921"
             ]
            ],
            "type": "surface"
           }
          ],
          "table": [
           {
            "cells": {
             "fill": {
              "color": "#EBF0F8"
             },
             "line": {
              "color": "white"
             }
            },
            "header": {
             "fill": {
              "color": "#C8D4E3"
             },
             "line": {
              "color": "white"
             }
            },
            "type": "table"
           }
          ]
         },
         "layout": {
          "annotationdefaults": {
           "arrowcolor": "#2a3f5f",
           "arrowhead": 0,
           "arrowwidth": 1
          },
          "autotypenumbers": "strict",
          "coloraxis": {
           "colorbar": {
            "outlinewidth": 0,
            "ticks": ""
           }
          },
          "colorscale": {
           "diverging": [
            [
             0,
             "#8e0152"
            ],
            [
             0.1,
             "#c51b7d"
            ],
            [
             0.2,
             "#de77ae"
            ],
            [
             0.3,
             "#f1b6da"
            ],
            [
             0.4,
             "#fde0ef"
            ],
            [
             0.5,
             "#f7f7f7"
            ],
            [
             0.6,
             "#e6f5d0"
            ],
            [
             0.7,
             "#b8e186"
            ],
            [
             0.8,
             "#7fbc41"
            ],
            [
             0.9,
             "#4d9221"
            ],
            [
             1,
             "#276419"
            ]
           ],
           "sequential": [
            [
             0,
             "#0d0887"
            ],
            [
             0.1111111111111111,
             "#46039f"
            ],
            [
             0.2222222222222222,
             "#7201a8"
            ],
            [
             0.3333333333333333,
             "#9c179e"
            ],
            [
             0.4444444444444444,
             "#bd3786"
            ],
            [
             0.5555555555555556,
             "#d8576b"
            ],
            [
             0.6666666666666666,
             "#ed7953"
            ],
            [
             0.7777777777777778,
             "#fb9f3a"
            ],
            [
             0.8888888888888888,
             "#fdca26"
            ],
            [
             1,
             "#f0f921"
            ]
           ],
           "sequentialminus": [
            [
             0,
             "#0d0887"
            ],
            [
             0.1111111111111111,
             "#46039f"
            ],
            [
             0.2222222222222222,
             "#7201a8"
            ],
            [
             0.3333333333333333,
             "#9c179e"
            ],
            [
             0.4444444444444444,
             "#bd3786"
            ],
            [
             0.5555555555555556,
             "#d8576b"
            ],
            [
             0.6666666666666666,
             "#ed7953"
            ],
            [
             0.7777777777777778,
             "#fb9f3a"
            ],
            [
             0.8888888888888888,
             "#fdca26"
            ],
            [
             1,
             "#f0f921"
            ]
           ]
          },
          "colorway": [
           "#636efa",
           "#EF553B",
           "#00cc96",
           "#ab63fa",
           "#FFA15A",
           "#19d3f3",
           "#FF6692",
           "#B6E880",
           "#FF97FF",
           "#FECB52"
          ],
          "font": {
           "color": "#2a3f5f"
          },
          "geo": {
           "bgcolor": "white",
           "lakecolor": "white",
           "landcolor": "#E5ECF6",
           "showlakes": true,
           "showland": true,
           "subunitcolor": "white"
          },
          "hoverlabel": {
           "align": "left"
          },
          "hovermode": "closest",
          "mapbox": {
           "style": "light"
          },
          "paper_bgcolor": "white",
          "plot_bgcolor": "#E5ECF6",
          "polar": {
           "angularaxis": {
            "gridcolor": "white",
            "linecolor": "white",
            "ticks": ""
           },
           "bgcolor": "#E5ECF6",
           "radialaxis": {
            "gridcolor": "white",
            "linecolor": "white",
            "ticks": ""
           }
          },
          "scene": {
           "xaxis": {
            "backgroundcolor": "#E5ECF6",
            "gridcolor": "white",
            "gridwidth": 2,
            "linecolor": "white",
            "showbackground": true,
            "ticks": "",
            "zerolinecolor": "white"
           },
           "yaxis": {
            "backgroundcolor": "#E5ECF6",
            "gridcolor": "white",
            "gridwidth": 2,
            "linecolor": "white",
            "showbackground": true,
            "ticks": "",
            "zerolinecolor": "white"
           },
           "zaxis": {
            "backgroundcolor": "#E5ECF6",
            "gridcolor": "white",
            "gridwidth": 2,
            "linecolor": "white",
            "showbackground": true,
            "ticks": "",
            "zerolinecolor": "white"
           }
          },
          "shapedefaults": {
           "line": {
            "color": "#2a3f5f"
           }
          },
          "ternary": {
           "aaxis": {
            "gridcolor": "white",
            "linecolor": "white",
            "ticks": ""
           },
           "baxis": {
            "gridcolor": "white",
            "linecolor": "white",
            "ticks": ""
           },
           "bgcolor": "#E5ECF6",
           "caxis": {
            "gridcolor": "white",
            "linecolor": "white",
            "ticks": ""
           }
          },
          "title": {
           "x": 0.05
          },
          "xaxis": {
           "automargin": true,
           "gridcolor": "white",
           "linecolor": "white",
           "ticks": "",
           "title": {
            "standoff": 15
           },
           "zerolinecolor": "white",
           "zerolinewidth": 2
          },
          "yaxis": {
           "automargin": true,
           "gridcolor": "white",
           "linecolor": "white",
           "ticks": "",
           "title": {
            "standoff": 15
           },
           "zerolinecolor": "white",
           "zerolinewidth": 2
          }
         }
        },
        "xaxis": {
         "anchor": "y",
         "categoryarray": [
          false,
          true
         ],
         "categoryorder": "array",
         "domain": [
          0,
          1
         ],
         "title": {
          "text": "Casado"
         }
        },
        "yaxis": {
         "anchor": "x",
         "domain": [
          0,
          1
         ],
         "title": {
          "text": "Contagem"
         }
        }
       }
      }
     },
     "metadata": {},
     "output_type": "display_data"
    },
    {
     "data": {
      "application/vnd.plotly.v1+json": {
       "config": {
        "plotlyServerURL": "https://plot.ly"
       },
       "data": [
        {
         "alignmentgroup": "True",
         "hovertemplate": "Dependentes=%{x}<br>Contagem=%{text}<extra></extra>",
         "legendgroup": "False",
         "marker": {
          "color": "navy",
          "pattern": {
           "shape": ""
          }
         },
         "name": "False",
         "offsetgroup": "False",
         "orientation": "v",
         "showlegend": true,
         "text": [
          1705
         ],
         "textposition": "auto",
         "type": "bar",
         "x": [
          false
         ],
         "xaxis": "x",
         "y": [
          1705
         ],
         "yaxis": "y"
        },
        {
         "alignmentgroup": "True",
         "hovertemplate": "Dependentes=%{x}<br>Contagem=%{text}<extra></extra>",
         "legendgroup": "True",
         "marker": {
          "color": "gold",
          "pattern": {
           "shape": ""
          }
         },
         "name": "True",
         "offsetgroup": "True",
         "orientation": "v",
         "showlegend": true,
         "text": [
          783
         ],
         "textposition": "auto",
         "type": "bar",
         "x": [
          true
         ],
         "xaxis": "x",
         "y": [
          783
         ],
         "yaxis": "y"
        }
       ],
       "layout": {
        "barmode": "relative",
        "legend": {
         "title": {
          "text": "Dependentes"
         },
         "tracegroupgap": 0
        },
        "margin": {
         "t": 60
        },
        "template": {
         "data": {
          "bar": [
           {
            "error_x": {
             "color": "#2a3f5f"
            },
            "error_y": {
             "color": "#2a3f5f"
            },
            "marker": {
             "line": {
              "color": "#E5ECF6",
              "width": 0.5
             },
             "pattern": {
              "fillmode": "overlay",
              "size": 10,
              "solidity": 0.2
             }
            },
            "type": "bar"
           }
          ],
          "barpolar": [
           {
            "marker": {
             "line": {
              "color": "#E5ECF6",
              "width": 0.5
             },
             "pattern": {
              "fillmode": "overlay",
              "size": 10,
              "solidity": 0.2
             }
            },
            "type": "barpolar"
           }
          ],
          "carpet": [
           {
            "aaxis": {
             "endlinecolor": "#2a3f5f",
             "gridcolor": "white",
             "linecolor": "white",
             "minorgridcolor": "white",
             "startlinecolor": "#2a3f5f"
            },
            "baxis": {
             "endlinecolor": "#2a3f5f",
             "gridcolor": "white",
             "linecolor": "white",
             "minorgridcolor": "white",
             "startlinecolor": "#2a3f5f"
            },
            "type": "carpet"
           }
          ],
          "choropleth": [
           {
            "colorbar": {
             "outlinewidth": 0,
             "ticks": ""
            },
            "type": "choropleth"
           }
          ],
          "contour": [
           {
            "colorbar": {
             "outlinewidth": 0,
             "ticks": ""
            },
            "colorscale": [
             [
              0,
              "#0d0887"
             ],
             [
              0.1111111111111111,
              "#46039f"
             ],
             [
              0.2222222222222222,
              "#7201a8"
             ],
             [
              0.3333333333333333,
              "#9c179e"
             ],
             [
              0.4444444444444444,
              "#bd3786"
             ],
             [
              0.5555555555555556,
              "#d8576b"
             ],
             [
              0.6666666666666666,
              "#ed7953"
             ],
             [
              0.7777777777777778,
              "#fb9f3a"
             ],
             [
              0.8888888888888888,
              "#fdca26"
             ],
             [
              1,
              "#f0f921"
             ]
            ],
            "type": "contour"
           }
          ],
          "contourcarpet": [
           {
            "colorbar": {
             "outlinewidth": 0,
             "ticks": ""
            },
            "type": "contourcarpet"
           }
          ],
          "heatmap": [
           {
            "colorbar": {
             "outlinewidth": 0,
             "ticks": ""
            },
            "colorscale": [
             [
              0,
              "#0d0887"
             ],
             [
              0.1111111111111111,
              "#46039f"
             ],
             [
              0.2222222222222222,
              "#7201a8"
             ],
             [
              0.3333333333333333,
              "#9c179e"
             ],
             [
              0.4444444444444444,
              "#bd3786"
             ],
             [
              0.5555555555555556,
              "#d8576b"
             ],
             [
              0.6666666666666666,
              "#ed7953"
             ],
             [
              0.7777777777777778,
              "#fb9f3a"
             ],
             [
              0.8888888888888888,
              "#fdca26"
             ],
             [
              1,
              "#f0f921"
             ]
            ],
            "type": "heatmap"
           }
          ],
          "heatmapgl": [
           {
            "colorbar": {
             "outlinewidth": 0,
             "ticks": ""
            },
            "colorscale": [
             [
              0,
              "#0d0887"
             ],
             [
              0.1111111111111111,
              "#46039f"
             ],
             [
              0.2222222222222222,
              "#7201a8"
             ],
             [
              0.3333333333333333,
              "#9c179e"
             ],
             [
              0.4444444444444444,
              "#bd3786"
             ],
             [
              0.5555555555555556,
              "#d8576b"
             ],
             [
              0.6666666666666666,
              "#ed7953"
             ],
             [
              0.7777777777777778,
              "#fb9f3a"
             ],
             [
              0.8888888888888888,
              "#fdca26"
             ],
             [
              1,
              "#f0f921"
             ]
            ],
            "type": "heatmapgl"
           }
          ],
          "histogram": [
           {
            "marker": {
             "pattern": {
              "fillmode": "overlay",
              "size": 10,
              "solidity": 0.2
             }
            },
            "type": "histogram"
           }
          ],
          "histogram2d": [
           {
            "colorbar": {
             "outlinewidth": 0,
             "ticks": ""
            },
            "colorscale": [
             [
              0,
              "#0d0887"
             ],
             [
              0.1111111111111111,
              "#46039f"
             ],
             [
              0.2222222222222222,
              "#7201a8"
             ],
             [
              0.3333333333333333,
              "#9c179e"
             ],
             [
              0.4444444444444444,
              "#bd3786"
             ],
             [
              0.5555555555555556,
              "#d8576b"
             ],
             [
              0.6666666666666666,
              "#ed7953"
             ],
             [
              0.7777777777777778,
              "#fb9f3a"
             ],
             [
              0.8888888888888888,
              "#fdca26"
             ],
             [
              1,
              "#f0f921"
             ]
            ],
            "type": "histogram2d"
           }
          ],
          "histogram2dcontour": [
           {
            "colorbar": {
             "outlinewidth": 0,
             "ticks": ""
            },
            "colorscale": [
             [
              0,
              "#0d0887"
             ],
             [
              0.1111111111111111,
              "#46039f"
             ],
             [
              0.2222222222222222,
              "#7201a8"
             ],
             [
              0.3333333333333333,
              "#9c179e"
             ],
             [
              0.4444444444444444,
              "#bd3786"
             ],
             [
              0.5555555555555556,
              "#d8576b"
             ],
             [
              0.6666666666666666,
              "#ed7953"
             ],
             [
              0.7777777777777778,
              "#fb9f3a"
             ],
             [
              0.8888888888888888,
              "#fdca26"
             ],
             [
              1,
              "#f0f921"
             ]
            ],
            "type": "histogram2dcontour"
           }
          ],
          "mesh3d": [
           {
            "colorbar": {
             "outlinewidth": 0,
             "ticks": ""
            },
            "type": "mesh3d"
           }
          ],
          "parcoords": [
           {
            "line": {
             "colorbar": {
              "outlinewidth": 0,
              "ticks": ""
             }
            },
            "type": "parcoords"
           }
          ],
          "pie": [
           {
            "automargin": true,
            "type": "pie"
           }
          ],
          "scatter": [
           {
            "fillpattern": {
             "fillmode": "overlay",
             "size": 10,
             "solidity": 0.2
            },
            "type": "scatter"
           }
          ],
          "scatter3d": [
           {
            "line": {
             "colorbar": {
              "outlinewidth": 0,
              "ticks": ""
             }
            },
            "marker": {
             "colorbar": {
              "outlinewidth": 0,
              "ticks": ""
             }
            },
            "type": "scatter3d"
           }
          ],
          "scattercarpet": [
           {
            "marker": {
             "colorbar": {
              "outlinewidth": 0,
              "ticks": ""
             }
            },
            "type": "scattercarpet"
           }
          ],
          "scattergeo": [
           {
            "marker": {
             "colorbar": {
              "outlinewidth": 0,
              "ticks": ""
             }
            },
            "type": "scattergeo"
           }
          ],
          "scattergl": [
           {
            "marker": {
             "colorbar": {
              "outlinewidth": 0,
              "ticks": ""
             }
            },
            "type": "scattergl"
           }
          ],
          "scattermapbox": [
           {
            "marker": {
             "colorbar": {
              "outlinewidth": 0,
              "ticks": ""
             }
            },
            "type": "scattermapbox"
           }
          ],
          "scatterpolar": [
           {
            "marker": {
             "colorbar": {
              "outlinewidth": 0,
              "ticks": ""
             }
            },
            "type": "scatterpolar"
           }
          ],
          "scatterpolargl": [
           {
            "marker": {
             "colorbar": {
              "outlinewidth": 0,
              "ticks": ""
             }
            },
            "type": "scatterpolargl"
           }
          ],
          "scatterternary": [
           {
            "marker": {
             "colorbar": {
              "outlinewidth": 0,
              "ticks": ""
             }
            },
            "type": "scatterternary"
           }
          ],
          "surface": [
           {
            "colorbar": {
             "outlinewidth": 0,
             "ticks": ""
            },
            "colorscale": [
             [
              0,
              "#0d0887"
             ],
             [
              0.1111111111111111,
              "#46039f"
             ],
             [
              0.2222222222222222,
              "#7201a8"
             ],
             [
              0.3333333333333333,
              "#9c179e"
             ],
             [
              0.4444444444444444,
              "#bd3786"
             ],
             [
              0.5555555555555556,
              "#d8576b"
             ],
             [
              0.6666666666666666,
              "#ed7953"
             ],
             [
              0.7777777777777778,
              "#fb9f3a"
             ],
             [
              0.8888888888888888,
              "#fdca26"
             ],
             [
              1,
              "#f0f921"
             ]
            ],
            "type": "surface"
           }
          ],
          "table": [
           {
            "cells": {
             "fill": {
              "color": "#EBF0F8"
             },
             "line": {
              "color": "white"
             }
            },
            "header": {
             "fill": {
              "color": "#C8D4E3"
             },
             "line": {
              "color": "white"
             }
            },
            "type": "table"
           }
          ]
         },
         "layout": {
          "annotationdefaults": {
           "arrowcolor": "#2a3f5f",
           "arrowhead": 0,
           "arrowwidth": 1
          },
          "autotypenumbers": "strict",
          "coloraxis": {
           "colorbar": {
            "outlinewidth": 0,
            "ticks": ""
           }
          },
          "colorscale": {
           "diverging": [
            [
             0,
             "#8e0152"
            ],
            [
             0.1,
             "#c51b7d"
            ],
            [
             0.2,
             "#de77ae"
            ],
            [
             0.3,
             "#f1b6da"
            ],
            [
             0.4,
             "#fde0ef"
            ],
            [
             0.5,
             "#f7f7f7"
            ],
            [
             0.6,
             "#e6f5d0"
            ],
            [
             0.7,
             "#b8e186"
            ],
            [
             0.8,
             "#7fbc41"
            ],
            [
             0.9,
             "#4d9221"
            ],
            [
             1,
             "#276419"
            ]
           ],
           "sequential": [
            [
             0,
             "#0d0887"
            ],
            [
             0.1111111111111111,
             "#46039f"
            ],
            [
             0.2222222222222222,
             "#7201a8"
            ],
            [
             0.3333333333333333,
             "#9c179e"
            ],
            [
             0.4444444444444444,
             "#bd3786"
            ],
            [
             0.5555555555555556,
             "#d8576b"
            ],
            [
             0.6666666666666666,
             "#ed7953"
            ],
            [
             0.7777777777777778,
             "#fb9f3a"
            ],
            [
             0.8888888888888888,
             "#fdca26"
            ],
            [
             1,
             "#f0f921"
            ]
           ],
           "sequentialminus": [
            [
             0,
             "#0d0887"
            ],
            [
             0.1111111111111111,
             "#46039f"
            ],
            [
             0.2222222222222222,
             "#7201a8"
            ],
            [
             0.3333333333333333,
             "#9c179e"
            ],
            [
             0.4444444444444444,
             "#bd3786"
            ],
            [
             0.5555555555555556,
             "#d8576b"
            ],
            [
             0.6666666666666666,
             "#ed7953"
            ],
            [
             0.7777777777777778,
             "#fb9f3a"
            ],
            [
             0.8888888888888888,
             "#fdca26"
            ],
            [
             1,
             "#f0f921"
            ]
           ]
          },
          "colorway": [
           "#636efa",
           "#EF553B",
           "#00cc96",
           "#ab63fa",
           "#FFA15A",
           "#19d3f3",
           "#FF6692",
           "#B6E880",
           "#FF97FF",
           "#FECB52"
          ],
          "font": {
           "color": "#2a3f5f"
          },
          "geo": {
           "bgcolor": "white",
           "lakecolor": "white",
           "landcolor": "#E5ECF6",
           "showlakes": true,
           "showland": true,
           "subunitcolor": "white"
          },
          "hoverlabel": {
           "align": "left"
          },
          "hovermode": "closest",
          "mapbox": {
           "style": "light"
          },
          "paper_bgcolor": "white",
          "plot_bgcolor": "#E5ECF6",
          "polar": {
           "angularaxis": {
            "gridcolor": "white",
            "linecolor": "white",
            "ticks": ""
           },
           "bgcolor": "#E5ECF6",
           "radialaxis": {
            "gridcolor": "white",
            "linecolor": "white",
            "ticks": ""
           }
          },
          "scene": {
           "xaxis": {
            "backgroundcolor": "#E5ECF6",
            "gridcolor": "white",
            "gridwidth": 2,
            "linecolor": "white",
            "showbackground": true,
            "ticks": "",
            "zerolinecolor": "white"
           },
           "yaxis": {
            "backgroundcolor": "#E5ECF6",
            "gridcolor": "white",
            "gridwidth": 2,
            "linecolor": "white",
            "showbackground": true,
            "ticks": "",
            "zerolinecolor": "white"
           },
           "zaxis": {
            "backgroundcolor": "#E5ECF6",
            "gridcolor": "white",
            "gridwidth": 2,
            "linecolor": "white",
            "showbackground": true,
            "ticks": "",
            "zerolinecolor": "white"
           }
          },
          "shapedefaults": {
           "line": {
            "color": "#2a3f5f"
           }
          },
          "ternary": {
           "aaxis": {
            "gridcolor": "white",
            "linecolor": "white",
            "ticks": ""
           },
           "baxis": {
            "gridcolor": "white",
            "linecolor": "white",
            "ticks": ""
           },
           "bgcolor": "#E5ECF6",
           "caxis": {
            "gridcolor": "white",
            "linecolor": "white",
            "ticks": ""
           }
          },
          "title": {
           "x": 0.05
          },
          "xaxis": {
           "automargin": true,
           "gridcolor": "white",
           "linecolor": "white",
           "ticks": "",
           "title": {
            "standoff": 15
           },
           "zerolinecolor": "white",
           "zerolinewidth": 2
          },
          "yaxis": {
           "automargin": true,
           "gridcolor": "white",
           "linecolor": "white",
           "ticks": "",
           "title": {
            "standoff": 15
           },
           "zerolinecolor": "white",
           "zerolinewidth": 2
          }
         }
        },
        "xaxis": {
         "anchor": "y",
         "categoryarray": [
          false,
          true
         ],
         "categoryorder": "array",
         "domain": [
          0,
          1
         ],
         "title": {
          "text": "Dependentes"
         }
        },
        "yaxis": {
         "anchor": "x",
         "domain": [
          0,
          1
         ],
         "title": {
          "text": "Contagem"
         }
        }
       }
      }
     },
     "metadata": {},
     "output_type": "display_data"
    },
    {
     "data": {
      "application/vnd.plotly.v1+json": {
       "config": {
        "plotlyServerURL": "https://plot.ly"
       },
       "data": [
        {
         "alignmentgroup": "True",
         "hovertemplate": "Churn=%{x}<br>Contagem=%{text}<extra></extra>",
         "legendgroup": "No",
         "marker": {
          "color": "#00cc96",
          "pattern": {
           "shape": ""
          }
         },
         "name": "No",
         "offsetgroup": "No",
         "orientation": "v",
         "showlegend": true,
         "text": [
          1841
         ],
         "textposition": "auto",
         "type": "bar",
         "x": [
          "No"
         ],
         "xaxis": "x",
         "y": [
          1841
         ],
         "yaxis": "y"
        },
        {
         "alignmentgroup": "True",
         "hovertemplate": "Churn=%{x}<br>Contagem=%{text}<extra></extra>",
         "legendgroup": "Yes",
         "marker": {
          "color": "#ab63fa",
          "pattern": {
           "shape": ""
          }
         },
         "name": "Yes",
         "offsetgroup": "Yes",
         "orientation": "v",
         "showlegend": true,
         "text": [
          647
         ],
         "textposition": "auto",
         "type": "bar",
         "x": [
          "Yes"
         ],
         "xaxis": "x",
         "y": [
          647
         ],
         "yaxis": "y"
        }
       ],
       "layout": {
        "barmode": "relative",
        "legend": {
         "title": {
          "text": "Churn"
         },
         "tracegroupgap": 0
        },
        "margin": {
         "t": 60
        },
        "template": {
         "data": {
          "bar": [
           {
            "error_x": {
             "color": "#2a3f5f"
            },
            "error_y": {
             "color": "#2a3f5f"
            },
            "marker": {
             "line": {
              "color": "#E5ECF6",
              "width": 0.5
             },
             "pattern": {
              "fillmode": "overlay",
              "size": 10,
              "solidity": 0.2
             }
            },
            "type": "bar"
           }
          ],
          "barpolar": [
           {
            "marker": {
             "line": {
              "color": "#E5ECF6",
              "width": 0.5
             },
             "pattern": {
              "fillmode": "overlay",
              "size": 10,
              "solidity": 0.2
             }
            },
            "type": "barpolar"
           }
          ],
          "carpet": [
           {
            "aaxis": {
             "endlinecolor": "#2a3f5f",
             "gridcolor": "white",
             "linecolor": "white",
             "minorgridcolor": "white",
             "startlinecolor": "#2a3f5f"
            },
            "baxis": {
             "endlinecolor": "#2a3f5f",
             "gridcolor": "white",
             "linecolor": "white",
             "minorgridcolor": "white",
             "startlinecolor": "#2a3f5f"
            },
            "type": "carpet"
           }
          ],
          "choropleth": [
           {
            "colorbar": {
             "outlinewidth": 0,
             "ticks": ""
            },
            "type": "choropleth"
           }
          ],
          "contour": [
           {
            "colorbar": {
             "outlinewidth": 0,
             "ticks": ""
            },
            "colorscale": [
             [
              0,
              "#0d0887"
             ],
             [
              0.1111111111111111,
              "#46039f"
             ],
             [
              0.2222222222222222,
              "#7201a8"
             ],
             [
              0.3333333333333333,
              "#9c179e"
             ],
             [
              0.4444444444444444,
              "#bd3786"
             ],
             [
              0.5555555555555556,
              "#d8576b"
             ],
             [
              0.6666666666666666,
              "#ed7953"
             ],
             [
              0.7777777777777778,
              "#fb9f3a"
             ],
             [
              0.8888888888888888,
              "#fdca26"
             ],
             [
              1,
              "#f0f921"
             ]
            ],
            "type": "contour"
           }
          ],
          "contourcarpet": [
           {
            "colorbar": {
             "outlinewidth": 0,
             "ticks": ""
            },
            "type": "contourcarpet"
           }
          ],
          "heatmap": [
           {
            "colorbar": {
             "outlinewidth": 0,
             "ticks": ""
            },
            "colorscale": [
             [
              0,
              "#0d0887"
             ],
             [
              0.1111111111111111,
              "#46039f"
             ],
             [
              0.2222222222222222,
              "#7201a8"
             ],
             [
              0.3333333333333333,
              "#9c179e"
             ],
             [
              0.4444444444444444,
              "#bd3786"
             ],
             [
              0.5555555555555556,
              "#d8576b"
             ],
             [
              0.6666666666666666,
              "#ed7953"
             ],
             [
              0.7777777777777778,
              "#fb9f3a"
             ],
             [
              0.8888888888888888,
              "#fdca26"
             ],
             [
              1,
              "#f0f921"
             ]
            ],
            "type": "heatmap"
           }
          ],
          "heatmapgl": [
           {
            "colorbar": {
             "outlinewidth": 0,
             "ticks": ""
            },
            "colorscale": [
             [
              0,
              "#0d0887"
             ],
             [
              0.1111111111111111,
              "#46039f"
             ],
             [
              0.2222222222222222,
              "#7201a8"
             ],
             [
              0.3333333333333333,
              "#9c179e"
             ],
             [
              0.4444444444444444,
              "#bd3786"
             ],
             [
              0.5555555555555556,
              "#d8576b"
             ],
             [
              0.6666666666666666,
              "#ed7953"
             ],
             [
              0.7777777777777778,
              "#fb9f3a"
             ],
             [
              0.8888888888888888,
              "#fdca26"
             ],
             [
              1,
              "#f0f921"
             ]
            ],
            "type": "heatmapgl"
           }
          ],
          "histogram": [
           {
            "marker": {
             "pattern": {
              "fillmode": "overlay",
              "size": 10,
              "solidity": 0.2
             }
            },
            "type": "histogram"
           }
          ],
          "histogram2d": [
           {
            "colorbar": {
             "outlinewidth": 0,
             "ticks": ""
            },
            "colorscale": [
             [
              0,
              "#0d0887"
             ],
             [
              0.1111111111111111,
              "#46039f"
             ],
             [
              0.2222222222222222,
              "#7201a8"
             ],
             [
              0.3333333333333333,
              "#9c179e"
             ],
             [
              0.4444444444444444,
              "#bd3786"
             ],
             [
              0.5555555555555556,
              "#d8576b"
             ],
             [
              0.6666666666666666,
              "#ed7953"
             ],
             [
              0.7777777777777778,
              "#fb9f3a"
             ],
             [
              0.8888888888888888,
              "#fdca26"
             ],
             [
              1,
              "#f0f921"
             ]
            ],
            "type": "histogram2d"
           }
          ],
          "histogram2dcontour": [
           {
            "colorbar": {
             "outlinewidth": 0,
             "ticks": ""
            },
            "colorscale": [
             [
              0,
              "#0d0887"
             ],
             [
              0.1111111111111111,
              "#46039f"
             ],
             [
              0.2222222222222222,
              "#7201a8"
             ],
             [
              0.3333333333333333,
              "#9c179e"
             ],
             [
              0.4444444444444444,
              "#bd3786"
             ],
             [
              0.5555555555555556,
              "#d8576b"
             ],
             [
              0.6666666666666666,
              "#ed7953"
             ],
             [
              0.7777777777777778,
              "#fb9f3a"
             ],
             [
              0.8888888888888888,
              "#fdca26"
             ],
             [
              1,
              "#f0f921"
             ]
            ],
            "type": "histogram2dcontour"
           }
          ],
          "mesh3d": [
           {
            "colorbar": {
             "outlinewidth": 0,
             "ticks": ""
            },
            "type": "mesh3d"
           }
          ],
          "parcoords": [
           {
            "line": {
             "colorbar": {
              "outlinewidth": 0,
              "ticks": ""
             }
            },
            "type": "parcoords"
           }
          ],
          "pie": [
           {
            "automargin": true,
            "type": "pie"
           }
          ],
          "scatter": [
           {
            "fillpattern": {
             "fillmode": "overlay",
             "size": 10,
             "solidity": 0.2
            },
            "type": "scatter"
           }
          ],
          "scatter3d": [
           {
            "line": {
             "colorbar": {
              "outlinewidth": 0,
              "ticks": ""
             }
            },
            "marker": {
             "colorbar": {
              "outlinewidth": 0,
              "ticks": ""
             }
            },
            "type": "scatter3d"
           }
          ],
          "scattercarpet": [
           {
            "marker": {
             "colorbar": {
              "outlinewidth": 0,
              "ticks": ""
             }
            },
            "type": "scattercarpet"
           }
          ],
          "scattergeo": [
           {
            "marker": {
             "colorbar": {
              "outlinewidth": 0,
              "ticks": ""
             }
            },
            "type": "scattergeo"
           }
          ],
          "scattergl": [
           {
            "marker": {
             "colorbar": {
              "outlinewidth": 0,
              "ticks": ""
             }
            },
            "type": "scattergl"
           }
          ],
          "scattermapbox": [
           {
            "marker": {
             "colorbar": {
              "outlinewidth": 0,
              "ticks": ""
             }
            },
            "type": "scattermapbox"
           }
          ],
          "scatterpolar": [
           {
            "marker": {
             "colorbar": {
              "outlinewidth": 0,
              "ticks": ""
             }
            },
            "type": "scatterpolar"
           }
          ],
          "scatterpolargl": [
           {
            "marker": {
             "colorbar": {
              "outlinewidth": 0,
              "ticks": ""
             }
            },
            "type": "scatterpolargl"
           }
          ],
          "scatterternary": [
           {
            "marker": {
             "colorbar": {
              "outlinewidth": 0,
              "ticks": ""
             }
            },
            "type": "scatterternary"
           }
          ],
          "surface": [
           {
            "colorbar": {
             "outlinewidth": 0,
             "ticks": ""
            },
            "colorscale": [
             [
              0,
              "#0d0887"
             ],
             [
              0.1111111111111111,
              "#46039f"
             ],
             [
              0.2222222222222222,
              "#7201a8"
             ],
             [
              0.3333333333333333,
              "#9c179e"
             ],
             [
              0.4444444444444444,
              "#bd3786"
             ],
             [
              0.5555555555555556,
              "#d8576b"
             ],
             [
              0.6666666666666666,
              "#ed7953"
             ],
             [
              0.7777777777777778,
              "#fb9f3a"
             ],
             [
              0.8888888888888888,
              "#fdca26"
             ],
             [
              1,
              "#f0f921"
             ]
            ],
            "type": "surface"
           }
          ],
          "table": [
           {
            "cells": {
             "fill": {
              "color": "#EBF0F8"
             },
             "line": {
              "color": "white"
             }
            },
            "header": {
             "fill": {
              "color": "#C8D4E3"
             },
             "line": {
              "color": "white"
             }
            },
            "type": "table"
           }
          ]
         },
         "layout": {
          "annotationdefaults": {
           "arrowcolor": "#2a3f5f",
           "arrowhead": 0,
           "arrowwidth": 1
          },
          "autotypenumbers": "strict",
          "coloraxis": {
           "colorbar": {
            "outlinewidth": 0,
            "ticks": ""
           }
          },
          "colorscale": {
           "diverging": [
            [
             0,
             "#8e0152"
            ],
            [
             0.1,
             "#c51b7d"
            ],
            [
             0.2,
             "#de77ae"
            ],
            [
             0.3,
             "#f1b6da"
            ],
            [
             0.4,
             "#fde0ef"
            ],
            [
             0.5,
             "#f7f7f7"
            ],
            [
             0.6,
             "#e6f5d0"
            ],
            [
             0.7,
             "#b8e186"
            ],
            [
             0.8,
             "#7fbc41"
            ],
            [
             0.9,
             "#4d9221"
            ],
            [
             1,
             "#276419"
            ]
           ],
           "sequential": [
            [
             0,
             "#0d0887"
            ],
            [
             0.1111111111111111,
             "#46039f"
            ],
            [
             0.2222222222222222,
             "#7201a8"
            ],
            [
             0.3333333333333333,
             "#9c179e"
            ],
            [
             0.4444444444444444,
             "#bd3786"
            ],
            [
             0.5555555555555556,
             "#d8576b"
            ],
            [
             0.6666666666666666,
             "#ed7953"
            ],
            [
             0.7777777777777778,
             "#fb9f3a"
            ],
            [
             0.8888888888888888,
             "#fdca26"
            ],
            [
             1,
             "#f0f921"
            ]
           ],
           "sequentialminus": [
            [
             0,
             "#0d0887"
            ],
            [
             0.1111111111111111,
             "#46039f"
            ],
            [
             0.2222222222222222,
             "#7201a8"
            ],
            [
             0.3333333333333333,
             "#9c179e"
            ],
            [
             0.4444444444444444,
             "#bd3786"
            ],
            [
             0.5555555555555556,
             "#d8576b"
            ],
            [
             0.6666666666666666,
             "#ed7953"
            ],
            [
             0.7777777777777778,
             "#fb9f3a"
            ],
            [
             0.8888888888888888,
             "#fdca26"
            ],
            [
             1,
             "#f0f921"
            ]
           ]
          },
          "colorway": [
           "#636efa",
           "#EF553B",
           "#00cc96",
           "#ab63fa",
           "#FFA15A",
           "#19d3f3",
           "#FF6692",
           "#B6E880",
           "#FF97FF",
           "#FECB52"
          ],
          "font": {
           "color": "#2a3f5f"
          },
          "geo": {
           "bgcolor": "white",
           "lakecolor": "white",
           "landcolor": "#E5ECF6",
           "showlakes": true,
           "showland": true,
           "subunitcolor": "white"
          },
          "hoverlabel": {
           "align": "left"
          },
          "hovermode": "closest",
          "mapbox": {
           "style": "light"
          },
          "paper_bgcolor": "white",
          "plot_bgcolor": "#E5ECF6",
          "polar": {
           "angularaxis": {
            "gridcolor": "white",
            "linecolor": "white",
            "ticks": ""
           },
           "bgcolor": "#E5ECF6",
           "radialaxis": {
            "gridcolor": "white",
            "linecolor": "white",
            "ticks": ""
           }
          },
          "scene": {
           "xaxis": {
            "backgroundcolor": "#E5ECF6",
            "gridcolor": "white",
            "gridwidth": 2,
            "linecolor": "white",
            "showbackground": true,
            "ticks": "",
            "zerolinecolor": "white"
           },
           "yaxis": {
            "backgroundcolor": "#E5ECF6",
            "gridcolor": "white",
            "gridwidth": 2,
            "linecolor": "white",
            "showbackground": true,
            "ticks": "",
            "zerolinecolor": "white"
           },
           "zaxis": {
            "backgroundcolor": "#E5ECF6",
            "gridcolor": "white",
            "gridwidth": 2,
            "linecolor": "white",
            "showbackground": true,
            "ticks": "",
            "zerolinecolor": "white"
           }
          },
          "shapedefaults": {
           "line": {
            "color": "#2a3f5f"
           }
          },
          "ternary": {
           "aaxis": {
            "gridcolor": "white",
            "linecolor": "white",
            "ticks": ""
           },
           "baxis": {
            "gridcolor": "white",
            "linecolor": "white",
            "ticks": ""
           },
           "bgcolor": "#E5ECF6",
           "caxis": {
            "gridcolor": "white",
            "linecolor": "white",
            "ticks": ""
           }
          },
          "title": {
           "x": 0.05
          },
          "xaxis": {
           "automargin": true,
           "gridcolor": "white",
           "linecolor": "white",
           "ticks": "",
           "title": {
            "standoff": 15
           },
           "zerolinecolor": "white",
           "zerolinewidth": 2
          },
          "yaxis": {
           "automargin": true,
           "gridcolor": "white",
           "linecolor": "white",
           "ticks": "",
           "title": {
            "standoff": 15
           },
           "zerolinecolor": "white",
           "zerolinewidth": 2
          }
         }
        },
        "xaxis": {
         "anchor": "y",
         "categoryarray": [
          "No",
          "Yes"
         ],
         "categoryorder": "array",
         "domain": [
          0,
          1
         ],
         "title": {
          "text": "Churn"
         }
        },
        "yaxis": {
         "anchor": "x",
         "domain": [
          0,
          1
         ],
         "title": {
          "text": "Contagem"
         }
        }
       }
      }
     },
     "metadata": {},
     "output_type": "display_data"
    }
   ],
   "source": [
    "# Idosos\n",
    "\n",
    "contagem_idoso = df['Idoso'].value_counts().reset_index()\n",
    "contagem_idoso.columns = ['Idoso', 'Contagem']\n",
    "\n",
    "px.bar(\n",
    "    contagem_idoso,\n",
    "    x='Idoso',\n",
    "    y='Contagem',\n",
    "    color='Idoso',\n",
    "    color_discrete_map={False: 'red', True: 'blue'},\n",
    "    text='Contagem'  # Mostra o número em cima da barra\n",
    ")\n",
    "\n",
    "# Não é balaceado, indicando que os idosos não utilizam muito a marca.\n",
    "\n",
    "# Serviço de telefone\n",
    "\n",
    "contagem_Telefone = df['Servico_Telefone'].value_counts().reset_index()\n",
    "contagem_Telefone.columns = ['Servico_Telefone', 'Contagem']\n",
    "\n",
    "px.bar(\n",
    "    contagem_Telefone,\n",
    "    x='Servico_Telefone',\n",
    "    y='Contagem',\n",
    "    color='Servico_Telefone',\n",
    "    color_discrete_map={False: 'green', True: 'purple'},\n",
    "    text='Contagem'\n",
    ")\n",
    "\n",
    "# Não é balanceado, mas de um forma positiva já que a maioria dos clientes utilizam serviço de telefone\n",
    "\n",
    "# Casados\n",
    "\n",
    "contagem_Casado = df['Casado'].value_counts().reset_index()\n",
    "contagem_Casado.columns = ['Casado', 'Contagem']\n",
    "\n",
    "px.bar(\n",
    "    contagem_Casado,\n",
    "    x='Casado',\n",
    "    y='Contagem',\n",
    "    color='Casado',\n",
    "    color_discrete_map={False: 'brown', True: 'lime'},\n",
    "    text='Contagem' \n",
    ")\n",
    "\n",
    "# Até agora foi o mais balanceado já que a distribuição dos clientes é bem parecida, tendo muitos casados e muitos que não são.\n",
    "\n",
    "# Tem dependentes\n",
    "\n",
    "contagem_Dependentes = df['Dependentes'].value_counts().reset_index()\n",
    "contagem_Dependentes.columns = ['Dependentes', 'Contagem']\n",
    "\n",
    "px.bar(\n",
    "    contagem_Dependentes,\n",
    "    x='Dependentes',\n",
    "    y='Contagem',\n",
    "    color='Dependentes',\n",
    "    color_discrete_map={False: 'navy', True: 'gold'},\n",
    "    text='Contagem' \n",
    ")\n",
    "\n",
    "# Não é balanceados, a maioria não tem dependentes.\n",
    "\n",
    "# Taxa de Churn\n",
    "\n",
    "contagem_Churn = df['Churn'].value_counts().reset_index()\n",
    "contagem_Churn.columns = ['Churn', 'Contagem']\n",
    "\n",
    "px.bar(\n",
    "    contagem_Churn,\n",
    "    x='Churn',\n",
    "    y='Contagem',\n",
    "    color='Churn',\n",
    "    color_discrete_map={False: 'darkorange', True: 'lightblue'},\n",
    "    text='Contagem' \n",
    ")\n",
    "\n",
    "# Não é balanceado mas também em um sentido positivo vistos que a maioria dos clientes não deram churn."
   ]
  },
  {
   "cell_type": "markdown",
   "metadata": {
    "id": "kQ8r3_LVH_EJ"
   },
   "source": [
    "# 3) Identifique e trate as colunas que contém outliers.\n",
    "Caso opte por mante-los ou altera-los justifique sua escolha.\n"
   ]
  },
  {
   "cell_type": "code",
   "execution_count": null,
   "metadata": {
    "id": "hL9I5plcGEAA"
   },
   "outputs": [],
   "source": [
    "# Não encontrei nenhum outlier, Pelo o IQR não mostrou nada alarmante, então fiz apenas correção de um caso (Nesse caso, o pagamento total era o dobro do pagamento mensal e o cliente tinha 0 como tempo como cliente, logo estava errado e a pessoa provavelmente tinha 1), correção pequena, mas muitos dos casos são extremamente possíveis. fazendo que mudar o retirar, fosse arriscado de mais, e poderia atrapalhar mais do que ajudar o modelo de machine learning.\n",
    "df.loc[741, 'Tempo_como_Cliente'] = 1 \n"
   ]
  },
  {
   "cell_type": "markdown",
   "metadata": {
    "id": "l7XwsuFpIWKB"
   },
   "source": [
    "# 4) Realize a etapa da análise bivariada:\n",
    "A) Questione pelo menos 5 informações e traga as respostas utilizando visuais gráficos e insights.\n",
    "\n",
    "\n",
    "B) Quais variáveis você acredita serem as mais importantes para esse projetos relacionadas a variável Churn?"
   ]
  },
  {
   "cell_type": "code",
   "execution_count": null,
   "metadata": {
    "id": "7APnjGTNGHYb"
   },
   "outputs": [],
   "source": [
    "#Seu código aqui"
   ]
  }
 ],
 "metadata": {
  "colab": {
   "provenance": []
  },
  "kernelspec": {
   "display_name": "base",
   "language": "python",
   "name": "python3"
  },
  "language_info": {
   "codemirror_mode": {
    "name": "ipython",
    "version": 3
   },
   "file_extension": ".py",
   "mimetype": "text/x-python",
   "name": "python",
   "nbconvert_exporter": "python",
   "pygments_lexer": "ipython3",
   "version": "3.13.5"
  }
 },
 "nbformat": 4,
 "nbformat_minor": 0
}
